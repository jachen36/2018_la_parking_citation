{
 "cells": [
  {
   "cell_type": "code",
   "execution_count": 1,
   "metadata": {},
   "outputs": [],
   "source": [
    "import numpy as np\n",
    "import pandas as pd\n",
    "\n",
    "import pickle\n",
    "\n",
    "import matplotlib.pyplot as plt\n",
    "%matplotlib inline"
   ]
  },
  {
   "cell_type": "code",
   "execution_count": 83,
   "metadata": {},
   "outputs": [],
   "source": [
    "## Import dataframe from pickle\n",
    "df = pd.read_pickle('dataset/dataframe.pickle', compression='gzip')"
   ]
  },
  {
   "cell_type": "markdown",
   "metadata": {},
   "source": [
    "## Issue Date Time"
   ]
  },
  {
   "cell_type": "code",
   "execution_count": 85,
   "metadata": {},
   "outputs": [
    {
     "data": {
      "text/plain": [
       "2015.0    2181331\n",
       "2016.0    1783038\n",
       "2014.0      39406\n",
       "2017.0      33936\n",
       "2013.0         38\n",
       "2012.0         30\n",
       "2010.0         12\n",
       "2011.0         10\n",
       "Name: issue_date, dtype: int64"
      ]
     },
     "execution_count": 85,
     "metadata": {},
     "output_type": "execute_result"
    }
   ],
   "source": [
    "## Count tickets per year\n",
    "df.issue_date.dt.year.value_counts()"
   ]
  },
  {
   "cell_type": "code",
   "execution_count": 86,
   "metadata": {},
   "outputs": [],
   "source": [
    "## Only 2015 and 2016 has complete dataset so filter those out\n",
    "df = df[df.issue_date.between('2015', '2017')]"
   ]
  },
  {
   "cell_type": "code",
   "execution_count": 87,
   "metadata": {},
   "outputs": [
    {
     "name": "stdout",
     "output_type": "stream",
     "text": [
      "Number of nan Issue time: 844\n"
     ]
    }
   ],
   "source": [
    "## There are only a few nan values for issue_time\n",
    "print('Number of nan Issue time: {}'.format((df.issue_time == -1).sum()))\n",
    "## Replace -1 with median time because the issue time is pretty normal\n",
    "df.loc[df.issue_time == -1, 'issue_time'] = df.issue_time.median()"
   ]
  },
  {
   "cell_type": "code",
   "execution_count": 90,
   "metadata": {},
   "outputs": [
    {
     "name": "stdout",
     "output_type": "stream",
     "text": [
      "count   3964369\n",
      "mean       1230\n",
      "std         469\n",
      "min           0\n",
      "25%         927\n",
      "50%        1208\n",
      "75%        1546\n",
      "max        2359\n",
      "Name: issue_time, dtype: float64\n"
     ]
    }
   ],
   "source": [
    "with pd.option_context('display.float_format', '{:.0f}'.format):\n",
    "    print(df.issue_time.describe())"
   ]
  },
  {
   "cell_type": "code",
   "execution_count": 110,
   "metadata": {},
   "outputs": [],
   "source": [
    "## Combine Issue Date and Issue Time \n",
    "## Convert time to int to remove decimal then to str to pad the front with zero \n",
    "## Final format HHMM\n",
    "time = df.issue_time.astype('int').astype('str').str.pad(width = 4, side = 'left', fillchar = '0')\n",
    "## Combine date and time\n",
    "date_time = df.issue_date.astype('str') + ' ' + time\n",
    "## Add to dataframe\n",
    "df['issue_datetime'] = pd.to_datetime(date_time, format = '%Y-%m-%d %H%M')"
   ]
  },
  {
   "cell_type": "code",
   "execution_count": 112,
   "metadata": {
    "scrolled": true
   },
   "outputs": [
    {
     "data": {
      "text/html": [
       "<div>\n",
       "<style scoped>\n",
       "    .dataframe tbody tr th:only-of-type {\n",
       "        vertical-align: middle;\n",
       "    }\n",
       "\n",
       "    .dataframe tbody tr th {\n",
       "        vertical-align: top;\n",
       "    }\n",
       "\n",
       "    .dataframe thead th {\n",
       "        text-align: right;\n",
       "    }\n",
       "</style>\n",
       "<table border=\"1\" class=\"dataframe\">\n",
       "  <thead>\n",
       "    <tr style=\"text-align: right;\">\n",
       "      <th></th>\n",
       "      <th>issue_datetime</th>\n",
       "      <th>issue_date</th>\n",
       "      <th>issue_time</th>\n",
       "    </tr>\n",
       "  </thead>\n",
       "  <tbody>\n",
       "    <tr>\n",
       "      <th>0</th>\n",
       "      <td>2015-12-30 22:01:00</td>\n",
       "      <td>2015-12-30</td>\n",
       "      <td>2201.0</td>\n",
       "    </tr>\n",
       "    <tr>\n",
       "      <th>1</th>\n",
       "      <td>2015-12-30 22:05:00</td>\n",
       "      <td>2015-12-30</td>\n",
       "      <td>2205.0</td>\n",
       "    </tr>\n",
       "    <tr>\n",
       "      <th>2</th>\n",
       "      <td>2015-12-30 17:25:00</td>\n",
       "      <td>2015-12-30</td>\n",
       "      <td>1725.0</td>\n",
       "    </tr>\n",
       "    <tr>\n",
       "      <th>3</th>\n",
       "      <td>2015-12-30 17:38:00</td>\n",
       "      <td>2015-12-30</td>\n",
       "      <td>1738.0</td>\n",
       "    </tr>\n",
       "    <tr>\n",
       "      <th>4</th>\n",
       "      <td>2015-12-30 18:07:00</td>\n",
       "      <td>2015-12-30</td>\n",
       "      <td>1807.0</td>\n",
       "    </tr>\n",
       "  </tbody>\n",
       "</table>\n",
       "</div>"
      ],
      "text/plain": [
       "       issue_datetime issue_date  issue_time\n",
       "0 2015-12-30 22:01:00 2015-12-30      2201.0\n",
       "1 2015-12-30 22:05:00 2015-12-30      2205.0\n",
       "2 2015-12-30 17:25:00 2015-12-30      1725.0\n",
       "3 2015-12-30 17:38:00 2015-12-30      1738.0\n",
       "4 2015-12-30 18:07:00 2015-12-30      1807.0"
      ]
     },
     "execution_count": 112,
     "metadata": {},
     "output_type": "execute_result"
    }
   ],
   "source": [
    "## Verify conversion was correct\n",
    "df[['issue_datetime', 'issue_date', 'issue_time']].head()"
   ]
  },
  {
   "cell_type": "markdown",
   "metadata": {},
   "source": [
    "## Fine Amount"
   ]
  },
  {
   "cell_type": "code",
   "execution_count": 122,
   "metadata": {},
   "outputs": [
    {
     "name": "stdout",
     "output_type": "stream",
     "text": [
      "count   3964369\n",
      "mean         70\n",
      "std          32\n",
      "min          -1\n",
      "25%          63\n",
      "50%          68\n",
      "75%          73\n",
      "max         505\n",
      "Name: fine_amount, dtype: float64\n",
      "Number of nan: 1532\n"
     ]
    }
   ],
   "source": [
    "## Impute fine_amount \n",
    "with pd.option_context('display.float_format', '{:.0f}'.format):\n",
    "    print(df.fine_amount.describe())\n",
    "print('Number of nan: {}'.format((df.fine_amount == -1).sum()))"
   ]
  },
  {
   "cell_type": "code",
   "execution_count": 124,
   "metadata": {},
   "outputs": [
    {
     "name": "stdout",
     "output_type": "stream",
     "text": [
      "Verify that there are no more nan: 0\n"
     ]
    }
   ],
   "source": [
    "## Fine looks a little skewed so use median\n",
    "df.loc[df.fine_amount == -1, 'fine_amount'] = df.fine_amount.median()\n",
    "print('Verify that there are no more nan: {}'.format((df.fine_amount == -1).sum()))"
   ]
  },
  {
   "cell_type": "code",
   "execution_count": 129,
   "metadata": {},
   "outputs": [
    {
     "name": "stdout",
     "output_type": "stream",
     "text": [
      "Fine amount less than $25: 25\n",
      "Number of violations for Display of tabs: 25\n",
      "Fine amount less than $25 after correction: 0\n"
     ]
    }
   ],
   "source": [
    "## After imputation, I found that a few of them are $10\n",
    "## This is incorrect because the minimum fine is 25\n",
    "## for Display of tabs\n",
    "print('Fine amount less than $25: {}'.format((df.fine_amount < 25).sum()))\n",
    "## All of the violations are Display of tabs\n",
    "print('Number of violations for Display of tabs: {}'.\\\n",
    "      format((df.loc[df.fine_amount < 25, 'violation_description'] == 'DISPLAY OF TABS').sum()))\n",
    "## From lookup_v_fine.csv, that fine amount is $25\n",
    "df.loc[df.fine_amount < 25, 'fine_amount'] = 25\n",
    "## Verify fine correction\n",
    "print('Fine amount less than $25 after correction: {}'.format((df.fine_amount < 25).sum()))"
   ]
  },
  {
   "cell_type": "code",
   "execution_count": 132,
   "metadata": {},
   "outputs": [],
   "source": [
    "## Downcast fine_amount \n",
    "df['fine_amount'] = pd.to_numeric(df.fine_amount, downcast = 'unsigned')"
   ]
  },
  {
   "cell_type": "markdown",
   "metadata": {},
   "source": [
    "## Drop columns"
   ]
  },
  {
   "cell_type": "code",
   "execution_count": 138,
   "metadata": {},
   "outputs": [],
   "source": [
    "## Remove columns that aren't useful\n",
    "df.drop(columns= ['meter_id', 'marked_time', \n",
    "                  'plate_expiry_date', 'vin', \n",
    "                  'body_style', 'color', \n",
    "                  'route', 'violation_code', \n",
    "                  'latitude', 'longitude', \n",
    "                  'issue_date', 'issue_time'], errors = 'ignore', inplace = True)"
   ]
  },
  {
   "cell_type": "code",
   "execution_count": 139,
   "metadata": {},
   "outputs": [
    {
     "name": "stdout",
     "output_type": "stream",
     "text": [
      "<class 'pandas.core.frame.DataFrame'>\n",
      "Int64Index: 3964369 entries, 0 to 4004294\n",
      "Data columns (total 8 columns):\n",
      "ticket_number            uint64\n",
      "rp_state_plate           object\n",
      "make                     object\n",
      "location                 object\n",
      "agency                   category\n",
      "violation_description    object\n",
      "fine_amount              uint16\n",
      "issue_datetime           datetime64[ns]\n",
      "dtypes: category(1), datetime64[ns](1), object(4), uint16(1), uint64(1)\n",
      "memory usage: 383.1+ MB\n"
     ]
    }
   ],
   "source": [
    "df.info()"
   ]
  },
  {
   "cell_type": "markdown",
   "metadata": {},
   "source": [
    "## Export dataframe to csv"
   ]
  },
  {
   "cell_type": "code",
   "execution_count": 142,
   "metadata": {},
   "outputs": [],
   "source": [
    "df.to_csv('dataset/la_citation_tableau.csv', index = False)"
   ]
  }
 ],
 "metadata": {
  "kernelspec": {
   "display_name": "Python 3",
   "language": "python",
   "name": "python3"
  },
  "language_info": {
   "codemirror_mode": {
    "name": "ipython",
    "version": 3
   },
   "file_extension": ".py",
   "mimetype": "text/x-python",
   "name": "python",
   "nbconvert_exporter": "python",
   "pygments_lexer": "ipython3",
   "version": "3.6.3"
  }
 },
 "nbformat": 4,
 "nbformat_minor": 2
}

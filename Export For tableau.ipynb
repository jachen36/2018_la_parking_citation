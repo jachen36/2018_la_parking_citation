{
 "cells": [
  {
   "cell_type": "code",
   "execution_count": 1,
   "metadata": {},
   "outputs": [],
   "source": [
    "import numpy as np\n",
    "import pandas as pd"
   ]
  },
  {
   "cell_type": "code",
   "execution_count": 4,
   "metadata": {},
   "outputs": [],
   "source": [
    "import pickle"
   ]
  },
  {
   "cell_type": "code",
   "execution_count": 83,
   "metadata": {},
   "outputs": [],
   "source": [
    "## Import dataframe from pickle\n",
    "df = pd.read_pickle('dataset/dataframe.pickle', compression='gzip')"
   ]
  },
  {
   "cell_type": "code",
   "execution_count": 84,
   "metadata": {},
   "outputs": [],
   "source": [
    "## Remove columns that aren't useful\n",
    "df.drop(columns= ['meter_id', 'marked_time', \n",
    "                  'plate_expiry_date', 'vin', \n",
    "                  'body_style', 'color', \n",
    "                  'route', 'violation_code', \n",
    "                  'latitude', 'longitude', \n",
    "                  'ticket_number'], inplace = True)"
   ]
  },
  {
   "cell_type": "code",
   "execution_count": 85,
   "metadata": {},
   "outputs": [
    {
     "data": {
      "text/plain": [
       "2015.0    2181331\n",
       "2016.0    1783038\n",
       "2014.0      39406\n",
       "2017.0      33936\n",
       "2013.0         38\n",
       "2012.0         30\n",
       "2010.0         12\n",
       "2011.0         10\n",
       "Name: issue_date, dtype: int64"
      ]
     },
     "execution_count": 85,
     "metadata": {},
     "output_type": "execute_result"
    }
   ],
   "source": [
    "## Count tickets per year\n",
    "df.issue_date.dt.year.value_counts()"
   ]
  },
  {
   "cell_type": "code",
   "execution_count": 86,
   "metadata": {},
   "outputs": [],
   "source": [
    "## Only 2015 and 2016 has complete dataset so filter those out\n",
    "df = df[df.issue_date.between('2015', '2017')]"
   ]
  },
  {
   "cell_type": "code",
   "execution_count": 87,
   "metadata": {},
   "outputs": [
    {
     "name": "stdout",
     "output_type": "stream",
     "text": [
      "Number of nan Issue time: 844\n"
     ]
    }
   ],
   "source": [
    "## There are only a few nan values for issue_time\n",
    "print('Number of nan Issue time: {}'.format((df.issue_time == -1).sum()))\n",
    "## Replace -1 with median time because the issue time is pretty normal\n",
    "df.loc[df.issue_time == -1, 'issue_time'] = df.issue_time.median()"
   ]
  },
  {
   "cell_type": "code",
   "execution_count": 90,
   "metadata": {},
   "outputs": [
    {
     "name": "stdout",
     "output_type": "stream",
     "text": [
      "count   3964369\n",
      "mean       1230\n",
      "std         469\n",
      "min           0\n",
      "25%         927\n",
      "50%        1208\n",
      "75%        1546\n",
      "max        2359\n",
      "Name: issue_time, dtype: float64\n"
     ]
    }
   ],
   "source": [
    "with pd.option_context('display.float_format', '{:.0f}'.format):\n",
    "    print(df.issue_time.describe())"
   ]
  },
  {
   "cell_type": "code",
   "execution_count": null,
   "metadata": {},
   "outputs": [],
   "source": [
    "## Combine Issue Date and Issue Time \n"
   ]
  },
  {
   "cell_type": "code",
   "execution_count": null,
   "metadata": {},
   "outputs": [],
   "source": []
  },
  {
   "cell_type": "code",
   "execution_count": null,
   "metadata": {},
   "outputs": [],
   "source": []
  },
  {
   "cell_type": "code",
   "execution_count": null,
   "metadata": {},
   "outputs": [],
   "source": [
    "## Testing "
   ]
  },
  {
   "cell_type": "code",
   "execution_count": 97,
   "metadata": {},
   "outputs": [],
   "source": [
    "tmp = df.issue_time.astype('int').astype('str').str.pad(width = 4, side = 'left', fillchar = '0')"
   ]
  },
  {
   "cell_type": "code",
   "execution_count": 98,
   "metadata": {},
   "outputs": [
    {
     "data": {
      "text/plain": [
       "0    2201\n",
       "1    2205\n",
       "2    1725\n",
       "3    1738\n",
       "4    1807\n",
       "Name: issue_time, dtype: object"
      ]
     },
     "execution_count": 98,
     "metadata": {},
     "output_type": "execute_result"
    }
   ],
   "source": [
    "tmp.head()"
   ]
  },
  {
   "cell_type": "code",
   "execution_count": 100,
   "metadata": {},
   "outputs": [],
   "source": [
    "tmp2 = df.head().copy()"
   ]
  },
  {
   "cell_type": "code",
   "execution_count": 102,
   "metadata": {},
   "outputs": [],
   "source": [
    "tmp2.issue_time = tmp2.issue_time.astype('int').astype('str').str.pad(4, 'left', '0')"
   ]
  },
  {
   "cell_type": "code",
   "execution_count": 106,
   "metadata": {},
   "outputs": [],
   "source": [
    "tmp2 = tmp2.issue_date.astype('str') + ' ' + tmp2.issue_time"
   ]
  },
  {
   "cell_type": "code",
   "execution_count": 109,
   "metadata": {},
   "outputs": [
    {
     "data": {
      "text/plain": [
       "0    2015-12-30 2201\n",
       "1    2015-12-30 2205\n",
       "2    2015-12-30 1725\n",
       "3    2015-12-30 1738\n",
       "4    2015-12-30 1807\n",
       "dtype: object"
      ]
     },
     "execution_count": 109,
     "metadata": {},
     "output_type": "execute_result"
    }
   ],
   "source": [
    "tmp2"
   ]
  },
  {
   "cell_type": "code",
   "execution_count": 108,
   "metadata": {},
   "outputs": [
    {
     "data": {
      "text/plain": [
       "0   2015-12-30 22:01:00\n",
       "1   2015-12-30 22:05:00\n",
       "2   2015-12-30 17:25:00\n",
       "3   2015-12-30 17:38:00\n",
       "4   2015-12-30 18:07:00\n",
       "dtype: datetime64[ns]"
      ]
     },
     "execution_count": 108,
     "metadata": {},
     "output_type": "execute_result"
    }
   ],
   "source": [
    "pd.to_datetime(tmp2, format = '%Y-%m-%d %H%M')"
   ]
  },
  {
   "cell_type": "code",
   "execution_count": 68,
   "metadata": {},
   "outputs": [
    {
     "data": {
      "text/plain": [
       "count                 3964369\n",
       "unique                    729\n",
       "top       2016-01-19 00:00:00\n",
       "freq                     9829\n",
       "first     2015-01-01 00:00:00\n",
       "last      2016-12-31 00:00:00\n",
       "Name: issue_date, dtype: object"
      ]
     },
     "execution_count": 68,
     "metadata": {},
     "output_type": "execute_result"
    }
   ],
   "source": [
    "df.issue_date.describe()"
   ]
  },
  {
   "cell_type": "code",
   "execution_count": 96,
   "metadata": {},
   "outputs": [
    {
     "name": "stdout",
     "output_type": "stream",
     "text": [
      "<class 'pandas.core.frame.DataFrame'>\n",
      "Int64Index: 3964369 entries, 0 to 4004294\n",
      "Data columns (total 9 columns):\n",
      "ticket_number            uint64\n",
      "issue_date               datetime64[ns]\n",
      "issue_time               float64\n",
      "rp_state_plate           object\n",
      "make                     object\n",
      "location                 object\n",
      "agency                   category\n",
      "violation_description    object\n",
      "fine_amount              int16\n",
      "dtypes: category(1), datetime64[ns](1), float64(1), int16(1), object(4), uint64(1)\n",
      "memory usage: 413.3+ MB\n"
     ]
    }
   ],
   "source": [
    "df.info()"
   ]
  },
  {
   "cell_type": "code",
   "execution_count": null,
   "metadata": {},
   "outputs": [],
   "source": []
  },
  {
   "cell_type": "code",
   "execution_count": null,
   "metadata": {},
   "outputs": [],
   "source": []
  }
 ],
 "metadata": {
  "kernelspec": {
   "display_name": "Python 3",
   "language": "python",
   "name": "python3"
  },
  "language_info": {
   "codemirror_mode": {
    "name": "ipython",
    "version": 3
   },
   "file_extension": ".py",
   "mimetype": "text/x-python",
   "name": "python",
   "nbconvert_exporter": "python",
   "pygments_lexer": "ipython3",
   "version": "3.6.3"
  }
 },
 "nbformat": 4,
 "nbformat_minor": 2
}

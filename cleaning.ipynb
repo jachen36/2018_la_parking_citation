{
 "cells": [
  {
   "cell_type": "code",
   "execution_count": 1,
   "metadata": {
    "hideCode": false,
    "hidePrompt": false
   },
   "outputs": [],
   "source": [
    "import numpy as np\n",
    "import pandas as pd\n",
    "import seaborn as sns\n",
    "import matplotlib.pyplot as plt\n",
    "\n",
    "%matplotlib inline\n",
    "\n",
    "import os"
   ]
  },
  {
   "cell_type": "markdown",
   "metadata": {
    "hideCode": false,
    "hidePrompt": false
   },
   "source": [
    "dataset was obtained from https://data.lacity.org/A-Well-Run-City/Parking-Citations/wjz9-h9np"
   ]
  },
  {
   "cell_type": "code",
   "execution_count": 2,
   "metadata": {
    "hideCode": false,
    "hidePrompt": false
   },
   "outputs": [],
   "source": [
    "filepath = os.path.dirname('__filename__')\n",
    "fp_parking = os.path.join(filepath, 'dataset', 'Parking_Citations.csv') ## Path to dataset"
   ]
  },
  {
   "cell_type": "code",
   "execution_count": null,
   "metadata": {
    "hideCode": false,
    "hidePrompt": false
   },
   "outputs": [],
   "source": [
    "## Just to see the format of the csv file\n",
    "# with open(fp_parking, 'r') as f:\n",
    "#     for n in range(3):\n",
    "#         line = f.readline()\n",
    "#         print(line)"
   ]
  },
  {
   "cell_type": "code",
   "execution_count": 31,
   "metadata": {
    "hideCode": false,
    "hidePrompt": false
   },
   "outputs": [],
   "source": [
    "df = pd.read_csv(fp_parking, low_memory= False, parse_dates=['Issue Date'])"
   ]
  },
  {
   "cell_type": "code",
   "execution_count": 4,
   "metadata": {
    "hideCode": false,
    "hidePrompt": false
   },
   "outputs": [
    {
     "name": "stdout",
     "output_type": "stream",
     "text": [
      "<class 'pandas.core.frame.DataFrame'>\n",
      "RangeIndex: 4038226 entries, 0 to 4038225\n",
      "Data columns (total 19 columns):\n",
      "Ticket number            4038226 non-null object\n",
      "Issue Date               4037801 non-null datetime64[ns]\n",
      "Issue time               4036941 non-null float64\n",
      "Meter Id                 1125230 non-null object\n",
      "Marked Time              141927 non-null float64\n",
      "RP State Plate           4037223 non-null object\n",
      "Plate Expiry Date        3686011 non-null float64\n",
      "VIN                      16309 non-null object\n",
      "Make                     4034020 non-null object\n",
      "Body Style               4034392 non-null object\n",
      "Color                    4036234 non-null object\n",
      "Location                 4037672 non-null object\n",
      "Route                    4011489 non-null object\n",
      "Agency                   4037798 non-null float64\n",
      "Violation code           4038226 non-null object\n",
      "Violation Description    4037860 non-null object\n",
      "Fine amount              4033923 non-null float64\n",
      "Latitude                 4038226 non-null float64\n",
      "Longitude                4038226 non-null float64\n",
      "dtypes: datetime64[ns](1), float64(7), object(11)\n",
      "memory usage: 2.6 GB\n"
     ]
    }
   ],
   "source": [
    "df.info(memory_usage='deep', null_counts=True)"
   ]
  },
  {
   "cell_type": "markdown",
   "metadata": {
    "hideCode": false,
    "hidePrompt": false
   },
   "source": [
    "## Find/Fix Errors"
   ]
  },
  {
   "cell_type": "markdown",
   "metadata": {
    "hideCode": false,
    "hidePrompt": false
   },
   "source": [
    "### Ticket Number"
   ]
  },
  {
   "cell_type": "code",
   "execution_count": 32,
   "metadata": {
    "hideCode": false,
    "hidePrompt": false
   },
   "outputs": [
    {
     "data": {
      "text/plain": [
       "Index(['Ticket number'], dtype='object')"
      ]
     },
     "execution_count": 32,
     "metadata": {},
     "output_type": "execute_result"
    }
   ],
   "source": [
    "## The column with mix column types\n",
    "df.columns[[0]]"
   ]
  },
  {
   "cell_type": "code",
   "execution_count": 33,
   "metadata": {
    "hideCode": false,
    "hidePrompt": false,
    "scrolled": true
   },
   "outputs": [
    {
     "name": "stdout",
     "output_type": "stream",
     "text": [
      "Example of Ticket number's parse error: 1107495524D\n",
      "Number of parse errors: 150\n"
     ]
    }
   ],
   "source": [
    "## One of the example why parsing Ticket number resulted in mix dtype\n",
    "print(\"Example of Ticket number's parse error: {}\".format(df.loc[595827, 'Ticket number']))\n",
    "print(\"Number of parse errors: {}\".format(\\\n",
    "    pd.to_numeric(df['Ticket number'], errors='coerce').isna().sum())) ## Count fail conversions"
   ]
  },
  {
   "cell_type": "code",
   "execution_count": 39,
   "metadata": {
    "hideCode": false,
    "hidePrompt": false
   },
   "outputs": [],
   "source": [
    "## Delete the letter D from number and convert to int value\n",
    "## astype to make sure every row is treated as a string\n",
    "df['Ticket number'] = pd.to_numeric(df['Ticket number'].astype('str')\n",
    "                                    .str.replace('D', ''), downcast = 'unsigned')"
   ]
  },
  {
   "cell_type": "code",
   "execution_count": 40,
   "metadata": {
    "hideCode": false,
    "hidePrompt": false
   },
   "outputs": [
    {
     "name": "stdout",
     "output_type": "stream",
     "text": [
      "Number of Ticket number duplicates: 8\n"
     ]
    }
   ],
   "source": [
    "## Make sure that ticket numbers are all unique\n",
    "tmp = df.duplicated(subset='Ticket number', keep = False)\n",
    "print('Number of Ticket number duplicates: {}'.format(tmp.sum()))"
   ]
  },
  {
   "cell_type": "code",
   "execution_count": 41,
   "metadata": {
    "hideCode": false,
    "hidePrompt": false,
    "scrolled": false
   },
   "outputs": [
    {
     "data": {
      "text/html": [
       "<div>\n",
       "<style scoped>\n",
       "    .dataframe tbody tr th:only-of-type {\n",
       "        vertical-align: middle;\n",
       "    }\n",
       "\n",
       "    .dataframe tbody tr th {\n",
       "        vertical-align: top;\n",
       "    }\n",
       "\n",
       "    .dataframe thead th {\n",
       "        text-align: right;\n",
       "    }\n",
       "</style>\n",
       "<table border=\"1\" class=\"dataframe\">\n",
       "  <thead>\n",
       "    <tr style=\"text-align: right;\">\n",
       "      <th></th>\n",
       "      <th>Ticket number</th>\n",
       "      <th>Issue Date</th>\n",
       "      <th>Issue time</th>\n",
       "      <th>Meter Id</th>\n",
       "      <th>Marked Time</th>\n",
       "      <th>RP State Plate</th>\n",
       "      <th>Plate Expiry Date</th>\n",
       "      <th>VIN</th>\n",
       "      <th>Make</th>\n",
       "      <th>Body Style</th>\n",
       "      <th>Color</th>\n",
       "      <th>Location</th>\n",
       "      <th>Route</th>\n",
       "      <th>Agency</th>\n",
       "      <th>Violation code</th>\n",
       "      <th>Violation Description</th>\n",
       "      <th>Fine amount</th>\n",
       "      <th>Latitude</th>\n",
       "      <th>Longitude</th>\n",
       "    </tr>\n",
       "  </thead>\n",
       "  <tbody>\n",
       "    <tr>\n",
       "      <th>1907370</th>\n",
       "      <td>1107505044</td>\n",
       "      <td>2015-04-12</td>\n",
       "      <td>1525.0</td>\n",
       "      <td>NaN</td>\n",
       "      <td>NaN</td>\n",
       "      <td>CA</td>\n",
       "      <td>201506.0</td>\n",
       "      <td>NaN</td>\n",
       "      <td>FORD</td>\n",
       "      <td>SU</td>\n",
       "      <td>BK</td>\n",
       "      <td>B-79 OUTER PKG LOT</td>\n",
       "      <td>M78</td>\n",
       "      <td>3.0</td>\n",
       "      <td>8709K</td>\n",
       "      <td>PK OVR PNTD LNS</td>\n",
       "      <td>58.0</td>\n",
       "      <td>99999.0</td>\n",
       "      <td>99999.0</td>\n",
       "    </tr>\n",
       "    <tr>\n",
       "      <th>1978540</th>\n",
       "      <td>1107505044</td>\n",
       "      <td>2015-04-30</td>\n",
       "      <td>2136.0</td>\n",
       "      <td>46</td>\n",
       "      <td>NaN</td>\n",
       "      <td>CA</td>\n",
       "      <td>201507.0</td>\n",
       "      <td>NaN</td>\n",
       "      <td>TOYO</td>\n",
       "      <td>PA</td>\n",
       "      <td>WH</td>\n",
       "      <td>122 N KINGSLEY DR</td>\n",
       "      <td>NaN</td>\n",
       "      <td>54.0</td>\n",
       "      <td>8058L</td>\n",
       "      <td>PREF PARKING</td>\n",
       "      <td>68.0</td>\n",
       "      <td>99999.0</td>\n",
       "      <td>99999.0</td>\n",
       "    </tr>\n",
       "    <tr>\n",
       "      <th>1968362</th>\n",
       "      <td>1107505055</td>\n",
       "      <td>2015-04-30</td>\n",
       "      <td>2147.0</td>\n",
       "      <td>46</td>\n",
       "      <td>NaN</td>\n",
       "      <td>CA</td>\n",
       "      <td>201507.0</td>\n",
       "      <td>NaN</td>\n",
       "      <td>FORD</td>\n",
       "      <td>TR</td>\n",
       "      <td>WH</td>\n",
       "      <td>200 N HOBART BL</td>\n",
       "      <td>NaN</td>\n",
       "      <td>54.0</td>\n",
       "      <td>8058L</td>\n",
       "      <td>PREF PARKING</td>\n",
       "      <td>68.0</td>\n",
       "      <td>99999.0</td>\n",
       "      <td>99999.0</td>\n",
       "    </tr>\n",
       "    <tr>\n",
       "      <th>2003185</th>\n",
       "      <td>1107505055</td>\n",
       "      <td>2015-04-21</td>\n",
       "      <td>1125.0</td>\n",
       "      <td>NaN</td>\n",
       "      <td>NaN</td>\n",
       "      <td>CA</td>\n",
       "      <td>NaN</td>\n",
       "      <td>NaN</td>\n",
       "      <td>HRI</td>\n",
       "      <td>TL</td>\n",
       "      <td>BK</td>\n",
       "      <td>500 N LECOUVREUR AVE</td>\n",
       "      <td>M78</td>\n",
       "      <td>3.0</td>\n",
       "      <td>80691A</td>\n",
       "      <td>COMM TRAILER/22 FT.</td>\n",
       "      <td>78.0</td>\n",
       "      <td>6483992.8</td>\n",
       "      <td>1740936.0</td>\n",
       "    </tr>\n",
       "    <tr>\n",
       "      <th>1285397</th>\n",
       "      <td>1111163222</td>\n",
       "      <td>2015-01-06</td>\n",
       "      <td>1655.0</td>\n",
       "      <td>NaN</td>\n",
       "      <td>NaN</td>\n",
       "      <td>CA</td>\n",
       "      <td>201501.0</td>\n",
       "      <td>NaN</td>\n",
       "      <td>CADI</td>\n",
       "      <td>PA</td>\n",
       "      <td>BK</td>\n",
       "      <td>10851 W OHIO AVE</td>\n",
       "      <td>00123</td>\n",
       "      <td>51.0</td>\n",
       "      <td>8069AP</td>\n",
       "      <td>NO STOP/STAND PM</td>\n",
       "      <td>93.0</td>\n",
       "      <td>6428251.9</td>\n",
       "      <td>1842411.5</td>\n",
       "    </tr>\n",
       "    <tr>\n",
       "      <th>1908101</th>\n",
       "      <td>1111163222</td>\n",
       "      <td>2015-04-17</td>\n",
       "      <td>646.0</td>\n",
       "      <td>NaN</td>\n",
       "      <td>NaN</td>\n",
       "      <td>CA</td>\n",
       "      <td>201502.0</td>\n",
       "      <td>NaN</td>\n",
       "      <td>HOND</td>\n",
       "      <td>PA</td>\n",
       "      <td>SI</td>\n",
       "      <td>3405 S OVERLAND AV</td>\n",
       "      <td>00146</td>\n",
       "      <td>51.0</td>\n",
       "      <td>8069C</td>\n",
       "      <td>PKD OVER TIME LIMIT</td>\n",
       "      <td>58.0</td>\n",
       "      <td>6436653.8</td>\n",
       "      <td>1832101.2</td>\n",
       "    </tr>\n",
       "    <tr>\n",
       "      <th>1037436</th>\n",
       "      <td>1112203050</td>\n",
       "      <td>2016-06-05</td>\n",
       "      <td>1700.0</td>\n",
       "      <td>NaN</td>\n",
       "      <td>NaN</td>\n",
       "      <td>CA</td>\n",
       "      <td>201604.0</td>\n",
       "      <td>NaN</td>\n",
       "      <td>HOND</td>\n",
       "      <td>PA</td>\n",
       "      <td>GY</td>\n",
       "      <td>7610 WOODLEY AVE</td>\n",
       "      <td>2C12</td>\n",
       "      <td>11.0</td>\n",
       "      <td>5204A</td>\n",
       "      <td>EXPIRED TAGS</td>\n",
       "      <td>25.0</td>\n",
       "      <td>6415432.1</td>\n",
       "      <td>1898663.3</td>\n",
       "    </tr>\n",
       "    <tr>\n",
       "      <th>1062722</th>\n",
       "      <td>1112203050</td>\n",
       "      <td>2016-06-19</td>\n",
       "      <td>319.0</td>\n",
       "      <td>NaN</td>\n",
       "      <td>NaN</td>\n",
       "      <td>CA</td>\n",
       "      <td>201601.0</td>\n",
       "      <td>NaN</td>\n",
       "      <td>KIA</td>\n",
       "      <td>PA</td>\n",
       "      <td>WH</td>\n",
       "      <td>301 WORLD WAY</td>\n",
       "      <td>3F93</td>\n",
       "      <td>2.0</td>\n",
       "      <td>4000A1</td>\n",
       "      <td>NO EVIDENCE OF REG</td>\n",
       "      <td>50.0</td>\n",
       "      <td>6437963.6</td>\n",
       "      <td>1802392.9</td>\n",
       "    </tr>\n",
       "  </tbody>\n",
       "</table>\n",
       "</div>"
      ],
      "text/plain": [
       "         Ticket number Issue Date  Issue time Meter Id  Marked Time  \\\n",
       "1907370     1107505044 2015-04-12      1525.0      NaN          NaN   \n",
       "1978540     1107505044 2015-04-30      2136.0       46          NaN   \n",
       "1968362     1107505055 2015-04-30      2147.0       46          NaN   \n",
       "2003185     1107505055 2015-04-21      1125.0      NaN          NaN   \n",
       "1285397     1111163222 2015-01-06      1655.0      NaN          NaN   \n",
       "1908101     1111163222 2015-04-17       646.0      NaN          NaN   \n",
       "1037436     1112203050 2016-06-05      1700.0      NaN          NaN   \n",
       "1062722     1112203050 2016-06-19       319.0      NaN          NaN   \n",
       "\n",
       "        RP State Plate  Plate Expiry Date  VIN  Make Body Style Color  \\\n",
       "1907370             CA           201506.0  NaN  FORD         SU    BK   \n",
       "1978540             CA           201507.0  NaN  TOYO         PA    WH   \n",
       "1968362             CA           201507.0  NaN  FORD         TR    WH   \n",
       "2003185             CA                NaN  NaN   HRI         TL    BK   \n",
       "1285397             CA           201501.0  NaN  CADI         PA    BK   \n",
       "1908101             CA           201502.0  NaN  HOND         PA    SI   \n",
       "1037436             CA           201604.0  NaN  HOND         PA    GY   \n",
       "1062722             CA           201601.0  NaN   KIA         PA    WH   \n",
       "\n",
       "                     Location  Route  Agency Violation code  \\\n",
       "1907370    B-79 OUTER PKG LOT    M78     3.0          8709K   \n",
       "1978540     122 N KINGSLEY DR    NaN    54.0          8058L   \n",
       "1968362       200 N HOBART BL    NaN    54.0          8058L   \n",
       "2003185  500 N LECOUVREUR AVE    M78     3.0         80691A   \n",
       "1285397      10851 W OHIO AVE  00123    51.0         8069AP   \n",
       "1908101    3405 S OVERLAND AV  00146    51.0          8069C   \n",
       "1037436      7610 WOODLEY AVE   2C12    11.0          5204A   \n",
       "1062722         301 WORLD WAY   3F93     2.0         4000A1   \n",
       "\n",
       "        Violation Description  Fine amount   Latitude  Longitude  \n",
       "1907370       PK OVR PNTD LNS         58.0    99999.0    99999.0  \n",
       "1978540          PREF PARKING         68.0    99999.0    99999.0  \n",
       "1968362          PREF PARKING         68.0    99999.0    99999.0  \n",
       "2003185   COMM TRAILER/22 FT.         78.0  6483992.8  1740936.0  \n",
       "1285397      NO STOP/STAND PM         93.0  6428251.9  1842411.5  \n",
       "1908101   PKD OVER TIME LIMIT         58.0  6436653.8  1832101.2  \n",
       "1037436          EXPIRED TAGS         25.0  6415432.1  1898663.3  \n",
       "1062722    NO EVIDENCE OF REG         50.0  6437963.6  1802392.9  "
      ]
     },
     "execution_count": 41,
     "metadata": {},
     "output_type": "execute_result"
    }
   ],
   "source": [
    "df[tmp].sort_values(by = 'Ticket number')"
   ]
  },
  {
   "cell_type": "markdown",
   "metadata": {
    "hideCode": false,
    "hidePrompt": false
   },
   "source": [
    "Cannot find reasons for duplicate ticket number and since duplicates are such a small population and I have no good reason to correct them at the moment, I will keep them as is. "
   ]
  },
  {
   "cell_type": "markdown",
   "metadata": {
    "hideCode": false,
    "hidePrompt": false
   },
   "source": [
    "## VIN"
   ]
  },
  {
   "cell_type": "code",
   "execution_count": 42,
   "metadata": {
    "hideCode": false,
    "hidePrompt": false
   },
   "outputs": [
    {
     "name": "stdout",
     "output_type": "stream",
     "text": [
      "The number of non-null for VIN column: 16309\n"
     ]
    }
   ],
   "source": [
    "## VIN column isn't that useful because it is mainly null so keep as string\n",
    "print(\"The number of non-null for VIN column: {:d}\".format(df['VIN'].notnull().sum()))"
   ]
  },
  {
   "cell_type": "markdown",
   "metadata": {
    "hideCode": false,
    "hidePrompt": false
   },
   "source": [
    "## Issue Time"
   ]
  },
  {
   "cell_type": "code",
   "execution_count": 43,
   "metadata": {
    "hideCode": false,
    "hidePrompt": false
   },
   "outputs": [
    {
     "name": "stdout",
     "output_type": "stream",
     "text": [
      "count   4036941\n",
      "mean       1224\n",
      "std         477\n",
      "min           0\n",
      "25%         923\n",
      "50%        1207\n",
      "75%        1545\n",
      "max        2359\n",
      "Name: Issue time, dtype: float64\n"
     ]
    }
   ],
   "source": [
    "with pd.option_context('display.float_format', '{:.0f}'.format):\n",
    "    print(df['Issue time'].describe())"
   ]
  },
  {
   "cell_type": "code",
   "execution_count": 44,
   "metadata": {
    "hideCode": false,
    "hidePrompt": false
   },
   "outputs": [
    {
     "data": {
      "image/png": "[encoded data removed]",
      "text/plain": [
       "<matplotlib.figure.Figure at 0x3a980a860>"
      ]
     },
     "metadata": {},
     "output_type": "display_data"
    }
   ],
   "source": [
    "df['Issue time'].plot(kind = 'hist')\n",
    "plt.title('Issue Time Distribution')\n",
    "plt.xlabel('Issue Time')\n",
    "plt.show()"
   ]
  },
  {
   "cell_type": "markdown",
   "metadata": {
    "hideCode": false,
    "hidePrompt": false
   },
   "source": [
    "Issue Time looks fine. There are no obvious wrong values. "
   ]
  },
  {
   "cell_type": "code",
   "execution_count": 45,
   "metadata": {
    "hideCode": false,
    "hidePrompt": false
   },
   "outputs": [
    {
     "name": "stdout",
     "output_type": "stream",
     "text": [
      "Number of floats: 0\n",
      "Number of nan: 1285\n"
     ]
    }
   ],
   "source": [
    "## Determine if Issue Time is truly a float or because of NaN\n",
    "print(\"Number of floats: {}\".format(sum(df['Issue time']%1 > 0)))\n",
    "print('Number of nan: {}'.format(df['Issue time'].isna().sum()))"
   ]
  },
  {
   "cell_type": "code",
   "execution_count": 47,
   "metadata": {},
   "outputs": [],
   "source": [
    "## Remove nan from Issue Time by setting it to -1\n",
    "df.loc[df['Issue time'].isna(),'Issue time'] = -1"
   ]
  },
  {
   "cell_type": "markdown",
   "metadata": {
    "hideCode": false,
    "hidePrompt": false
   },
   "source": [
    "## Meter Id"
   ]
  },
  {
   "cell_type": "code",
   "execution_count": 51,
   "metadata": {
    "hideCode": false,
    "hidePrompt": false
   },
   "outputs": [
    {
     "name": "stdout",
     "output_type": "stream",
     "text": [
      "The number of unique meter ids: 34973\n"
     ]
    }
   ],
   "source": [
    "print('The number of unique meter ids: {}'.format(len(df['Meter Id'].unique())))"
   ]
  },
  {
   "cell_type": "code",
   "execution_count": 53,
   "metadata": {
    "hideCode": false,
    "hidePrompt": false
   },
   "outputs": [
    {
     "data": {
      "text/html": [
       "<div>\n",
       "<style scoped>\n",
       "    .dataframe tbody tr th:only-of-type {\n",
       "        vertical-align: middle;\n",
       "    }\n",
       "\n",
       "    .dataframe tbody tr th {\n",
       "        vertical-align: top;\n",
       "    }\n",
       "\n",
       "    .dataframe thead th {\n",
       "        text-align: right;\n",
       "    }\n",
       "</style>\n",
       "<table border=\"1\" class=\"dataframe\">\n",
       "  <thead>\n",
       "    <tr style=\"text-align: right;\">\n",
       "      <th></th>\n",
       "      <th>Meter Id</th>\n",
       "      <th>count</th>\n",
       "    </tr>\n",
       "  </thead>\n",
       "  <tbody>\n",
       "    <tr>\n",
       "      <th>0</th>\n",
       "      <td>!!</td>\n",
       "      <td>1</td>\n",
       "    </tr>\n",
       "    <tr>\n",
       "      <th>1</th>\n",
       "      <td>#1</td>\n",
       "      <td>284</td>\n",
       "    </tr>\n",
       "    <tr>\n",
       "      <th>2</th>\n",
       "      <td>#18</td>\n",
       "      <td>1</td>\n",
       "    </tr>\n",
       "    <tr>\n",
       "      <th>3</th>\n",
       "      <td>#2</td>\n",
       "      <td>604</td>\n",
       "    </tr>\n",
       "    <tr>\n",
       "      <th>4</th>\n",
       "      <td>#23</td>\n",
       "      <td>2</td>\n",
       "    </tr>\n",
       "  </tbody>\n",
       "</table>\n",
       "</div>"
      ],
      "text/plain": [
       "  Meter Id  count\n",
       "0       !!      1\n",
       "1       #1    284\n",
       "2      #18      1\n",
       "3       #2    604\n",
       "4      #23      2"
      ]
     },
     "execution_count": 53,
     "metadata": {},
     "output_type": "execute_result"
    }
   ],
   "source": [
    "## Not sure if these are weird meter id\n",
    "meter_count = df.groupby('Meter Id').size()\n",
    "meter_count = pd.DataFrame(meter_count)\n",
    "meter_count.reset_index(inplace = True)\n",
    "meter_count.columns = ['Meter Id', 'count']\n",
    "meter_count[:5]"
   ]
  },
  {
   "cell_type": "code",
   "execution_count": 54,
   "metadata": {
    "hideCode": false,
    "hidePrompt": false
   },
   "outputs": [
    {
     "name": "stdout",
     "output_type": "stream",
     "text": [
      "<class 'pandas.core.frame.DataFrame'>\n",
      "RangeIndex: 34718 entries, 0 to 34717\n",
      "Data columns (total 6 columns):\n",
      "ADDRESS     34718 non-null object\n",
      "METERID     34718 non-null object\n",
      "LIMIT       34138 non-null object\n",
      "the_geom    34718 non-null object\n",
      "TYPE        34718 non-null object\n",
      "HOURS       34316 non-null object\n",
      "dtypes: object(6)\n",
      "memory usage: 1.6+ MB\n"
     ]
    }
   ],
   "source": [
    "## Found meter information \n",
    "## https://data.lacity.org/A-Well-Run-City/Parking-Meters-Citywide/sijn-eyig\n",
    "## However it's for 2015 and last updated on 11/29/2016 so outdated\n",
    "fp_meter = os.path.join(filepath, 'dataset', 'LADOT_Meters_Citywide_20151209.csv') ## Path to dataset\n",
    "meter = pd.read_csv(fp_meter)\n",
    "meter.info()"
   ]
  },
  {
   "cell_type": "code",
   "execution_count": 55,
   "metadata": {
    "hideCode": false,
    "hidePrompt": false
   },
   "outputs": [],
   "source": [
    "meterid = pd.DataFrame(meter.METERID.unique())\n",
    "meterid.columns = ['Meter Id']\n",
    "meterid['exist'] = True ## Indicator"
   ]
  },
  {
   "cell_type": "code",
   "execution_count": 56,
   "metadata": {
    "hideCode": false,
    "hidePrompt": false
   },
   "outputs": [],
   "source": [
    "## Full join with meter from parking citation with meter id from meter data\n",
    "meter_exist = pd.merge(meter_count, meterid, how= 'outer')"
   ]
  },
  {
   "cell_type": "code",
   "execution_count": 57,
   "metadata": {},
   "outputs": [
    {
     "name": "stdout",
     "output_type": "stream",
     "text": [
      "3124\n"
     ]
    },
    {
     "data": {
      "text/html": [
       "<div>\n",
       "<style scoped>\n",
       "    .dataframe tbody tr th:only-of-type {\n",
       "        vertical-align: middle;\n",
       "    }\n",
       "\n",
       "    .dataframe tbody tr th {\n",
       "        vertical-align: top;\n",
       "    }\n",
       "\n",
       "    .dataframe thead th {\n",
       "        text-align: right;\n",
       "    }\n",
       "</style>\n",
       "<table border=\"1\" class=\"dataframe\">\n",
       "  <thead>\n",
       "    <tr style=\"text-align: right;\">\n",
       "      <th></th>\n",
       "      <th>Meter Id</th>\n",
       "      <th>count</th>\n",
       "      <th>exist</th>\n",
       "    </tr>\n",
       "  </thead>\n",
       "  <tbody>\n",
       "    <tr>\n",
       "      <th>355</th>\n",
       "      <td>37</td>\n",
       "      <td>23324.0</td>\n",
       "      <td>NaN</td>\n",
       "    </tr>\n",
       "    <tr>\n",
       "      <th>436</th>\n",
       "      <td>51</td>\n",
       "      <td>15400.0</td>\n",
       "      <td>NaN</td>\n",
       "    </tr>\n",
       "    <tr>\n",
       "      <th>450</th>\n",
       "      <td>53</td>\n",
       "      <td>13705.0</td>\n",
       "      <td>NaN</td>\n",
       "    </tr>\n",
       "    <tr>\n",
       "      <th>511</th>\n",
       "      <td>64</td>\n",
       "      <td>10918.0</td>\n",
       "      <td>NaN</td>\n",
       "    </tr>\n",
       "    <tr>\n",
       "      <th>117</th>\n",
       "      <td>13</td>\n",
       "      <td>10854.0</td>\n",
       "      <td>NaN</td>\n",
       "    </tr>\n",
       "  </tbody>\n",
       "</table>\n",
       "</div>"
      ],
      "text/plain": [
       "    Meter Id    count exist\n",
       "355       37  23324.0   NaN\n",
       "436       51  15400.0   NaN\n",
       "450       53  13705.0   NaN\n",
       "511       64  10918.0   NaN\n",
       "117       13  10854.0   NaN"
      ]
     },
     "execution_count": 57,
     "metadata": {},
     "output_type": "execute_result"
    }
   ],
   "source": [
    "## Return meters that doesn't exist in the meter dataset\n",
    "meter_prob = meter_exist[meter_exist.exist.isna()].sort_values(by = 'count')[::-1]\n",
    "print(meter_prob.shape[0])\n",
    "## Find meter with the most count\n",
    "meter_prob.head()"
   ]
  },
  {
   "cell_type": "code",
   "execution_count": 58,
   "metadata": {},
   "outputs": [
    {
     "data": {
      "text/html": [
       "<div>\n",
       "<style scoped>\n",
       "    .dataframe tbody tr th:only-of-type {\n",
       "        vertical-align: middle;\n",
       "    }\n",
       "\n",
       "    .dataframe tbody tr th {\n",
       "        vertical-align: top;\n",
       "    }\n",
       "\n",
       "    .dataframe thead th {\n",
       "        text-align: right;\n",
       "    }\n",
       "</style>\n",
       "<table border=\"1\" class=\"dataframe\">\n",
       "  <thead>\n",
       "    <tr style=\"text-align: right;\">\n",
       "      <th></th>\n",
       "      <th>Ticket number</th>\n",
       "      <th>Issue Date</th>\n",
       "      <th>Issue time</th>\n",
       "      <th>Meter Id</th>\n",
       "      <th>Marked Time</th>\n",
       "      <th>RP State Plate</th>\n",
       "      <th>Plate Expiry Date</th>\n",
       "      <th>VIN</th>\n",
       "      <th>Make</th>\n",
       "      <th>Body Style</th>\n",
       "      <th>Color</th>\n",
       "      <th>Location</th>\n",
       "      <th>Route</th>\n",
       "      <th>Agency</th>\n",
       "      <th>Violation code</th>\n",
       "      <th>Violation Description</th>\n",
       "      <th>Fine amount</th>\n",
       "      <th>Latitude</th>\n",
       "      <th>Longitude</th>\n",
       "    </tr>\n",
       "  </thead>\n",
       "  <tbody>\n",
       "    <tr>\n",
       "      <th>1413</th>\n",
       "      <td>4272294585</td>\n",
       "      <td>2016-01-04</td>\n",
       "      <td>1806</td>\n",
       "      <td>37</td>\n",
       "      <td>NaN</td>\n",
       "      <td>AZ</td>\n",
       "      <td>201604.0</td>\n",
       "      <td>NaN</td>\n",
       "      <td>FORD</td>\n",
       "      <td>PA</td>\n",
       "      <td>GY</td>\n",
       "      <td>1666 SYCAMORE AVE N</td>\n",
       "      <td>00402</td>\n",
       "      <td>54.0</td>\n",
       "      <td>80.58L</td>\n",
       "      <td>PREFERENTIAL PARKING</td>\n",
       "      <td>68.0</td>\n",
       "      <td>6457731.2</td>\n",
       "      <td>1859366.8</td>\n",
       "    </tr>\n",
       "    <tr>\n",
       "      <th>1415</th>\n",
       "      <td>4272294600</td>\n",
       "      <td>2016-01-04</td>\n",
       "      <td>2156</td>\n",
       "      <td>37</td>\n",
       "      <td>NaN</td>\n",
       "      <td>CA</td>\n",
       "      <td>NaN</td>\n",
       "      <td>NaN</td>\n",
       "      <td>TOYT</td>\n",
       "      <td>PA</td>\n",
       "      <td>WT</td>\n",
       "      <td>7000 HAWTHORN AVE</td>\n",
       "      <td>00402</td>\n",
       "      <td>54.0</td>\n",
       "      <td>80.58L</td>\n",
       "      <td>PREFERENTIAL PARKING</td>\n",
       "      <td>68.0</td>\n",
       "      <td>6458312.4</td>\n",
       "      <td>1859071.2</td>\n",
       "    </tr>\n",
       "    <tr>\n",
       "      <th>1417</th>\n",
       "      <td>4272294622</td>\n",
       "      <td>2016-01-04</td>\n",
       "      <td>2205</td>\n",
       "      <td>37</td>\n",
       "      <td>NaN</td>\n",
       "      <td>CA</td>\n",
       "      <td>201608.0</td>\n",
       "      <td>NaN</td>\n",
       "      <td>LEXS</td>\n",
       "      <td>PA</td>\n",
       "      <td>BK</td>\n",
       "      <td>1666 SYCAMORE AVE N</td>\n",
       "      <td>00402</td>\n",
       "      <td>54.0</td>\n",
       "      <td>80.58L</td>\n",
       "      <td>PREFERENTIAL PARKING</td>\n",
       "      <td>68.0</td>\n",
       "      <td>6457731.2</td>\n",
       "      <td>1859366.8</td>\n",
       "    </tr>\n",
       "    <tr>\n",
       "      <th>1419</th>\n",
       "      <td>4272294644</td>\n",
       "      <td>2016-01-04</td>\n",
       "      <td>2216</td>\n",
       "      <td>37</td>\n",
       "      <td>NaN</td>\n",
       "      <td>CA</td>\n",
       "      <td>201604.0</td>\n",
       "      <td>NaN</td>\n",
       "      <td>FORD</td>\n",
       "      <td>PA</td>\n",
       "      <td>MR</td>\n",
       "      <td>1601 ORANGE DR</td>\n",
       "      <td>00402</td>\n",
       "      <td>54.0</td>\n",
       "      <td>80.58L</td>\n",
       "      <td>PREFERENTIAL PARKING</td>\n",
       "      <td>68.0</td>\n",
       "      <td>6458315.2</td>\n",
       "      <td>1858662.1</td>\n",
       "    </tr>\n",
       "    <tr>\n",
       "      <th>2721</th>\n",
       "      <td>4273416265</td>\n",
       "      <td>2016-01-04</td>\n",
       "      <td>1806</td>\n",
       "      <td>37</td>\n",
       "      <td>NaN</td>\n",
       "      <td>NV</td>\n",
       "      <td>201610.0</td>\n",
       "      <td>NaN</td>\n",
       "      <td>VOLK</td>\n",
       "      <td>PA</td>\n",
       "      <td>BK</td>\n",
       "      <td>1633 NORTH ORANGE DRIVE</td>\n",
       "      <td>00401</td>\n",
       "      <td>54.0</td>\n",
       "      <td>80.58L</td>\n",
       "      <td>PREFERENTIAL PARKING</td>\n",
       "      <td>68.0</td>\n",
       "      <td>6458312.4</td>\n",
       "      <td>1859071.2</td>\n",
       "    </tr>\n",
       "  </tbody>\n",
       "</table>\n",
       "</div>"
      ],
      "text/plain": [
       "      Ticket number Issue Date  Issue time Meter Id  Marked Time  \\\n",
       "1413     4272294585 2016-01-04        1806       37          NaN   \n",
       "1415     4272294600 2016-01-04        2156       37          NaN   \n",
       "1417     4272294622 2016-01-04        2205       37          NaN   \n",
       "1419     4272294644 2016-01-04        2216       37          NaN   \n",
       "2721     4273416265 2016-01-04        1806       37          NaN   \n",
       "\n",
       "     RP State Plate  Plate Expiry Date  VIN  Make Body Style Color  \\\n",
       "1413             AZ           201604.0  NaN  FORD         PA    GY   \n",
       "1415             CA                NaN  NaN  TOYT         PA    WT   \n",
       "1417             CA           201608.0  NaN  LEXS         PA    BK   \n",
       "1419             CA           201604.0  NaN  FORD         PA    MR   \n",
       "2721             NV           201610.0  NaN  VOLK         PA    BK   \n",
       "\n",
       "                     Location  Route  Agency Violation code  \\\n",
       "1413      1666 SYCAMORE AVE N  00402    54.0         80.58L   \n",
       "1415        7000 HAWTHORN AVE  00402    54.0         80.58L   \n",
       "1417      1666 SYCAMORE AVE N  00402    54.0         80.58L   \n",
       "1419           1601 ORANGE DR  00402    54.0         80.58L   \n",
       "2721  1633 NORTH ORANGE DRIVE  00401    54.0         80.58L   \n",
       "\n",
       "     Violation Description  Fine amount   Latitude  Longitude  \n",
       "1413  PREFERENTIAL PARKING         68.0  6457731.2  1859366.8  \n",
       "1415  PREFERENTIAL PARKING         68.0  6458312.4  1859071.2  \n",
       "1417  PREFERENTIAL PARKING         68.0  6457731.2  1859366.8  \n",
       "1419  PREFERENTIAL PARKING         68.0  6458315.2  1858662.1  \n",
       "2721  PREFERENTIAL PARKING         68.0  6458312.4  1859071.2  "
      ]
     },
     "execution_count": 58,
     "metadata": {},
     "output_type": "execute_result"
    }
   ],
   "source": [
    "df[df['Meter Id'] == '37'].head()"
   ]
  },
  {
   "cell_type": "code",
   "execution_count": 59,
   "metadata": {},
   "outputs": [
    {
     "data": {
      "text/plain": [
       "(1907,)"
      ]
     },
     "execution_count": 59,
     "metadata": {},
     "output_type": "execute_result"
    }
   ],
   "source": [
    "df[df['Meter Id'] == '37'].Location.unique().shape"
   ]
  },
  {
   "cell_type": "markdown",
   "metadata": {},
   "source": [
    "It doesn't look like meter id is not a very reliable source because the ID and addresses do not match. In fact for Meter Id 37 there is 1907 different addresses. So for now, just leave it as is. "
   ]
  },
  {
   "cell_type": "markdown",
   "metadata": {},
   "source": [
    "## Marked Time"
   ]
  },
  {
   "cell_type": "code",
   "execution_count": 60,
   "metadata": {},
   "outputs": [
    {
     "data": {
      "text/plain": [
       "array(['PARKED OVER TIME LIM', 'PREFERENTIAL PARKING',\n",
       "       'COMM VEH OVER TIME L', 'PARKED OVER TIME LIMIT'], dtype=object)"
      ]
     },
     "execution_count": 60,
     "metadata": {},
     "output_type": "execute_result"
    }
   ],
   "source": [
    "df[df['Marked Time'].notnull()]['Violation Description'].unique()"
   ]
  },
  {
   "cell_type": "code",
   "execution_count": 61,
   "metadata": {},
   "outputs": [
    {
     "data": {
      "text/plain": [
       "count    141927.000000\n",
       "mean       1067.866572\n",
       "std         225.536345\n",
       "min           1.000000\n",
       "25%         925.000000\n",
       "50%        1042.000000\n",
       "75%        1205.000000\n",
       "max        2400.000000\n",
       "Name: Marked Time, dtype: float64"
      ]
     },
     "execution_count": 61,
     "metadata": {},
     "output_type": "execute_result"
    }
   ],
   "source": [
    "df['Marked Time'].describe()"
   ]
  },
  {
   "cell_type": "markdown",
   "metadata": {},
   "source": [
    "So Marked Time means when was the car marked to be timed for long the car was in that parking spot.\n",
    "\n",
    "The feature looks fine. "
   ]
  },
  {
   "cell_type": "code",
   "execution_count": 63,
   "metadata": {},
   "outputs": [],
   "source": [
    "## Majority for this feature is nan\n",
    "## Remove nan from Marked Time by setting them to -1 \n",
    "df.loc[df['Marked Time'].isna(), 'Marked Time'] = -1"
   ]
  },
  {
   "cell_type": "markdown",
   "metadata": {},
   "source": [
    "## RP State Plate"
   ]
  },
  {
   "cell_type": "code",
   "execution_count": 66,
   "metadata": {},
   "outputs": [
    {
     "data": {
      "text/html": [
       "<div>\n",
       "<style scoped>\n",
       "    .dataframe tbody tr th:only-of-type {\n",
       "        vertical-align: middle;\n",
       "    }\n",
       "\n",
       "    .dataframe tbody tr th {\n",
       "        vertical-align: top;\n",
       "    }\n",
       "\n",
       "    .dataframe thead th {\n",
       "        text-align: right;\n",
       "    }\n",
       "</style>\n",
       "<table border=\"1\" class=\"dataframe\">\n",
       "  <thead>\n",
       "    <tr style=\"text-align: right;\">\n",
       "      <th></th>\n",
       "      <th>state</th>\n",
       "      <th>number</th>\n",
       "    </tr>\n",
       "  </thead>\n",
       "  <tbody>\n",
       "    <tr>\n",
       "      <th>0</th>\n",
       "      <td>|</td>\n",
       "      <td>2</td>\n",
       "    </tr>\n",
       "    <tr>\n",
       "      <th>1</th>\n",
       "      <td>PR</td>\n",
       "      <td>5</td>\n",
       "    </tr>\n",
       "    <tr>\n",
       "      <th>2</th>\n",
       "      <td>NF</td>\n",
       "      <td>5</td>\n",
       "    </tr>\n",
       "  </tbody>\n",
       "</table>\n",
       "</div>"
      ],
      "text/plain": [
       "  state  number\n",
       "0     |       2\n",
       "1    PR       5\n",
       "2    NF       5"
      ]
     },
     "execution_count": 66,
     "metadata": {},
     "output_type": "execute_result"
    }
   ],
   "source": [
    "state_plate = pd.DataFrame(df.groupby('RP State Plate').size().sort_values())\n",
    "state_plate.reset_index(inplace = True)\n",
    "state_plate.columns = ['state', 'number']\n",
    "state_plate.head(3)"
   ]
  },
  {
   "cell_type": "code",
   "execution_count": 67,
   "metadata": {},
   "outputs": [
    {
     "data": {
      "text/html": [
       "<div>\n",
       "<style scoped>\n",
       "    .dataframe tbody tr th:only-of-type {\n",
       "        vertical-align: middle;\n",
       "    }\n",
       "\n",
       "    .dataframe tbody tr th {\n",
       "        vertical-align: top;\n",
       "    }\n",
       "\n",
       "    .dataframe thead th {\n",
       "        text-align: right;\n",
       "    }\n",
       "</style>\n",
       "<table border=\"1\" class=\"dataframe\">\n",
       "  <thead>\n",
       "    <tr style=\"text-align: right;\">\n",
       "      <th></th>\n",
       "      <th>abbr</th>\n",
       "      <th>name</th>\n",
       "    </tr>\n",
       "  </thead>\n",
       "  <tbody>\n",
       "    <tr>\n",
       "      <th>0</th>\n",
       "      <td>AL</td>\n",
       "      <td>Alabama</td>\n",
       "    </tr>\n",
       "    <tr>\n",
       "      <th>1</th>\n",
       "      <td>AK</td>\n",
       "      <td>Alaska</td>\n",
       "    </tr>\n",
       "    <tr>\n",
       "      <th>2</th>\n",
       "      <td>AS</td>\n",
       "      <td>American Samoa</td>\n",
       "    </tr>\n",
       "  </tbody>\n",
       "</table>\n",
       "</div>"
      ],
      "text/plain": [
       "  abbr            name\n",
       "0   AL         Alabama\n",
       "1   AK          Alaska\n",
       "2   AS  American Samoa"
      ]
     },
     "execution_count": 67,
     "metadata": {},
     "output_type": "execute_result"
    }
   ],
   "source": [
    "## USA States and Territories\n",
    "states = {\"AL\":\"Alabama\",\"AK\":\"Alaska\",\"AS\":\"American Samoa\",\"AZ\":\"Arizona\",\"AR\":\"Arkansas\",\n",
    "          \"CA\":\"California\",\"CO\":\"Colorado\",\"CT\":\"Connecticut\",\"DE\":\"Delaware\",\n",
    "          \"DC\":\"District Of Columbia\",\"FM\":\"Federated States Of Micronesia\",\"FL\":\"Florida\",\n",
    "          \"GA\":\"Georgia\",\"GU\":\"Guam\",\"HI\":\"Hawaii\",\"ID\":\"Idaho\",\"IL\":\"Illinois\",\"IN\":\"Indiana\",\n",
    "          \"IA\":\"Iowa\",\"KS\":\"Kansas\",\"KY\":\"Kentucky\",\"LA\":\"Louisiana\",\"ME\":\"Maine\",\n",
    "          \"MH\":\"Marshall Islands\",\"MD\":\"Maryland\",\"MA\":\"Massachusetts\",\"MI\":\"Michigan\",\n",
    "          \"MN\":\"Minnesota\",\"MS\":\"Mississippi\",\"MO\":\"Missouri\",\"MT\":\"Montana\",\"NE\":\"Nebraska\",\n",
    "          \"NV\":\"Nevada\",\"NH\":\"New Hampshire\",\"NJ\":\"New Jersey\",\"NM\":\"New Mexico\",\"NY\":\"New York\",\n",
    "          \"NC\":\"North Carolina\",\"ND\":\"North Dakota\",\"MP\":\"Northern Mariana Islands\",\"OH\":\"Ohio\",\n",
    "          \"OK\":\"Oklahoma\",\"OR\":\"Oregon\",\"PW\":\"Palau\",\"PA\":\"Pennsylvania\",\"PR\":\"Puerto Rico\",\n",
    "          \"RI\":\"Rhode Island\",\"SC\":\"South Carolina\",\"SD\":\"South Dakota\",\"TN\":\"Tennessee\",\n",
    "          \"TX\":\"Texas\",\"UT\":\"Utah\",\"VT\":\"Vermont\",\"VI\":\"Virgin Islands\",\"VA\":\"Virginia\",\n",
    "          \"WA\":\"Washington\",\"WV\":\"West Virginia\",\"WI\":\"Wisconsin\",\"WY\":\"Wyoming\"}\n",
    "states = pd.DataFrame.from_dict(states, orient = 'index')\n",
    "states.reset_index(inplace = True)\n",
    "states.columns = ['abbr', 'name']\n",
    "states.head(3)"
   ]
  },
  {
   "cell_type": "code",
   "execution_count": 73,
   "metadata": {},
   "outputs": [
    {
     "data": {
      "text/plain": [
       "array(['|', 'NF', 'YU', 'PE', 'NW', 'TT', 'CZ', 'NS', 'XX', 'SA', 'NB',\n",
       "       'MB', 'CN', 'FN', 'US', 'QU', 'DD', 'AB', 'ON', 'BC', 'MX'], dtype=object)"
      ]
     },
     "execution_count": 73,
     "metadata": {},
     "output_type": "execute_result"
    }
   ],
   "source": [
    "## State Plate that doesn't exist in states list\n",
    "state_comb = pd.merge(state_plate, states, how = 'outer', left_on='state', right_on='abbr')\n",
    "state_unknown = state_comb[state_comb.name.isna()]\n",
    "state_unknown['state'].values"
   ]
  },
  {
   "cell_type": "markdown",
   "metadata": {},
   "source": [
    "I think MX is Mexico plate because LA is pretty close to Mexico so it is possible and likely for cars to come to LA. Or a misspelling for MS because s is close to x on the keyboard. "
   ]
  },
  {
   "cell_type": "code",
   "execution_count": null,
   "metadata": {},
   "outputs": [],
   "source": []
  },
  {
   "cell_type": "code",
   "execution_count": null,
   "metadata": {},
   "outputs": [],
   "source": []
  },
  {
   "cell_type": "code",
   "execution_count": null,
   "metadata": {},
   "outputs": [],
   "source": []
  },
  {
   "cell_type": "code",
   "execution_count": null,
   "metadata": {},
   "outputs": [],
   "source": []
  },
  {
   "cell_type": "code",
   "execution_count": null,
   "metadata": {},
   "outputs": [],
   "source": []
  },
  {
   "cell_type": "code",
   "execution_count": null,
   "metadata": {},
   "outputs": [],
   "source": []
  },
  {
   "cell_type": "code",
   "execution_count": null,
   "metadata": {},
   "outputs": [],
   "source": []
  },
  {
   "cell_type": "markdown",
   "metadata": {
    "hideCode": false,
    "hidePrompt": false
   },
   "source": [
    "## Data Compression"
   ]
  },
  {
   "cell_type": "code",
   "execution_count": 48,
   "metadata": {
    "hideCode": false,
    "hidePrompt": false
   },
   "outputs": [],
   "source": [
    "## Convert column into integer\n",
    "df['Issue time'] = pd.to_numeric(df['Issue time'], downcast = 'integer')"
   ]
  },
  {
   "cell_type": "code",
   "execution_count": 64,
   "metadata": {},
   "outputs": [],
   "source": [
    "## Convert column into integer\n",
    "df['Marked Time'] = pd.to_numeric(df['Marked Time'], downcast = 'integer')"
   ]
  },
  {
   "cell_type": "code",
   "execution_count": 65,
   "metadata": {
    "hideCode": false,
    "hidePrompt": false
   },
   "outputs": [
    {
     "name": "stdout",
     "output_type": "stream",
     "text": [
      "<class 'pandas.core.frame.DataFrame'>\n",
      "RangeIndex: 4038226 entries, 0 to 4038225\n",
      "Data columns (total 19 columns):\n",
      "Ticket number            uint64\n",
      "Issue Date               datetime64[ns]\n",
      "Issue time               int16\n",
      "Meter Id                 object\n",
      "Marked Time              int16\n",
      "RP State Plate           object\n",
      "Plate Expiry Date        float64\n",
      "VIN                      object\n",
      "Make                     object\n",
      "Body Style               object\n",
      "Color                    object\n",
      "Location                 object\n",
      "Route                    object\n",
      "Agency                   float64\n",
      "Violation code           object\n",
      "Violation Description    object\n",
      "Fine amount              float64\n",
      "Latitude                 float64\n",
      "Longitude                float64\n",
      "dtypes: datetime64[ns](1), float64(5), int16(2), object(10), uint64(1)\n",
      "memory usage: 2.4 GB\n"
     ]
    }
   ],
   "source": [
    "df.info(memory_usage='deep')"
   ]
  },
  {
   "cell_type": "code",
   "execution_count": null,
   "metadata": {
    "hideCode": false,
    "hidePrompt": false
   },
   "outputs": [],
   "source": []
  },
  {
   "cell_type": "code",
   "execution_count": null,
   "metadata": {
    "hideCode": false,
    "hidePrompt": false
   },
   "outputs": [],
   "source": []
  },
  {
   "cell_type": "code",
   "execution_count": null,
   "metadata": {
    "hideCode": false,
    "hidePrompt": false
   },
   "outputs": [],
   "source": []
  },
  {
   "cell_type": "code",
   "execution_count": null,
   "metadata": {
    "hideCode": false,
    "hidePrompt": false
   },
   "outputs": [],
   "source": []
  },
  {
   "cell_type": "code",
   "execution_count": null,
   "metadata": {
    "hideCode": false,
    "hidePrompt": false
   },
   "outputs": [],
   "source": []
  },
  {
   "cell_type": "code",
   "execution_count": 74,
   "metadata": {
    "hideCode": false,
    "hidePrompt": false
   },
   "outputs": [
    {
     "name": "stdout",
     "output_type": "stream",
     "text": [
      "Fetching package metadata .............\n",
      "Solving package specifications: .\n"
     ]
    },
    {
     "name": "stderr",
     "output_type": "stream",
     "text": [
      "\n",
      "UnsatisfiableError: The following specifications were found to be in conflict:\n",
      "  - basemap -> numpy 1.10* -> python 2.7*\n",
      "  - python 3.6*\n",
      "Use \"conda info <package>\" to see the dependencies for each package.\n",
      "\n"
     ]
    }
   ],
   "source": [
    "!conda install -y basemap "
   ]
  },
  {
   "cell_type": "code",
   "execution_count": 75,
   "metadata": {
    "hideCode": false,
    "hidePrompt": false
   },
   "outputs": [
    {
     "name": "stdout",
     "output_type": "stream",
     "text": [
      "# packages in environment at C:\\Users\\boki\\Anaconda3:\n",
      "#\n",
      "_license                  1.1                      py36_1  \n",
      "alabaster                 0.7.10           py36hcd07829_0  \n",
      "anaconda                  custom           py36h363777c_0  \n",
      "anaconda-client           1.6.6            py36ha174c20_0  \n",
      "anaconda-navigator        1.6.10           py36h51c3d4f_0  \n",
      "anaconda-project          0.8.2            py36hfad2e28_0  \n",
      "asn1crypto                0.23.0           py36h546eea3_0  \n",
      "astroid                   1.5.3            py36h9d85297_0  \n",
      "astropy                   2.0.2            py36h06391c4_4  \n",
      "attrs                     17.3.0           py36hc87868e_0  \n",
      "babel                     2.5.0            py36h35444c1_0  \n",
      "backports                 1.0              py36h81696a8_1  \n",
      "backports.shutil_get_terminal_size 1.0.0            py36h79ab834_2  \n",
      "beautifulsoup4            4.6.0            py36hd4cc5e8_1  \n",
      "bitarray                  0.8.1            py36h6af124b_0  \n",
      "blaze                     0.11.3           py36h8a29ca5_0  \n",
      "bleach                    2.1.1            py36h834942a_0  \n",
      "bokeh                     0.12.13          py36h047fa9f_0  \n",
      "boto                      2.48.0           py36h1a776d2_1  \n",
      "bottleneck                1.2.1            py36hd119dfa_0  \n",
      "bzip2                     1.0.6                haa5b126_2  \n",
      "ca-certificates           2017.08.26           h94faf87_0  \n",
      "cassandra-driver          3.11.0                    <pip>\n",
      "certifi                   2017.11.5        py36hb8ac631_0  \n",
      "cffi                      1.11.2           py36h829d1a5_0  \n",
      "chardet                   3.0.4            py36h420ce6e_1  \n",
      "click                     6.7              py36hec8c647_0  \n",
      "cloudpickle               0.5.2            py36h6b1d831_0  \n",
      "clyent                    1.2.2            py36hb10d595_1  \n",
      "colorama                  0.3.9            py36h029ae33_0  \n",
      "comtypes                  1.1.2            py36heb9b3d1_0  \n",
      "conda                     4.3.31                   py36_0  \n",
      "conda-env                 2.6.0                h36134e3_1  \n",
      "console_shortcut          0.1.1                h6bb2dd7_3  \n",
      "contextlib2               0.5.5            py36he5d52c0_0  \n",
      "coverage                  4.4.2            py36hd32d05b_0  \n",
      "cryptography              2.1.4            py36he1d7878_0  \n",
      "curl                      7.55.1               h3b839b5_4  \n",
      "cycler                    0.10.0           py36h009560c_0  \n",
      "cython                    0.27.3           py36h22f4c84_0  \n",
      "cytoolz                   0.8.2            py36h547e66e_0  \n",
      "dask                      0.16.0           py36hea4f2f0_0  \n",
      "dask-core                 0.16.0           py36h5683b08_0  \n",
      "datashape                 0.5.4            py36h5770b85_0  \n",
      "decorator                 4.1.2            py36he63a57b_0  \n",
      "distributed               1.20.2                   py36_0  \n",
      "docutils                  0.14             py36h6012d8f_0  \n",
      "entrypoints               0.2.3            py36hfd66bb0_2  \n",
      "et_xmlfile                1.0.1            py36h3d2d736_0  \n",
      "fastcache                 1.0.2            py36hffdae1b_0  \n",
      "flask                     0.12.2           py36h98b5e8f_0  \n",
      "flask-cors                3.0.3            py36h8a3855d_0  \n",
      "freetype                  2.8                  h51f8f2c_1  \n",
      "future                    0.16.0                   py36_1  \n",
      "get_terminal_size         1.0.0                h38e98db_0  \n",
      "gevent                    1.2.2            py36h342a76c_0  \n",
      "greenlet                  0.4.12           py36ha00ad21_0  \n",
      "h2o                       3.16.0.2                  <pip>\n",
      "h5py                      2.7.1            py36he54a1c3_0  \n",
      "hdf5                      1.10.1               h98b8871_1  \n",
      "heapdict                  1.0.0            py36h21fa5f4_0  \n",
      "hide-code                 0.5.0                     <pip>\n",
      "html5lib                  1.0.1            py36h047fa9f_0  \n",
      "hypothesis                3.38.5           py36h987501d_0  \n",
      "icc_rt                    2017.0.4             h97af966_0  \n",
      "icu                       58.2                 ha66f8fd_1  \n",
      "idna                      2.6              py36h148d497_1  \n",
      "imageio                   2.2.0            py36had6c2d2_0  \n",
      "imagesize                 0.7.1            py36he29f638_0  \n",
      "intel-openmp              2018.0.0             hd92c6cd_8  \n",
      "ipykernel                 4.7.0            py36h2f9c1c0_0  \n",
      "ipython                   6.2.1            py36h9cf0123_1  \n",
      "ipython_genutils          0.2.0            py36h3c5d0ee_0  \n",
      "ipywidgets                7.0.5            py36h6314756_0  \n",
      "isort                     4.2.15           py36h6198cc5_0  \n",
      "itsdangerous              0.24             py36hb6c5a24_1  \n",
      "jdcal                     1.3              py36h64a5255_0  \n",
      "jedi                      0.11.0                   py36_2  \n",
      "jinja2                    2.10             py36h292fed1_0  \n",
      "jpeg                      9b                   hb83a4c4_2  \n",
      "jsonschema                2.6.0            py36h7636477_0  \n",
      "jupyter                   1.0.0            py36h422fd7e_2  \n",
      "jupyter_client            5.1.0            py36h9902a9a_0  \n",
      "jupyter_console           5.2.0            py36h6d89b47_1  \n",
      "jupyter_core              4.4.0            py36h56e9d50_0  \n",
      "lazy-object-proxy         1.3.1            py36hd1c21d2_0  \n",
      "libiconv                  1.15                 h1df5818_7  \n",
      "libpng                    1.6.32               h140d38e_4  \n",
      "libssh2                   1.8.0                h75d9407_3  \n",
      "libtiff                   4.0.9                h0f13578_0  \n",
      "libxml2                   2.9.4                h41ea7b2_6  \n",
      "libxslt                   1.1.29               h0037b19_6  \n",
      "llvmlite                  0.21.0           py36he0b0552_0  \n",
      "locket                    0.2.0            py36hfed976d_1  \n",
      "lxml                      4.1.1            py36he0adb16_0  \n",
      "lzo                       2.10                 h6df0209_2  \n",
      "markupsafe                1.0              py36h0e26971_1  \n",
      "matplotlib                2.1.1            py36h2062329_0  \n",
      "mccabe                    0.6.1            py36hb41005a_1  \n",
      "menuinst                  1.4.10           py36h42196fb_0  \n",
      "mistune                   0.8.1            py36h007b88b_0  \n",
      "mkl                       2018.0.1             h2108138_4  \n",
      "mkl-service               1.1.2            py36h57e144c_4  \n",
      "mpmath                    1.0.0            py36hacc8adf_2  \n",
      "msgpack-python            0.4.8            py36h58b1e9d_0  \n",
      "multipledispatch          0.4.9            py36he44c36e_0  \n",
      "navigator-updater         0.1.0            py36h8a7b86b_0  \n",
      "nbconvert                 5.3.1            py36h8dc0fde_0  \n",
      "nbformat                  4.4.0            py36h3a5bc1b_0  \n",
      "neo4j-driver              1.4.0                     <pip>\n",
      "networkx                  1.11             py36hdf4b0f5_0  \n",
      "nltk                      3.2.5            py36h76d52bb_0  \n",
      "nose                      1.3.7            py36h1c3779e_2  \n",
      "notebook                  5.2.1                     <pip>\n",
      "notebook                  5.2.2            py36hc48260a_0  \n",
      "numba                     0.36.1          np113py36h0128aa7_0  \n",
      "numexpr                   2.6.4            py36h30784b8_0  \n",
      "numpy                     1.13.3           py36ha320f96_0  \n",
      "numpydoc                  0.7.0            py36ha25429e_0  \n",
      "odo                       0.5.1            py36h7560279_0  \n",
      "olefile                   0.44             py36h0a7bdd2_0  \n",
      "openpyxl                  2.4.9            py36h6c6577a_0  \n",
      "openssl                   1.0.2n               h74b6da3_0  \n",
      "packaging                 16.8             py36ha0986f6_1  \n",
      "pandas                    0.21.1           py36h047fa9f_0  \n",
      "pandoc                    1.19.2.1             hb2460c7_1  \n",
      "pandocfilters             1.4.2            py36h3ef6317_1  \n",
      "parso                     0.1.1            py36hae3edee_0  \n",
      "partd                     0.3.8            py36hc8e763b_0  \n",
      "path.py                   10.5             py36h2b94a8f_0  \n",
      "pathlib2                  2.3.0            py36h7bfb78b_0  \n",
      "patsy                     0.4.1            py36h42cefec_0  \n",
      "pdfkit                    0.6.1                     <pip>\n",
      "pep8                      1.7.0            py36h0f3d67a_0  \n",
      "pickleshare               0.7.4            py36h9de030f_0  \n",
      "pillow                    4.3.0            py36ha40f157_1  \n",
      "pip                       9.0.1            py36h226ae91_4  \n",
      "pluggy                    0.6.0            py36hc7daf1e_0  \n",
      "ply                       3.10             py36h1211beb_0  \n",
      "prompt_toolkit            1.0.15           py36h60b8f86_0  \n",
      "psutil                    5.4.1            py36h257d382_0  \n",
      "py                        1.5.2            py36hbcfbabc_0  \n",
      "pycodestyle               2.3.1            py36h7cc55cd_0  \n",
      "pycosat                   0.6.3            py36h413d8a4_0  \n",
      "pycparser                 2.18             py36hd053e01_1  \n",
      "pycrypto                  2.6.1            py36he68e6e2_1  \n",
      "pycurl                    7.43.0           py36h086bf4c_3  \n",
      "pyflakes                  1.6.0            py36h0b975d6_0  \n",
      "pygments                  2.2.0            py36hb010967_0  \n",
      "pylint                    1.7.4            py36ha4e6ded_0  \n",
      "pymongo                   3.5.1                     <pip>\n",
      "pympler                   0.5              py36h863af32_0  \n",
      "pyodbc                    4.0.21           py36h82c9817_0  \n",
      "pyopenssl                 17.5.0           py36h5b7d817_0  \n",
      "pyparsing                 2.2.0            py36h785a196_1  \n",
      "pyqt                      5.6.0            py36hb5ed885_5  \n",
      "pysocks                   1.6.7            py36h698d350_1  \n",
      "pytables                  3.4.2            py36h71138e3_2  \n",
      "pytest                    3.3.0            py36hf3522a2_0  \n",
      "python                    3.6.3                h3b118a2_4  \n",
      "python-dateutil           2.6.1            py36h509ddcb_1  \n",
      "python-memcached          1.58                      <pip>\n",
      "pytz                      2017.3           py36h1d3fa6b_0  \n",
      "pywavelets                0.5.2            py36hc649158_0  \n",
      "pywin32                   221              py36h9c10281_0  \n",
      "pyyaml                    3.12             py36h1d1928f_1  \n",
      "pyzmq                     16.0.3           py36he714bf5_0  \n",
      "qt                        5.6.2           vc14h6f8c307_12  [vc14]\n",
      "qtawesome                 0.4.4            py36h5aa48f6_0  \n",
      "qtconsole                 4.3.1            py36h99a29a9_0  \n",
      "qtpy                      1.3.1            py36hb8717c5_0  \n",
      "redis                     2.10.6                    <pip>\n",
      "requests                  2.18.4           py36h4371aae_1  \n",
      "rope                      0.10.7           py36had63a69_0  \n",
      "ruamel_yaml               0.11.14          py36h9b16331_2  \n",
      "scikit-image              0.13.1           py36h2813840_0  \n",
      "scikit-learn              0.19.1           py36h53aea1b_0  \n",
      "scipy                     1.0.0            py36h1260518_0  \n",
      "seaborn                   0.8.1            py36h9b69545_0  \n",
      "setuptools                36.5.0           py36h65f9e6e_0  \n",
      "setuptools                36.4.0                    <pip>\n",
      "simplegeneric             0.8.1            py36heab741f_0  \n",
      "singledispatch            3.4.0.3          py36h17d0c80_0  \n",
      "sip                       4.18.1           py36h9c25514_2  \n",
      "six                       1.11.0           py36h4db2310_1  \n",
      "snowballstemmer           1.2.1            py36h763602f_0  \n",
      "sortedcollections         0.5.3            py36hbefa0ab_0  \n",
      "sortedcontainers          1.5.7            py36ha90ac20_0  \n",
      "sphinx                    1.6.3            py36h9bb690b_0  \n",
      "sphinxcontrib             1.0              py36hbbac3d2_1  \n",
      "sphinxcontrib-websupport  1.0.1            py36hb5e5916_1  \n",
      "spyder                    3.2.4            py36h8845eaa_0  \n",
      "sqlalchemy                1.1.13           py36h5948d12_0  \n",
      "sqlite                    3.20.1               h9eeafa9_2  \n",
      "statsmodels               0.8.0            py36h6189b4c_0  \n",
      "sympy                     1.1.1            py36h96708e0_0  \n",
      "tabulate                  0.8.2                     <pip>\n",
      "tblib                     1.3.2            py36h30f5020_0  \n",
      "testpath                  0.3.1            py36h2698cfe_0  \n",
      "tk                        8.6.7                hcb92d03_3  \n",
      "toolz                     0.8.2            py36he152a52_0  \n",
      "tornado                   4.5.2            py36h57f6048_0  \n",
      "traitlets                 4.3.2            py36h096827d_0  \n",
      "typing                    3.6.2            py36hb035bda_0  \n",
      "unicodecsv                0.14.1           py36h6450c06_0  \n",
      "urllib3                   1.22             py36h276f60a_0  \n",
      "vc                        14                   h2379b0c_2  \n",
      "vs2015_runtime            14.0.25123           hd4c4e62_2  \n",
      "wcwidth                   0.1.7            py36h3d5aa90_0  \n",
      "webencodings              0.5.1            py36h67c50ae_1  \n",
      "werkzeug                  0.12.2           py36h866a736_0  \n",
      "wheel                     0.30.0           py36h6c3ec14_1  \n",
      "widgetsnbextension        3.0.8            py36h933dd4f_0  \n",
      "win_inet_pton             1.0.1            py36he67d7fd_1  \n",
      "win_unicode_console       0.5              py36hcdbd4b5_0  \n",
      "wincertstore              0.2              py36h7fe50ca_0  \n",
      "wrapt                     1.10.11          py36he5f5981_0  \n",
      "xlrd                      1.1.0            py36h1cb58dc_1  \n",
      "xlsxwriter                1.0.2            py36hf723b7d_0  \n",
      "xlwings                   0.11.4           py36hd3cf94d_0  \n",
      "xlwt                      1.3.0            py36h1a4751e_0  \n",
      "yaml                      0.1.7                hc54c509_2  \n",
      "zict                      0.1.3            py36h2d8e73e_0  \n",
      "zlib                      1.2.11               h8395fce_2  \n",
      "zope                      1.0                      py36_0  \n",
      "zope.interface            4.4.3            py36h56cab3c_0  \n"
     ]
    }
   ],
   "source": [
    "!conda list"
   ]
  },
  {
   "cell_type": "code",
   "execution_count": 77,
   "metadata": {
    "hideCode": false,
    "hidePrompt": false
   },
   "outputs": [
    {
     "name": "stdout",
     "output_type": "stream",
     "text": [
      "Fetching package metadata .............\n",
      "\n",
      "cartopy 0.15.1 py36he9c7c8c_5\n",
      "-----------------------------\n",
      "file name   : cartopy-0.15.1-py36he9c7c8c_5.tar.bz2\n",
      "name        : cartopy\n",
      "version     : 0.15.1\n",
      "build string: py36he9c7c8c_5\n",
      "build number: 5\n",
      "channel     : defaults\n",
      "size        : 1.9 MB\n",
      "arch        : None\n",
      "license     : GNU LGPL\n",
      "md5         : 474d6575ebdbc8f2929948e093b92638\n",
      "noarch      : None\n",
      "platform    : None\n",
      "subdir      : win-64\n",
      "timestamp   : 1511996435719\n",
      "url         : https://repo.continuum.io/pkgs/main/win-64/cartopy-0.15.1-py36he9c7c8c_5.tar.bz2\n",
      "dependencies:\n",
      "    geos\n",
      "    geos >=3.6.2,<3.6.3.0a0\n",
      "    matplotlib\n",
      "    numpy >=1.11.3,<2.0a0\n",
      "    owslib\n",
      "    pillow\n",
      "    proj4\n",
      "    proj4 >=4.9.3,<4.9.4.0a0\n",
      "    pyepsg\n",
      "    pyshp\n",
      "    python >=3.6,<3.7.0a0\n",
      "    scipy\n",
      "    shapely\n",
      "    six\n",
      "    vc 14.*\n",
      "\n",
      "cartopy 0.15.1 py35hd4b0a4f_5\n",
      "-----------------------------\n",
      "file name   : cartopy-0.15.1-py35hd4b0a4f_5.tar.bz2\n",
      "name        : cartopy\n",
      "version     : 0.15.1\n",
      "build string: py35hd4b0a4f_5\n",
      "build number: 5\n",
      "channel     : defaults\n",
      "size        : 1.9 MB\n",
      "arch        : None\n",
      "license     : GNU LGPL\n",
      "md5         : 9270b40778c217617c586200943ab254\n",
      "noarch      : None\n",
      "platform    : None\n",
      "subdir      : win-64\n",
      "timestamp   : 1511996460631\n",
      "url         : https://repo.continuum.io/pkgs/main/win-64/cartopy-0.15.1-py35hd4b0a4f_5.tar.bz2\n",
      "dependencies:\n",
      "    geos\n",
      "    geos >=3.6.2,<3.6.3.0a0\n",
      "    matplotlib\n",
      "    numpy >=1.11.3,<2.0a0\n",
      "    owslib\n",
      "    pillow\n",
      "    proj4\n",
      "    proj4 >=4.9.3,<4.9.4.0a0\n",
      "    pyepsg\n",
      "    pyshp\n",
      "    python >=3.5,<3.6.0a0\n",
      "    scipy\n",
      "    shapely\n",
      "    six\n",
      "    vc 14.*\n",
      "\n",
      "cartopy 0.15.1 py27h4ae2bc2_5\n",
      "-----------------------------\n",
      "file name   : cartopy-0.15.1-py27h4ae2bc2_5.tar.bz2\n",
      "name        : cartopy\n",
      "version     : 0.15.1\n",
      "build string: py27h4ae2bc2_5\n",
      "build number: 5\n",
      "channel     : defaults\n",
      "size        : 1.9 MB\n",
      "arch        : None\n",
      "license     : GNU LGPL\n",
      "md5         : 0d311ea6449e2f62f6094d0ec32a168b\n",
      "noarch      : None\n",
      "platform    : None\n",
      "subdir      : win-64\n",
      "timestamp   : 1511996890573\n",
      "url         : https://repo.continuum.io/pkgs/main/win-64/cartopy-0.15.1-py27h4ae2bc2_5.tar.bz2\n",
      "dependencies:\n",
      "    geos\n",
      "    geos >=3.6.2,<3.6.3.0a0\n",
      "    matplotlib\n",
      "    numpy >=1.11.3,<2.0a0\n",
      "    owslib\n",
      "    pillow\n",
      "    proj4\n",
      "    proj4 >=4.9.3,<4.9.4.0a0\n",
      "    pyepsg\n",
      "    pyshp\n",
      "    python >=2.7,<2.8.0a0\n",
      "    scipy\n",
      "    shapely\n",
      "    six\n",
      "    vc 9.*\n"
     ]
    }
   ],
   "source": [
    "!conda info cartopy"
   ]
  },
  {
   "cell_type": "code",
   "execution_count": null,
   "metadata": {
    "hideCode": false,
    "hidePrompt": false
   },
   "outputs": [],
   "source": []
  },
  {
   "cell_type": "code",
   "execution_count": null,
   "metadata": {
    "hideCode": false,
    "hidePrompt": false
   },
   "outputs": [],
   "source": []
  },
  {
   "cell_type": "code",
   "execution_count": null,
   "metadata": {
    "hideCode": false,
    "hidePrompt": false
   },
   "outputs": [],
   "source": []
  },
  {
   "cell_type": "markdown",
   "metadata": {
    "hideCode": false,
    "hidePrompt": false
   },
   "source": [
    "TODO: \n",
    "* change the names of the columns for easier usage\n",
    "* export pandas data for later processsing\n",
    "* compress the data as much as possible"
   ]
  },
  {
   "cell_type": "markdown",
   "metadata": {
    "hideCode": false,
    "hidePrompt": false
   },
   "source": [
    "random testing"
   ]
  },
  {
   "cell_type": "code",
   "execution_count": null,
   "metadata": {
    "hideCode": false,
    "hidePrompt": false
   },
   "outputs": [],
   "source": [
    "np.iinfo('int8')"
   ]
  },
  {
   "cell_type": "code",
   "execution_count": null,
   "metadata": {
    "hideCode": false,
    "hidePrompt": false
   },
   "outputs": [],
   "source": [
    "np.iinfo('uint32')"
   ]
  },
  {
   "cell_type": "code",
   "execution_count": null,
   "metadata": {
    "hideCode": false,
    "hidePrompt": false
   },
   "outputs": [],
   "source": [
    "np.iinfo(1107434506)"
   ]
  },
  {
   "cell_type": "code",
   "execution_count": null,
   "metadata": {
    "hideCode": false,
    "hidePrompt": false
   },
   "outputs": [],
   "source": [
    "np.iinfo('uint8')"
   ]
  }
 ],
 "metadata": {
  "hide_code_all_hidden": false,
  "kernelspec": {
   "display_name": "Python 3",
   "language": "python",
   "name": "python3"
  },
  "language_info": {
   "codemirror_mode": {
    "name": "ipython",
    "version": 3
   },
   "file_extension": ".py",
   "mimetype": "text/x-python",
   "name": "python",
   "nbconvert_exporter": "python",
   "pygments_lexer": "ipython3",
   "version": "3.6.3"
  }
 },
 "nbformat": 4,
 "nbformat_minor": 2
}

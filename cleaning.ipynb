{
 "cells": [
  {
   "cell_type": "code",
   "execution_count": 1,
   "metadata": {
    "hideCode": false,
    "hidePrompt": false
   },
   "outputs": [],
   "source": [
    "import numpy as np\n",
    "import pandas as pd\n",
    "import seaborn as sns\n",
    "import matplotlib.pyplot as plt\n",
    "\n",
    "%matplotlib inline\n",
    "\n",
    "import os\n",
    "import pickle"
   ]
  },
  {
   "cell_type": "code",
   "execution_count": 2,
   "metadata": {},
   "outputs": [],
   "source": [
    "import pyproj"
   ]
  },
  {
   "cell_type": "code",
   "execution_count": 3,
   "metadata": {},
   "outputs": [],
   "source": [
    "import cartopy.crs as ccrs\n",
    "import cartopy.feature as cfeat"
   ]
  },
  {
   "cell_type": "code",
   "execution_count": 4,
   "metadata": {
    "hideCode": false,
    "hidePrompt": false
   },
   "outputs": [],
   "source": [
    "import plotly.offline as offline\n",
    "from plotly.offline import download_plotlyjs\n",
    "import plotly.graph_objs as go"
   ]
  },
  {
   "cell_type": "code",
   "execution_count": 5,
   "metadata": {
    "hideCode": false,
    "hidePrompt": false
   },
   "outputs": [
    {
     "data": {
      "text/html": [
       "<script>requirejs.config({paths: { 'plotly': ['https://cdn.plot.ly/plotly-latest.min']},});if(!window.Plotly) {{require(['plotly'],function(plotly) {window.Plotly=plotly;});}}</script>"
      ],
      "text/vnd.plotly.v1+html": [
       "<script>requirejs.config({paths: { 'plotly': ['https://cdn.plot.ly/plotly-latest.min']},});if(!window.Plotly) {{require(['plotly'],function(plotly) {window.Plotly=plotly;});}}</script>"
      ]
     },
     "metadata": {},
     "output_type": "display_data"
    }
   ],
   "source": [
    "offline.init_notebook_mode(connected=True)"
   ]
  },
  {
   "cell_type": "markdown",
   "metadata": {
    "hideCode": false,
    "hidePrompt": false
   },
   "source": [
    "dataset was obtained from https://data.lacity.org/A-Well-Run-City/Parking-Citations/wjz9-h9np"
   ]
  },
  {
   "cell_type": "code",
   "execution_count": 8,
   "metadata": {
    "hideCode": false,
    "hidePrompt": false
   },
   "outputs": [],
   "source": [
    "filepath = os.path.dirname('__filename__')\n",
    "fp_parking = os.path.join(filepath, 'dataset', 'Parking_Citations.csv') ## Path to dataset"
   ]
  },
  {
   "cell_type": "code",
   "execution_count": 5,
   "metadata": {
    "hideCode": false,
    "hidePrompt": false
   },
   "outputs": [],
   "source": [
    "## Just to see the format of the csv file\n",
    "# with open(fp_parking, 'r') as f:\n",
    "#     for n in range(3):\n",
    "#         line = f.readline()\n",
    "#         print(line)"
   ]
  },
  {
   "cell_type": "code",
   "execution_count": null,
   "metadata": {
    "hideCode": false,
    "hidePrompt": false
   },
   "outputs": [],
   "source": [
    "df = pd.read_csv(fp_parking, low_memory= False, parse_dates=['Issue Date'])"
   ]
  },
  {
   "cell_type": "code",
   "execution_count": 11,
   "metadata": {
    "hideCode": false,
    "hidePrompt": false
   },
   "outputs": [
    {
     "name": "stdout",
     "output_type": "stream",
     "text": [
      "<class 'pandas.core.frame.DataFrame'>\n",
      "RangeIndex: 4038226 entries, 0 to 4038225\n",
      "Data columns (total 19 columns):\n",
      "Ticket number            4038226 non-null object\n",
      "Issue Date               4037801 non-null datetime64[ns]\n",
      "Issue time               4036941 non-null float64\n",
      "Meter Id                 1125230 non-null object\n",
      "Marked Time              141927 non-null float64\n",
      "RP State Plate           4037223 non-null object\n",
      "Plate Expiry Date        3686011 non-null float64\n",
      "VIN                      16309 non-null object\n",
      "Make                     4034020 non-null object\n",
      "Body Style               4034392 non-null object\n",
      "Color                    4036234 non-null object\n",
      "Location                 4037672 non-null object\n",
      "Route                    4011489 non-null object\n",
      "Agency                   4037798 non-null float64\n",
      "Violation code           4038226 non-null object\n",
      "Violation Description    4037860 non-null object\n",
      "Fine amount              4033923 non-null float64\n",
      "Latitude                 4038226 non-null float64\n",
      "Longitude                4038226 non-null float64\n",
      "dtypes: datetime64[ns](1), float64(7), object(11)\n",
      "memory usage: 2.7 GB\n"
     ]
    }
   ],
   "source": [
    "df.info(memory_usage='deep', null_counts=True)"
   ]
  },
  {
   "cell_type": "markdown",
   "metadata": {
    "hideCode": false,
    "hidePrompt": false
   },
   "source": [
    "## Find/Fix Errors"
   ]
  },
  {
   "cell_type": "markdown",
   "metadata": {
    "hideCode": false,
    "hidePrompt": false
   },
   "source": [
    "### Ticket Number"
   ]
  },
  {
   "cell_type": "code",
   "execution_count": 7,
   "metadata": {
    "hideCode": false,
    "hidePrompt": false
   },
   "outputs": [
    {
     "data": {
      "text/plain": [
       "Index(['Ticket number'], dtype='object')"
      ]
     },
     "execution_count": 7,
     "metadata": {},
     "output_type": "execute_result"
    }
   ],
   "source": [
    "## The column with mix column types\n",
    "df.columns[[0]]"
   ]
  },
  {
   "cell_type": "code",
   "execution_count": 8,
   "metadata": {
    "hideCode": false,
    "hidePrompt": false,
    "scrolled": true
   },
   "outputs": [
    {
     "name": "stdout",
     "output_type": "stream",
     "text": [
      "Example of Ticket number's parse error: 1107495524D\n",
      "Number of parse errors: 150\n"
     ]
    }
   ],
   "source": [
    "## One of the example why parsing Ticket number resulted in mix dtype\n",
    "print(\"Example of Ticket number's parse error: {}\".format(df.loc[595827, 'Ticket number']))\n",
    "print(\"Number of parse errors: {}\".format(\\\n",
    "    pd.to_numeric(df['Ticket number'], errors='coerce').isna().sum())) ## Count fail conversions"
   ]
  },
  {
   "cell_type": "code",
   "execution_count": 9,
   "metadata": {
    "hideCode": false,
    "hidePrompt": false
   },
   "outputs": [],
   "source": [
    "## Delete the letter D from number and convert to int value\n",
    "## astype to make sure every row is treated as a string\n",
    "df['Ticket number'] = pd.to_numeric(df['Ticket number'].astype('str')\n",
    "                                    .str.replace('D', ''), downcast = 'unsigned')"
   ]
  },
  {
   "cell_type": "code",
   "execution_count": 10,
   "metadata": {
    "hideCode": false,
    "hidePrompt": false
   },
   "outputs": [
    {
     "name": "stdout",
     "output_type": "stream",
     "text": [
      "Number of Ticket number duplicates: 8\n"
     ]
    }
   ],
   "source": [
    "## Make sure that ticket numbers are all unique\n",
    "tmp = df.duplicated(subset='Ticket number', keep = False)\n",
    "print('Number of Ticket number duplicates: {}'.format(tmp.sum()))"
   ]
  },
  {
   "cell_type": "code",
   "execution_count": 11,
   "metadata": {
    "hideCode": false,
    "hidePrompt": false,
    "scrolled": false
   },
   "outputs": [
    {
     "data": {
      "text/html": [
       "<div>\n",
       "<style scoped>\n",
       "    .dataframe tbody tr th:only-of-type {\n",
       "        vertical-align: middle;\n",
       "    }\n",
       "\n",
       "    .dataframe tbody tr th {\n",
       "        vertical-align: top;\n",
       "    }\n",
       "\n",
       "    .dataframe thead th {\n",
       "        text-align: right;\n",
       "    }\n",
       "</style>\n",
       "<table border=\"1\" class=\"dataframe\">\n",
       "  <thead>\n",
       "    <tr style=\"text-align: right;\">\n",
       "      <th></th>\n",
       "      <th>Ticket number</th>\n",
       "      <th>Issue Date</th>\n",
       "      <th>Issue time</th>\n",
       "      <th>Meter Id</th>\n",
       "      <th>Marked Time</th>\n",
       "      <th>RP State Plate</th>\n",
       "      <th>Plate Expiry Date</th>\n",
       "      <th>VIN</th>\n",
       "      <th>Make</th>\n",
       "      <th>Body Style</th>\n",
       "      <th>Color</th>\n",
       "      <th>Location</th>\n",
       "      <th>Route</th>\n",
       "      <th>Agency</th>\n",
       "      <th>Violation code</th>\n",
       "      <th>Violation Description</th>\n",
       "      <th>Fine amount</th>\n",
       "      <th>Latitude</th>\n",
       "      <th>Longitude</th>\n",
       "    </tr>\n",
       "  </thead>\n",
       "  <tbody>\n",
       "    <tr>\n",
       "      <th>1907370</th>\n",
       "      <td>1107505044</td>\n",
       "      <td>2015-04-12</td>\n",
       "      <td>1525.0</td>\n",
       "      <td>NaN</td>\n",
       "      <td>NaN</td>\n",
       "      <td>CA</td>\n",
       "      <td>201506.0</td>\n",
       "      <td>NaN</td>\n",
       "      <td>FORD</td>\n",
       "      <td>SU</td>\n",
       "      <td>BK</td>\n",
       "      <td>B-79 OUTER PKG LOT</td>\n",
       "      <td>M78</td>\n",
       "      <td>3.0</td>\n",
       "      <td>8709K</td>\n",
       "      <td>PK OVR PNTD LNS</td>\n",
       "      <td>58.0</td>\n",
       "      <td>99999.0</td>\n",
       "      <td>99999.0</td>\n",
       "    </tr>\n",
       "    <tr>\n",
       "      <th>1978540</th>\n",
       "      <td>1107505044</td>\n",
       "      <td>2015-04-30</td>\n",
       "      <td>2136.0</td>\n",
       "      <td>46</td>\n",
       "      <td>NaN</td>\n",
       "      <td>CA</td>\n",
       "      <td>201507.0</td>\n",
       "      <td>NaN</td>\n",
       "      <td>TOYO</td>\n",
       "      <td>PA</td>\n",
       "      <td>WH</td>\n",
       "      <td>122 N KINGSLEY DR</td>\n",
       "      <td>NaN</td>\n",
       "      <td>54.0</td>\n",
       "      <td>8058L</td>\n",
       "      <td>PREF PARKING</td>\n",
       "      <td>68.0</td>\n",
       "      <td>99999.0</td>\n",
       "      <td>99999.0</td>\n",
       "    </tr>\n",
       "    <tr>\n",
       "      <th>1968362</th>\n",
       "      <td>1107505055</td>\n",
       "      <td>2015-04-30</td>\n",
       "      <td>2147.0</td>\n",
       "      <td>46</td>\n",
       "      <td>NaN</td>\n",
       "      <td>CA</td>\n",
       "      <td>201507.0</td>\n",
       "      <td>NaN</td>\n",
       "      <td>FORD</td>\n",
       "      <td>TR</td>\n",
       "      <td>WH</td>\n",
       "      <td>200 N HOBART BL</td>\n",
       "      <td>NaN</td>\n",
       "      <td>54.0</td>\n",
       "      <td>8058L</td>\n",
       "      <td>PREF PARKING</td>\n",
       "      <td>68.0</td>\n",
       "      <td>99999.0</td>\n",
       "      <td>99999.0</td>\n",
       "    </tr>\n",
       "    <tr>\n",
       "      <th>2003185</th>\n",
       "      <td>1107505055</td>\n",
       "      <td>2015-04-21</td>\n",
       "      <td>1125.0</td>\n",
       "      <td>NaN</td>\n",
       "      <td>NaN</td>\n",
       "      <td>CA</td>\n",
       "      <td>NaN</td>\n",
       "      <td>NaN</td>\n",
       "      <td>HRI</td>\n",
       "      <td>TL</td>\n",
       "      <td>BK</td>\n",
       "      <td>500 N LECOUVREUR AVE</td>\n",
       "      <td>M78</td>\n",
       "      <td>3.0</td>\n",
       "      <td>80691A</td>\n",
       "      <td>COMM TRAILER/22 FT.</td>\n",
       "      <td>78.0</td>\n",
       "      <td>6483992.8</td>\n",
       "      <td>1740936.0</td>\n",
       "    </tr>\n",
       "    <tr>\n",
       "      <th>1285397</th>\n",
       "      <td>1111163222</td>\n",
       "      <td>2015-01-06</td>\n",
       "      <td>1655.0</td>\n",
       "      <td>NaN</td>\n",
       "      <td>NaN</td>\n",
       "      <td>CA</td>\n",
       "      <td>201501.0</td>\n",
       "      <td>NaN</td>\n",
       "      <td>CADI</td>\n",
       "      <td>PA</td>\n",
       "      <td>BK</td>\n",
       "      <td>10851 W OHIO AVE</td>\n",
       "      <td>00123</td>\n",
       "      <td>51.0</td>\n",
       "      <td>8069AP</td>\n",
       "      <td>NO STOP/STAND PM</td>\n",
       "      <td>93.0</td>\n",
       "      <td>6428251.9</td>\n",
       "      <td>1842411.5</td>\n",
       "    </tr>\n",
       "    <tr>\n",
       "      <th>1908101</th>\n",
       "      <td>1111163222</td>\n",
       "      <td>2015-04-17</td>\n",
       "      <td>646.0</td>\n",
       "      <td>NaN</td>\n",
       "      <td>NaN</td>\n",
       "      <td>CA</td>\n",
       "      <td>201502.0</td>\n",
       "      <td>NaN</td>\n",
       "      <td>HOND</td>\n",
       "      <td>PA</td>\n",
       "      <td>SI</td>\n",
       "      <td>3405 S OVERLAND AV</td>\n",
       "      <td>00146</td>\n",
       "      <td>51.0</td>\n",
       "      <td>8069C</td>\n",
       "      <td>PKD OVER TIME LIMIT</td>\n",
       "      <td>58.0</td>\n",
       "      <td>6436653.8</td>\n",
       "      <td>1832101.2</td>\n",
       "    </tr>\n",
       "    <tr>\n",
       "      <th>1037436</th>\n",
       "      <td>1112203050</td>\n",
       "      <td>2016-06-05</td>\n",
       "      <td>1700.0</td>\n",
       "      <td>NaN</td>\n",
       "      <td>NaN</td>\n",
       "      <td>CA</td>\n",
       "      <td>201604.0</td>\n",
       "      <td>NaN</td>\n",
       "      <td>HOND</td>\n",
       "      <td>PA</td>\n",
       "      <td>GY</td>\n",
       "      <td>7610 WOODLEY AVE</td>\n",
       "      <td>2C12</td>\n",
       "      <td>11.0</td>\n",
       "      <td>5204A</td>\n",
       "      <td>EXPIRED TAGS</td>\n",
       "      <td>25.0</td>\n",
       "      <td>6415432.1</td>\n",
       "      <td>1898663.3</td>\n",
       "    </tr>\n",
       "    <tr>\n",
       "      <th>1062722</th>\n",
       "      <td>1112203050</td>\n",
       "      <td>2016-06-19</td>\n",
       "      <td>319.0</td>\n",
       "      <td>NaN</td>\n",
       "      <td>NaN</td>\n",
       "      <td>CA</td>\n",
       "      <td>201601.0</td>\n",
       "      <td>NaN</td>\n",
       "      <td>KIA</td>\n",
       "      <td>PA</td>\n",
       "      <td>WH</td>\n",
       "      <td>301 WORLD WAY</td>\n",
       "      <td>3F93</td>\n",
       "      <td>2.0</td>\n",
       "      <td>4000A1</td>\n",
       "      <td>NO EVIDENCE OF REG</td>\n",
       "      <td>50.0</td>\n",
       "      <td>6437963.6</td>\n",
       "      <td>1802392.9</td>\n",
       "    </tr>\n",
       "  </tbody>\n",
       "</table>\n",
       "</div>"
      ],
      "text/plain": [
       "         Ticket number Issue Date  Issue time Meter Id  Marked Time  \\\n",
       "1907370     1107505044 2015-04-12      1525.0      NaN          NaN   \n",
       "1978540     1107505044 2015-04-30      2136.0       46          NaN   \n",
       "1968362     1107505055 2015-04-30      2147.0       46          NaN   \n",
       "2003185     1107505055 2015-04-21      1125.0      NaN          NaN   \n",
       "1285397     1111163222 2015-01-06      1655.0      NaN          NaN   \n",
       "1908101     1111163222 2015-04-17       646.0      NaN          NaN   \n",
       "1037436     1112203050 2016-06-05      1700.0      NaN          NaN   \n",
       "1062722     1112203050 2016-06-19       319.0      NaN          NaN   \n",
       "\n",
       "        RP State Plate  Plate Expiry Date  VIN  Make Body Style Color  \\\n",
       "1907370             CA           201506.0  NaN  FORD         SU    BK   \n",
       "1978540             CA           201507.0  NaN  TOYO         PA    WH   \n",
       "1968362             CA           201507.0  NaN  FORD         TR    WH   \n",
       "2003185             CA                NaN  NaN   HRI         TL    BK   \n",
       "1285397             CA           201501.0  NaN  CADI         PA    BK   \n",
       "1908101             CA           201502.0  NaN  HOND         PA    SI   \n",
       "1037436             CA           201604.0  NaN  HOND         PA    GY   \n",
       "1062722             CA           201601.0  NaN   KIA         PA    WH   \n",
       "\n",
       "                     Location  Route  Agency Violation code  \\\n",
       "1907370    B-79 OUTER PKG LOT    M78     3.0          8709K   \n",
       "1978540     122 N KINGSLEY DR    NaN    54.0          8058L   \n",
       "1968362       200 N HOBART BL    NaN    54.0          8058L   \n",
       "2003185  500 N LECOUVREUR AVE    M78     3.0         80691A   \n",
       "1285397      10851 W OHIO AVE  00123    51.0         8069AP   \n",
       "1908101    3405 S OVERLAND AV  00146    51.0          8069C   \n",
       "1037436      7610 WOODLEY AVE   2C12    11.0          5204A   \n",
       "1062722         301 WORLD WAY   3F93     2.0         4000A1   \n",
       "\n",
       "        Violation Description  Fine amount   Latitude  Longitude  \n",
       "1907370       PK OVR PNTD LNS         58.0    99999.0    99999.0  \n",
       "1978540          PREF PARKING         68.0    99999.0    99999.0  \n",
       "1968362          PREF PARKING         68.0    99999.0    99999.0  \n",
       "2003185   COMM TRAILER/22 FT.         78.0  6483992.8  1740936.0  \n",
       "1285397      NO STOP/STAND PM         93.0  6428251.9  1842411.5  \n",
       "1908101   PKD OVER TIME LIMIT         58.0  6436653.8  1832101.2  \n",
       "1037436          EXPIRED TAGS         25.0  6415432.1  1898663.3  \n",
       "1062722    NO EVIDENCE OF REG         50.0  6437963.6  1802392.9  "
      ]
     },
     "execution_count": 11,
     "metadata": {},
     "output_type": "execute_result"
    }
   ],
   "source": [
    "df[tmp].sort_values(by = 'Ticket number')"
   ]
  },
  {
   "cell_type": "markdown",
   "metadata": {
    "hideCode": false,
    "hidePrompt": false
   },
   "source": [
    "Cannot find reasons for duplicate ticket number and since duplicates are such a small population and I have no good reason to correct them at the moment, I will keep them as is. "
   ]
  },
  {
   "cell_type": "markdown",
   "metadata": {},
   "source": [
    "## Issue Date"
   ]
  },
  {
   "cell_type": "code",
   "execution_count": 12,
   "metadata": {},
   "outputs": [
    {
     "data": {
      "text/plain": [
       "count                 4037801\n",
       "unique                   1292\n",
       "top       2016-01-19 00:00:00\n",
       "freq                     9829\n",
       "first     2010-01-09 00:00:00\n",
       "last      2017-10-31 00:00:00\n",
       "Name: Issue Date, dtype: object"
      ]
     },
     "execution_count": 12,
     "metadata": {},
     "output_type": "execute_result"
    }
   ],
   "source": [
    "df['Issue Date'].describe()"
   ]
  },
  {
   "cell_type": "code",
   "execution_count": 13,
   "metadata": {},
   "outputs": [
    {
     "data": {
      "text/plain": [
       "2010.0         12\n",
       "2011.0         10\n",
       "2012.0         30\n",
       "2013.0         38\n",
       "2014.0      39406\n",
       "2015.0    2181331\n",
       "2016.0    1783038\n",
       "2017.0      33936\n",
       "Name: Issue Date, dtype: int64"
      ]
     },
     "execution_count": 13,
     "metadata": {},
     "output_type": "execute_result"
    }
   ],
   "source": [
    "## Count number of tickets by year\n",
    "df['Issue Date'].dt.year.value_counts().sort_index()"
   ]
  },
  {
   "cell_type": "markdown",
   "metadata": {},
   "source": [
    "This does not look right at all. There are too little tickets for all years but 2015 and 2016 which I have verified by other's analysis on the dataset. https://public.tableau.com/profile/amit.n6941#!/vizhome/ParkinginLosAngeles2016/Dashboard1 "
   ]
  },
  {
   "cell_type": "markdown",
   "metadata": {
    "hideCode": false,
    "hidePrompt": false
   },
   "source": [
    "## VIN"
   ]
  },
  {
   "cell_type": "code",
   "execution_count": 14,
   "metadata": {
    "hideCode": false,
    "hidePrompt": false
   },
   "outputs": [
    {
     "name": "stdout",
     "output_type": "stream",
     "text": [
      "The number of non-null for VIN column: 16309\n"
     ]
    }
   ],
   "source": [
    "## VIN column isn't that useful because it is mainly null so keep as string\n",
    "print(\"The number of non-null for VIN column: {:d}\".format(df['VIN'].notnull().sum()))"
   ]
  },
  {
   "cell_type": "markdown",
   "metadata": {
    "hideCode": false,
    "hidePrompt": false
   },
   "source": [
    "## Issue Time"
   ]
  },
  {
   "cell_type": "code",
   "execution_count": 15,
   "metadata": {
    "hideCode": false,
    "hidePrompt": false
   },
   "outputs": [
    {
     "name": "stdout",
     "output_type": "stream",
     "text": [
      "count   4036941\n",
      "mean       1224\n",
      "std         477\n",
      "min           0\n",
      "25%         923\n",
      "50%        1207\n",
      "75%        1545\n",
      "max        2359\n",
      "Name: Issue time, dtype: float64\n"
     ]
    }
   ],
   "source": [
    "with pd.option_context('display.float_format', '{:.0f}'.format):\n",
    "    print(df['Issue time'].describe())"
   ]
  },
  {
   "cell_type": "code",
   "execution_count": 16,
   "metadata": {
    "hideCode": false,
    "hidePrompt": false
   },
   "outputs": [
    {
     "data": {
      "image/png": "[encoded data removed]",
      "text/plain": [
       "<matplotlib.figure.Figure at 0xa9eb1d04a8>"
      ]
     },
     "metadata": {},
     "output_type": "display_data"
    }
   ],
   "source": [
    "df['Issue time'].plot(kind = 'hist')\n",
    "plt.title('Issue Time Distribution')\n",
    "plt.xlabel('Issue Time')\n",
    "plt.show()"
   ]
  },
  {
   "cell_type": "markdown",
   "metadata": {
    "hideCode": false,
    "hidePrompt": false
   },
   "source": [
    "Issue Time looks fine. There are no obvious wrong values. "
   ]
  },
  {
   "cell_type": "code",
   "execution_count": 17,
   "metadata": {
    "hideCode": false,
    "hidePrompt": false
   },
   "outputs": [
    {
     "name": "stdout",
     "output_type": "stream",
     "text": [
      "Number of floats: 0\n",
      "Number of nan: 1285\n"
     ]
    }
   ],
   "source": [
    "## Determine if Issue Time is truly a float or because of NaN\n",
    "print(\"Number of floats: {}\".format(sum(df['Issue time']%1 > 0)))\n",
    "print('Number of nan: {}'.format(df['Issue time'].isna().sum()))"
   ]
  },
  {
   "cell_type": "code",
   "execution_count": 18,
   "metadata": {
    "hideCode": false,
    "hidePrompt": false
   },
   "outputs": [],
   "source": [
    "## Remove nan from Issue Time by setting it to -1\n",
    "df.loc[df['Issue time'].isna(),'Issue time'] = -1"
   ]
  },
  {
   "cell_type": "markdown",
   "metadata": {
    "hideCode": false,
    "hidePrompt": false
   },
   "source": [
    "## Meter Id"
   ]
  },
  {
   "cell_type": "code",
   "execution_count": 19,
   "metadata": {
    "hideCode": false,
    "hidePrompt": false
   },
   "outputs": [
    {
     "name": "stdout",
     "output_type": "stream",
     "text": [
      "The number of unique meter ids: 34973\n"
     ]
    }
   ],
   "source": [
    "print('The number of unique meter ids: {}'.format(len(df['Meter Id'].unique())))"
   ]
  },
  {
   "cell_type": "code",
   "execution_count": 20,
   "metadata": {
    "hideCode": false,
    "hidePrompt": false
   },
   "outputs": [
    {
     "data": {
      "text/html": [
       "<div>\n",
       "<style scoped>\n",
       "    .dataframe tbody tr th:only-of-type {\n",
       "        vertical-align: middle;\n",
       "    }\n",
       "\n",
       "    .dataframe tbody tr th {\n",
       "        vertical-align: top;\n",
       "    }\n",
       "\n",
       "    .dataframe thead th {\n",
       "        text-align: right;\n",
       "    }\n",
       "</style>\n",
       "<table border=\"1\" class=\"dataframe\">\n",
       "  <thead>\n",
       "    <tr style=\"text-align: right;\">\n",
       "      <th></th>\n",
       "      <th>Meter Id</th>\n",
       "      <th>count</th>\n",
       "    </tr>\n",
       "  </thead>\n",
       "  <tbody>\n",
       "    <tr>\n",
       "      <th>0</th>\n",
       "      <td>!!</td>\n",
       "      <td>1</td>\n",
       "    </tr>\n",
       "    <tr>\n",
       "      <th>1</th>\n",
       "      <td>#1</td>\n",
       "      <td>284</td>\n",
       "    </tr>\n",
       "    <tr>\n",
       "      <th>2</th>\n",
       "      <td>#18</td>\n",
       "      <td>1</td>\n",
       "    </tr>\n",
       "    <tr>\n",
       "      <th>3</th>\n",
       "      <td>#2</td>\n",
       "      <td>604</td>\n",
       "    </tr>\n",
       "    <tr>\n",
       "      <th>4</th>\n",
       "      <td>#23</td>\n",
       "      <td>2</td>\n",
       "    </tr>\n",
       "  </tbody>\n",
       "</table>\n",
       "</div>"
      ],
      "text/plain": [
       "  Meter Id  count\n",
       "0       !!      1\n",
       "1       #1    284\n",
       "2      #18      1\n",
       "3       #2    604\n",
       "4      #23      2"
      ]
     },
     "execution_count": 20,
     "metadata": {},
     "output_type": "execute_result"
    }
   ],
   "source": [
    "## Not sure if these are weird meter id\n",
    "meter_count = df.groupby('Meter Id').size()\n",
    "meter_count = pd.DataFrame(meter_count)\n",
    "meter_count.reset_index(inplace = True)\n",
    "meter_count.columns = ['Meter Id', 'count']\n",
    "meter_count[:5]"
   ]
  },
  {
   "cell_type": "code",
   "execution_count": 21,
   "metadata": {
    "hideCode": false,
    "hidePrompt": false
   },
   "outputs": [
    {
     "name": "stdout",
     "output_type": "stream",
     "text": [
      "<class 'pandas.core.frame.DataFrame'>\n",
      "RangeIndex: 34718 entries, 0 to 34717\n",
      "Data columns (total 6 columns):\n",
      "ADDRESS     34718 non-null object\n",
      "METERID     34718 non-null object\n",
      "LIMIT       34138 non-null object\n",
      "the_geom    34718 non-null object\n",
      "TYPE        34718 non-null object\n",
      "HOURS       34316 non-null object\n",
      "dtypes: object(6)\n",
      "memory usage: 1.6+ MB\n"
     ]
    }
   ],
   "source": [
    "## Found meter information \n",
    "## https://data.lacity.org/A-Well-Run-City/Parking-Meters-Citywide/sijn-eyig\n",
    "## However it's for 2015 and last updated on 11/29/2016 so outdated\n",
    "fp_meter = os.path.join(filepath, 'dataset', 'LADOT_Meters_Citywide_20151209.csv') ## Path to dataset\n",
    "meter = pd.read_csv(fp_meter)\n",
    "meter.info()"
   ]
  },
  {
   "cell_type": "code",
   "execution_count": 22,
   "metadata": {
    "hideCode": false,
    "hidePrompt": false
   },
   "outputs": [],
   "source": [
    "meterid = pd.DataFrame(meter.METERID.unique())\n",
    "meterid.columns = ['Meter Id']\n",
    "meterid['exist'] = True ## Indicator"
   ]
  },
  {
   "cell_type": "code",
   "execution_count": 23,
   "metadata": {
    "hideCode": false,
    "hidePrompt": false
   },
   "outputs": [],
   "source": [
    "## Full join with meter from parking citation with meter id from meter data\n",
    "meter_exist = pd.merge(meter_count, meterid, how= 'outer')"
   ]
  },
  {
   "cell_type": "code",
   "execution_count": 24,
   "metadata": {
    "hideCode": false,
    "hidePrompt": false
   },
   "outputs": [
    {
     "name": "stdout",
     "output_type": "stream",
     "text": [
      "3124\n"
     ]
    },
    {
     "data": {
      "text/html": [
       "<div>\n",
       "<style scoped>\n",
       "    .dataframe tbody tr th:only-of-type {\n",
       "        vertical-align: middle;\n",
       "    }\n",
       "\n",
       "    .dataframe tbody tr th {\n",
       "        vertical-align: top;\n",
       "    }\n",
       "\n",
       "    .dataframe thead th {\n",
       "        text-align: right;\n",
       "    }\n",
       "</style>\n",
       "<table border=\"1\" class=\"dataframe\">\n",
       "  <thead>\n",
       "    <tr style=\"text-align: right;\">\n",
       "      <th></th>\n",
       "      <th>Meter Id</th>\n",
       "      <th>count</th>\n",
       "      <th>exist</th>\n",
       "    </tr>\n",
       "  </thead>\n",
       "  <tbody>\n",
       "    <tr>\n",
       "      <th>355</th>\n",
       "      <td>37</td>\n",
       "      <td>23324.0</td>\n",
       "      <td>NaN</td>\n",
       "    </tr>\n",
       "    <tr>\n",
       "      <th>436</th>\n",
       "      <td>51</td>\n",
       "      <td>15400.0</td>\n",
       "      <td>NaN</td>\n",
       "    </tr>\n",
       "    <tr>\n",
       "      <th>450</th>\n",
       "      <td>53</td>\n",
       "      <td>13705.0</td>\n",
       "      <td>NaN</td>\n",
       "    </tr>\n",
       "    <tr>\n",
       "      <th>511</th>\n",
       "      <td>64</td>\n",
       "      <td>10918.0</td>\n",
       "      <td>NaN</td>\n",
       "    </tr>\n",
       "    <tr>\n",
       "      <th>117</th>\n",
       "      <td>13</td>\n",
       "      <td>10854.0</td>\n",
       "      <td>NaN</td>\n",
       "    </tr>\n",
       "  </tbody>\n",
       "</table>\n",
       "</div>"
      ],
      "text/plain": [
       "    Meter Id    count exist\n",
       "355       37  23324.0   NaN\n",
       "436       51  15400.0   NaN\n",
       "450       53  13705.0   NaN\n",
       "511       64  10918.0   NaN\n",
       "117       13  10854.0   NaN"
      ]
     },
     "execution_count": 24,
     "metadata": {},
     "output_type": "execute_result"
    }
   ],
   "source": [
    "## Return meters that doesn't exist in the meter dataset\n",
    "meter_prob = meter_exist[meter_exist.exist.isna()].sort_values(by = 'count')[::-1]\n",
    "print(meter_prob.shape[0])\n",
    "## Find meter with the most count\n",
    "meter_prob.head()"
   ]
  },
  {
   "cell_type": "code",
   "execution_count": 25,
   "metadata": {
    "hideCode": false,
    "hidePrompt": false
   },
   "outputs": [
    {
     "data": {
      "text/html": [
       "<div>\n",
       "<style scoped>\n",
       "    .dataframe tbody tr th:only-of-type {\n",
       "        vertical-align: middle;\n",
       "    }\n",
       "\n",
       "    .dataframe tbody tr th {\n",
       "        vertical-align: top;\n",
       "    }\n",
       "\n",
       "    .dataframe thead th {\n",
       "        text-align: right;\n",
       "    }\n",
       "</style>\n",
       "<table border=\"1\" class=\"dataframe\">\n",
       "  <thead>\n",
       "    <tr style=\"text-align: right;\">\n",
       "      <th></th>\n",
       "      <th>Ticket number</th>\n",
       "      <th>Issue Date</th>\n",
       "      <th>Issue time</th>\n",
       "      <th>Meter Id</th>\n",
       "      <th>Marked Time</th>\n",
       "      <th>RP State Plate</th>\n",
       "      <th>Plate Expiry Date</th>\n",
       "      <th>VIN</th>\n",
       "      <th>Make</th>\n",
       "      <th>Body Style</th>\n",
       "      <th>Color</th>\n",
       "      <th>Location</th>\n",
       "      <th>Route</th>\n",
       "      <th>Agency</th>\n",
       "      <th>Violation code</th>\n",
       "      <th>Violation Description</th>\n",
       "      <th>Fine amount</th>\n",
       "      <th>Latitude</th>\n",
       "      <th>Longitude</th>\n",
       "    </tr>\n",
       "  </thead>\n",
       "  <tbody>\n",
       "    <tr>\n",
       "      <th>1413</th>\n",
       "      <td>4272294585</td>\n",
       "      <td>2016-01-04</td>\n",
       "      <td>1806.0</td>\n",
       "      <td>37</td>\n",
       "      <td>NaN</td>\n",
       "      <td>AZ</td>\n",
       "      <td>201604.0</td>\n",
       "      <td>NaN</td>\n",
       "      <td>FORD</td>\n",
       "      <td>PA</td>\n",
       "      <td>GY</td>\n",
       "      <td>1666 SYCAMORE AVE N</td>\n",
       "      <td>00402</td>\n",
       "      <td>54.0</td>\n",
       "      <td>80.58L</td>\n",
       "      <td>PREFERENTIAL PARKING</td>\n",
       "      <td>68.0</td>\n",
       "      <td>6457731.2</td>\n",
       "      <td>1859366.8</td>\n",
       "    </tr>\n",
       "    <tr>\n",
       "      <th>1415</th>\n",
       "      <td>4272294600</td>\n",
       "      <td>2016-01-04</td>\n",
       "      <td>2156.0</td>\n",
       "      <td>37</td>\n",
       "      <td>NaN</td>\n",
       "      <td>CA</td>\n",
       "      <td>NaN</td>\n",
       "      <td>NaN</td>\n",
       "      <td>TOYT</td>\n",
       "      <td>PA</td>\n",
       "      <td>WT</td>\n",
       "      <td>7000 HAWTHORN AVE</td>\n",
       "      <td>00402</td>\n",
       "      <td>54.0</td>\n",
       "      <td>80.58L</td>\n",
       "      <td>PREFERENTIAL PARKING</td>\n",
       "      <td>68.0</td>\n",
       "      <td>6458312.4</td>\n",
       "      <td>1859071.2</td>\n",
       "    </tr>\n",
       "    <tr>\n",
       "      <th>1417</th>\n",
       "      <td>4272294622</td>\n",
       "      <td>2016-01-04</td>\n",
       "      <td>2205.0</td>\n",
       "      <td>37</td>\n",
       "      <td>NaN</td>\n",
       "      <td>CA</td>\n",
       "      <td>201608.0</td>\n",
       "      <td>NaN</td>\n",
       "      <td>LEXS</td>\n",
       "      <td>PA</td>\n",
       "      <td>BK</td>\n",
       "      <td>1666 SYCAMORE AVE N</td>\n",
       "      <td>00402</td>\n",
       "      <td>54.0</td>\n",
       "      <td>80.58L</td>\n",
       "      <td>PREFERENTIAL PARKING</td>\n",
       "      <td>68.0</td>\n",
       "      <td>6457731.2</td>\n",
       "      <td>1859366.8</td>\n",
       "    </tr>\n",
       "    <tr>\n",
       "      <th>1419</th>\n",
       "      <td>4272294644</td>\n",
       "      <td>2016-01-04</td>\n",
       "      <td>2216.0</td>\n",
       "      <td>37</td>\n",
       "      <td>NaN</td>\n",
       "      <td>CA</td>\n",
       "      <td>201604.0</td>\n",
       "      <td>NaN</td>\n",
       "      <td>FORD</td>\n",
       "      <td>PA</td>\n",
       "      <td>MR</td>\n",
       "      <td>1601 ORANGE DR</td>\n",
       "      <td>00402</td>\n",
       "      <td>54.0</td>\n",
       "      <td>80.58L</td>\n",
       "      <td>PREFERENTIAL PARKING</td>\n",
       "      <td>68.0</td>\n",
       "      <td>6458315.2</td>\n",
       "      <td>1858662.1</td>\n",
       "    </tr>\n",
       "    <tr>\n",
       "      <th>2721</th>\n",
       "      <td>4273416265</td>\n",
       "      <td>2016-01-04</td>\n",
       "      <td>1806.0</td>\n",
       "      <td>37</td>\n",
       "      <td>NaN</td>\n",
       "      <td>NV</td>\n",
       "      <td>201610.0</td>\n",
       "      <td>NaN</td>\n",
       "      <td>VOLK</td>\n",
       "      <td>PA</td>\n",
       "      <td>BK</td>\n",
       "      <td>1633 NORTH ORANGE DRIVE</td>\n",
       "      <td>00401</td>\n",
       "      <td>54.0</td>\n",
       "      <td>80.58L</td>\n",
       "      <td>PREFERENTIAL PARKING</td>\n",
       "      <td>68.0</td>\n",
       "      <td>6458312.4</td>\n",
       "      <td>1859071.2</td>\n",
       "    </tr>\n",
       "  </tbody>\n",
       "</table>\n",
       "</div>"
      ],
      "text/plain": [
       "      Ticket number Issue Date  Issue time Meter Id  Marked Time  \\\n",
       "1413     4272294585 2016-01-04      1806.0       37          NaN   \n",
       "1415     4272294600 2016-01-04      2156.0       37          NaN   \n",
       "1417     4272294622 2016-01-04      2205.0       37          NaN   \n",
       "1419     4272294644 2016-01-04      2216.0       37          NaN   \n",
       "2721     4273416265 2016-01-04      1806.0       37          NaN   \n",
       "\n",
       "     RP State Plate  Plate Expiry Date  VIN  Make Body Style Color  \\\n",
       "1413             AZ           201604.0  NaN  FORD         PA    GY   \n",
       "1415             CA                NaN  NaN  TOYT         PA    WT   \n",
       "1417             CA           201608.0  NaN  LEXS         PA    BK   \n",
       "1419             CA           201604.0  NaN  FORD         PA    MR   \n",
       "2721             NV           201610.0  NaN  VOLK         PA    BK   \n",
       "\n",
       "                     Location  Route  Agency Violation code  \\\n",
       "1413      1666 SYCAMORE AVE N  00402    54.0         80.58L   \n",
       "1415        7000 HAWTHORN AVE  00402    54.0         80.58L   \n",
       "1417      1666 SYCAMORE AVE N  00402    54.0         80.58L   \n",
       "1419           1601 ORANGE DR  00402    54.0         80.58L   \n",
       "2721  1633 NORTH ORANGE DRIVE  00401    54.0         80.58L   \n",
       "\n",
       "     Violation Description  Fine amount   Latitude  Longitude  \n",
       "1413  PREFERENTIAL PARKING         68.0  6457731.2  1859366.8  \n",
       "1415  PREFERENTIAL PARKING         68.0  6458312.4  1859071.2  \n",
       "1417  PREFERENTIAL PARKING         68.0  6457731.2  1859366.8  \n",
       "1419  PREFERENTIAL PARKING         68.0  6458315.2  1858662.1  \n",
       "2721  PREFERENTIAL PARKING         68.0  6458312.4  1859071.2  "
      ]
     },
     "execution_count": 25,
     "metadata": {},
     "output_type": "execute_result"
    }
   ],
   "source": [
    "df[df['Meter Id'] == '37'].head()"
   ]
  },
  {
   "cell_type": "code",
   "execution_count": 26,
   "metadata": {
    "hideCode": false,
    "hidePrompt": false
   },
   "outputs": [
    {
     "data": {
      "text/plain": [
       "(1907,)"
      ]
     },
     "execution_count": 26,
     "metadata": {},
     "output_type": "execute_result"
    }
   ],
   "source": [
    "df[df['Meter Id'] == '37'].Location.unique().shape"
   ]
  },
  {
   "cell_type": "markdown",
   "metadata": {
    "hideCode": false,
    "hidePrompt": false
   },
   "source": [
    "It doesn't look like meter id is a very reliable source because the ID and addresses do not match. In fact for Meter Id 37 there is 1907 different addresses. So for now, just leave it as is. "
   ]
  },
  {
   "cell_type": "code",
   "execution_count": null,
   "metadata": {},
   "outputs": [],
   "source": [
    "## wrap up\n",
    "del meterid"
   ]
  },
  {
   "cell_type": "markdown",
   "metadata": {
    "hideCode": false,
    "hidePrompt": false
   },
   "source": [
    "## Marked Time"
   ]
  },
  {
   "cell_type": "code",
   "execution_count": 27,
   "metadata": {
    "hideCode": false,
    "hidePrompt": false
   },
   "outputs": [
    {
     "data": {
      "text/plain": [
       "array(['PARKED OVER TIME LIM', 'PREFERENTIAL PARKING',\n",
       "       'COMM VEH OVER TIME L', 'PARKED OVER TIME LIMIT'], dtype=object)"
      ]
     },
     "execution_count": 27,
     "metadata": {},
     "output_type": "execute_result"
    }
   ],
   "source": [
    "df[df['Marked Time'].notnull()]['Violation Description'].unique()"
   ]
  },
  {
   "cell_type": "markdown",
   "metadata": {},
   "source": [
    "So Marked Time means the acutal Time car marked was marked to determine how long the car was in that parking spot."
   ]
  },
  {
   "cell_type": "code",
   "execution_count": 107,
   "metadata": {
    "hideCode": false,
    "hidePrompt": false,
    "scrolled": true
   },
   "outputs": [
    {
     "name": "stdout",
     "output_type": "stream",
     "text": [
      "count   141927\n",
      "mean      1068\n",
      "std        226\n",
      "min          1\n",
      "25%        925\n",
      "50%       1042\n",
      "75%       1205\n",
      "max       2400\n",
      "Name: Marked Time, dtype: float64\n"
     ]
    }
   ],
   "source": [
    "with pd.option_context('display.float_format', '{:.0f}'.format):\n",
    "    print(df['Marked Time'].describe())"
   ]
  },
  {
   "cell_type": "code",
   "execution_count": 111,
   "metadata": {
    "scrolled": true
   },
   "outputs": [
    {
     "data": {
      "image/png": "[encoded data removed]",
      "text/plain": [
       "<matplotlib.figure.Figure at 0xa9b6e741d0>"
      ]
     },
     "metadata": {},
     "output_type": "display_data"
    }
   ],
   "source": [
    "df.loc[df['Marked Time'].notnull(), 'Marked Time'].plot(kind = 'hist', bins = 40)\n",
    "plt.title('Marked Time Distribution')\n",
    "plt.xlabel('Time 24hr Format')\n",
    "plt.show()"
   ]
  },
  {
   "cell_type": "code",
   "execution_count": 121,
   "metadata": {
    "scrolled": true
   },
   "outputs": [
    {
     "data": {
      "image/png": "[encoded data removed]",
      "text/plain": [
       "<matplotlib.figure.Figure at 0xa9c8889748>"
      ]
     },
     "metadata": {},
     "output_type": "display_data"
    }
   ],
   "source": [
    "plt.figure(figsize = (8, 5))\n",
    "plt.subplot(2, 1, 1)\n",
    "df.loc[df['Marked Time'].between(0, 100), 'Marked Time'].plot.hist(bins = 20)\n",
    "plt.title('Marked Time Between Certain Period')\n",
    "\n",
    "plt.subplot(2, 1, 2)\n",
    "df.loc[df['Marked Time'].between(2300,2400), 'Marked Time'].plot.hist(bins = 20)\n",
    "plt.xlabel('Time 24hr format')\n",
    "plt.show()"
   ]
  },
  {
   "cell_type": "code",
   "execution_count": 161,
   "metadata": {},
   "outputs": [
    {
     "name": "stdout",
     "output_type": "stream",
     "text": [
      "Number of values at 2400: 14\n"
     ]
    }
   ],
   "source": [
    "## How many are 2400. Parse time will be NaT\n",
    "print('Number of values at 2400: {}'.format(sum(df['Marked Time'] == 2400)))\n",
    "## Fix time to 2359\n",
    "df.loc[df['Marked Time'] == 2400, 'Marked Time'] = 2359"
   ]
  },
  {
   "cell_type": "code",
   "execution_count": 215,
   "metadata": {},
   "outputs": [],
   "source": [
    "# ## A round about way because column was import as float\n",
    "# tmp_time = df['Marked Time'].copy()\n",
    "# ## Remove nan to convert to int to remove decimal\n",
    "# tmp_time[tmp_time.isna()] = -1\n",
    "# ## Add 0 padding so that 24 hour format is consistent\n",
    "# tmp_time = tmp_time.astype('int').astype('str').str.pad(4, 'left', '0')\n",
    "# ## Verify times are correct\n",
    "# tmp_time[tmp_time != '00-1'].head()\n",
    "# df['Marked Time'] = pd.to_datetime(tmp_time, errors='coerce', format = '%H%M').dt.time\n",
    "# df.loc[df['Marked Time'].notnull(), 'Marked Time'].head()"
   ]
  },
  {
   "cell_type": "code",
   "execution_count": 221,
   "metadata": {},
   "outputs": [],
   "source": [
    "## Convert NaN into -1 as to save space\n",
    "df.loc[df['Marked Time'].isna(), 'Marked Time'] = -1"
   ]
  },
  {
   "cell_type": "markdown",
   "metadata": {},
   "source": [
    "I am not sure if I should convert time into datetime because subtracting 23:00 with 01:00 would yield 22:00 which is incorrect because 11pm - 1am shold be 2 hours. "
   ]
  },
  {
   "cell_type": "markdown",
   "metadata": {
    "hideCode": false,
    "hidePrompt": false
   },
   "source": [
    "## RP State Plate"
   ]
  },
  {
   "cell_type": "code",
   "execution_count": 30,
   "metadata": {
    "hideCode": false,
    "hidePrompt": false
   },
   "outputs": [
    {
     "data": {
      "text/html": [
       "<div>\n",
       "<style scoped>\n",
       "    .dataframe tbody tr th:only-of-type {\n",
       "        vertical-align: middle;\n",
       "    }\n",
       "\n",
       "    .dataframe tbody tr th {\n",
       "        vertical-align: top;\n",
       "    }\n",
       "\n",
       "    .dataframe thead th {\n",
       "        text-align: right;\n",
       "    }\n",
       "</style>\n",
       "<table border=\"1\" class=\"dataframe\">\n",
       "  <thead>\n",
       "    <tr style=\"text-align: right;\">\n",
       "      <th></th>\n",
       "      <th>state</th>\n",
       "      <th>number</th>\n",
       "    </tr>\n",
       "  </thead>\n",
       "  <tbody>\n",
       "    <tr>\n",
       "      <th>0</th>\n",
       "      <td>|</td>\n",
       "      <td>2</td>\n",
       "    </tr>\n",
       "    <tr>\n",
       "      <th>1</th>\n",
       "      <td>PR</td>\n",
       "      <td>5</td>\n",
       "    </tr>\n",
       "    <tr>\n",
       "      <th>2</th>\n",
       "      <td>NF</td>\n",
       "      <td>5</td>\n",
       "    </tr>\n",
       "  </tbody>\n",
       "</table>\n",
       "</div>"
      ],
      "text/plain": [
       "  state  number\n",
       "0     |       2\n",
       "1    PR       5\n",
       "2    NF       5"
      ]
     },
     "execution_count": 30,
     "metadata": {},
     "output_type": "execute_result"
    }
   ],
   "source": [
    "state_plate = pd.DataFrame(df.groupby('RP State Plate').size().sort_values())\n",
    "state_plate.reset_index(inplace = True)\n",
    "state_plate.columns = ['state', 'number']\n",
    "state_plate.head(3)"
   ]
  },
  {
   "cell_type": "code",
   "execution_count": 31,
   "metadata": {
    "hideCode": false,
    "hidePrompt": false
   },
   "outputs": [
    {
     "data": {
      "text/html": [
       "<div>\n",
       "<style scoped>\n",
       "    .dataframe tbody tr th:only-of-type {\n",
       "        vertical-align: middle;\n",
       "    }\n",
       "\n",
       "    .dataframe tbody tr th {\n",
       "        vertical-align: top;\n",
       "    }\n",
       "\n",
       "    .dataframe thead th {\n",
       "        text-align: right;\n",
       "    }\n",
       "</style>\n",
       "<table border=\"1\" class=\"dataframe\">\n",
       "  <thead>\n",
       "    <tr style=\"text-align: right;\">\n",
       "      <th></th>\n",
       "      <th>abbr</th>\n",
       "      <th>name</th>\n",
       "    </tr>\n",
       "  </thead>\n",
       "  <tbody>\n",
       "    <tr>\n",
       "      <th>0</th>\n",
       "      <td>AL</td>\n",
       "      <td>Alabama</td>\n",
       "    </tr>\n",
       "    <tr>\n",
       "      <th>1</th>\n",
       "      <td>AK</td>\n",
       "      <td>Alaska</td>\n",
       "    </tr>\n",
       "    <tr>\n",
       "      <th>2</th>\n",
       "      <td>AS</td>\n",
       "      <td>American Samoa</td>\n",
       "    </tr>\n",
       "  </tbody>\n",
       "</table>\n",
       "</div>"
      ],
      "text/plain": [
       "  abbr            name\n",
       "0   AL         Alabama\n",
       "1   AK          Alaska\n",
       "2   AS  American Samoa"
      ]
     },
     "execution_count": 31,
     "metadata": {},
     "output_type": "execute_result"
    }
   ],
   "source": [
    "## USA States and Territories\n",
    "states = {\"AL\":\"Alabama\",\"AK\":\"Alaska\",\"AS\":\"American Samoa\",\"AZ\":\"Arizona\",\"AR\":\"Arkansas\",\n",
    "          \"CA\":\"California\",\"CO\":\"Colorado\",\"CT\":\"Connecticut\",\"DE\":\"Delaware\",\n",
    "          \"DC\":\"District Of Columbia\",\"FM\":\"Federated States Of Micronesia\",\"FL\":\"Florida\",\n",
    "          \"GA\":\"Georgia\",\"GU\":\"Guam\",\"HI\":\"Hawaii\",\"ID\":\"Idaho\",\"IL\":\"Illinois\",\"IN\":\"Indiana\",\n",
    "          \"IA\":\"Iowa\",\"KS\":\"Kansas\",\"KY\":\"Kentucky\",\"LA\":\"Louisiana\",\"ME\":\"Maine\",\n",
    "          \"MH\":\"Marshall Islands\",\"MD\":\"Maryland\",\"MA\":\"Massachusetts\",\"MI\":\"Michigan\",\n",
    "          \"MN\":\"Minnesota\",\"MS\":\"Mississippi\",\"MO\":\"Missouri\",\"MT\":\"Montana\",\"NE\":\"Nebraska\",\n",
    "          \"NV\":\"Nevada\",\"NH\":\"New Hampshire\",\"NJ\":\"New Jersey\",\"NM\":\"New Mexico\",\"NY\":\"New York\",\n",
    "          \"NC\":\"North Carolina\",\"ND\":\"North Dakota\",\"MP\":\"Northern Mariana Islands\",\"OH\":\"Ohio\",\n",
    "          \"OK\":\"Oklahoma\",\"OR\":\"Oregon\",\"PW\":\"Palau\",\"PA\":\"Pennsylvania\",\"PR\":\"Puerto Rico\",\n",
    "          \"RI\":\"Rhode Island\",\"SC\":\"South Carolina\",\"SD\":\"South Dakota\",\"TN\":\"Tennessee\",\n",
    "          \"TX\":\"Texas\",\"UT\":\"Utah\",\"VT\":\"Vermont\",\"VI\":\"Virgin Islands\",\"VA\":\"Virginia\",\n",
    "          \"WA\":\"Washington\",\"WV\":\"West Virginia\",\"WI\":\"Wisconsin\",\"WY\":\"Wyoming\"}\n",
    "states = pd.DataFrame.from_dict(states, orient = 'index')\n",
    "states.reset_index(inplace = True)\n",
    "states.columns = ['abbr', 'name']\n",
    "states.head(3)"
   ]
  },
  {
   "cell_type": "code",
   "execution_count": 32,
   "metadata": {
    "hideCode": false,
    "hidePrompt": false
   },
   "outputs": [
    {
     "data": {
      "text/html": [
       "<div>\n",
       "<style scoped>\n",
       "    .dataframe tbody tr th:only-of-type {\n",
       "        vertical-align: middle;\n",
       "    }\n",
       "\n",
       "    .dataframe tbody tr th {\n",
       "        vertical-align: top;\n",
       "    }\n",
       "\n",
       "    .dataframe thead th {\n",
       "        text-align: right;\n",
       "    }\n",
       "</style>\n",
       "<table border=\"1\" class=\"dataframe\">\n",
       "  <thead>\n",
       "    <tr style=\"text-align: right;\">\n",
       "      <th></th>\n",
       "      <th>state</th>\n",
       "      <th>number</th>\n",
       "    </tr>\n",
       "  </thead>\n",
       "  <tbody>\n",
       "    <tr>\n",
       "      <th>0</th>\n",
       "      <td>|</td>\n",
       "      <td>2.0</td>\n",
       "    </tr>\n",
       "    <tr>\n",
       "      <th>2</th>\n",
       "      <td>NF</td>\n",
       "      <td>5.0</td>\n",
       "    </tr>\n",
       "    <tr>\n",
       "      <th>3</th>\n",
       "      <td>YU</td>\n",
       "      <td>7.0</td>\n",
       "    </tr>\n",
       "    <tr>\n",
       "      <th>4</th>\n",
       "      <td>PE</td>\n",
       "      <td>9.0</td>\n",
       "    </tr>\n",
       "    <tr>\n",
       "      <th>5</th>\n",
       "      <td>NW</td>\n",
       "      <td>9.0</td>\n",
       "    </tr>\n",
       "    <tr>\n",
       "      <th>7</th>\n",
       "      <td>TT</td>\n",
       "      <td>12.0</td>\n",
       "    </tr>\n",
       "    <tr>\n",
       "      <th>10</th>\n",
       "      <td>CZ</td>\n",
       "      <td>22.0</td>\n",
       "    </tr>\n",
       "    <tr>\n",
       "      <th>11</th>\n",
       "      <td>NS</td>\n",
       "      <td>46.0</td>\n",
       "    </tr>\n",
       "    <tr>\n",
       "      <th>12</th>\n",
       "      <td>XX</td>\n",
       "      <td>54.0</td>\n",
       "    </tr>\n",
       "    <tr>\n",
       "      <th>13</th>\n",
       "      <td>SA</td>\n",
       "      <td>73.0</td>\n",
       "    </tr>\n",
       "    <tr>\n",
       "      <th>14</th>\n",
       "      <td>NB</td>\n",
       "      <td>76.0</td>\n",
       "    </tr>\n",
       "    <tr>\n",
       "      <th>15</th>\n",
       "      <td>MB</td>\n",
       "      <td>78.0</td>\n",
       "    </tr>\n",
       "    <tr>\n",
       "      <th>16</th>\n",
       "      <td>CN</td>\n",
       "      <td>81.0</td>\n",
       "    </tr>\n",
       "    <tr>\n",
       "      <th>17</th>\n",
       "      <td>FN</td>\n",
       "      <td>107.0</td>\n",
       "    </tr>\n",
       "    <tr>\n",
       "      <th>18</th>\n",
       "      <td>US</td>\n",
       "      <td>185.0</td>\n",
       "    </tr>\n",
       "    <tr>\n",
       "      <th>19</th>\n",
       "      <td>QU</td>\n",
       "      <td>341.0</td>\n",
       "    </tr>\n",
       "    <tr>\n",
       "      <th>20</th>\n",
       "      <td>DD</td>\n",
       "      <td>381.0</td>\n",
       "    </tr>\n",
       "    <tr>\n",
       "      <th>33</th>\n",
       "      <td>AB</td>\n",
       "      <td>823.0</td>\n",
       "    </tr>\n",
       "    <tr>\n",
       "      <th>34</th>\n",
       "      <td>ON</td>\n",
       "      <td>963.0</td>\n",
       "    </tr>\n",
       "    <tr>\n",
       "      <th>36</th>\n",
       "      <td>BC</td>\n",
       "      <td>1211.0</td>\n",
       "    </tr>\n",
       "    <tr>\n",
       "      <th>49</th>\n",
       "      <td>MX</td>\n",
       "      <td>3662.0</td>\n",
       "    </tr>\n",
       "  </tbody>\n",
       "</table>\n",
       "</div>"
      ],
      "text/plain": [
       "   state  number\n",
       "0      |     2.0\n",
       "2     NF     5.0\n",
       "3     YU     7.0\n",
       "4     PE     9.0\n",
       "5     NW     9.0\n",
       "7     TT    12.0\n",
       "10    CZ    22.0\n",
       "11    NS    46.0\n",
       "12    XX    54.0\n",
       "13    SA    73.0\n",
       "14    NB    76.0\n",
       "15    MB    78.0\n",
       "16    CN    81.0\n",
       "17    FN   107.0\n",
       "18    US   185.0\n",
       "19    QU   341.0\n",
       "20    DD   381.0\n",
       "33    AB   823.0\n",
       "34    ON   963.0\n",
       "36    BC  1211.0\n",
       "49    MX  3662.0"
      ]
     },
     "execution_count": 32,
     "metadata": {},
     "output_type": "execute_result"
    }
   ],
   "source": [
    "## State Plate that doesn't exist in states list\n",
    "state_comb = pd.merge(state_plate, states, how = 'outer', left_on='state', right_on='abbr')\n",
    "state_unknown = state_comb[state_comb.name.isna()]\n",
    "state_unknown[['state', 'number']]"
   ]
  },
  {
   "cell_type": "markdown",
   "metadata": {
    "hideCode": false,
    "hidePrompt": false
   },
   "source": [
    "I think MX is Mexico plate because LA is pretty close to Mexico so it is possible and likely for cars to come to LA. Or a misspelling for MS because s is close to x on the keyboard. "
   ]
  },
  {
   "cell_type": "code",
   "execution_count": 33,
   "metadata": {
    "hideCode": false,
    "hidePrompt": false
   },
   "outputs": [
    {
     "data": {
      "text/html": [
       "<div>\n",
       "<style scoped>\n",
       "    .dataframe tbody tr th:only-of-type {\n",
       "        vertical-align: middle;\n",
       "    }\n",
       "\n",
       "    .dataframe tbody tr th {\n",
       "        vertical-align: top;\n",
       "    }\n",
       "\n",
       "    .dataframe thead th {\n",
       "        text-align: right;\n",
       "    }\n",
       "</style>\n",
       "<table border=\"1\" class=\"dataframe\">\n",
       "  <thead>\n",
       "    <tr style=\"text-align: right;\">\n",
       "      <th></th>\n",
       "      <th>state</th>\n",
       "      <th>number</th>\n",
       "      <th>abbr</th>\n",
       "      <th>name</th>\n",
       "    </tr>\n",
       "  </thead>\n",
       "  <tbody>\n",
       "    <tr>\n",
       "      <th>73</th>\n",
       "      <td>TX</td>\n",
       "      <td>25806.0</td>\n",
       "      <td>TX</td>\n",
       "      <td>Texas</td>\n",
       "    </tr>\n",
       "    <tr>\n",
       "      <th>72</th>\n",
       "      <td>NV</td>\n",
       "      <td>24677.0</td>\n",
       "      <td>NV</td>\n",
       "      <td>Nevada</td>\n",
       "    </tr>\n",
       "    <tr>\n",
       "      <th>71</th>\n",
       "      <td>FL</td>\n",
       "      <td>16767.0</td>\n",
       "      <td>FL</td>\n",
       "      <td>Florida</td>\n",
       "    </tr>\n",
       "    <tr>\n",
       "      <th>70</th>\n",
       "      <td>WA</td>\n",
       "      <td>15995.0</td>\n",
       "      <td>WA</td>\n",
       "      <td>Washington</td>\n",
       "    </tr>\n",
       "    <tr>\n",
       "      <th>69</th>\n",
       "      <td>IL</td>\n",
       "      <td>11906.0</td>\n",
       "      <td>IL</td>\n",
       "      <td>Illinois</td>\n",
       "    </tr>\n",
       "    <tr>\n",
       "      <th>68</th>\n",
       "      <td>OR</td>\n",
       "      <td>10859.0</td>\n",
       "      <td>OR</td>\n",
       "      <td>Oregon</td>\n",
       "    </tr>\n",
       "    <tr>\n",
       "      <th>67</th>\n",
       "      <td>CO</td>\n",
       "      <td>10133.0</td>\n",
       "      <td>CO</td>\n",
       "      <td>Colorado</td>\n",
       "    </tr>\n",
       "    <tr>\n",
       "      <th>66</th>\n",
       "      <td>NY</td>\n",
       "      <td>7782.0</td>\n",
       "      <td>NY</td>\n",
       "      <td>New York</td>\n",
       "    </tr>\n",
       "    <tr>\n",
       "      <th>65</th>\n",
       "      <td>PA</td>\n",
       "      <td>6040.0</td>\n",
       "      <td>PA</td>\n",
       "      <td>Pennsylvania</td>\n",
       "    </tr>\n",
       "  </tbody>\n",
       "</table>\n",
       "</div>"
      ],
      "text/plain": [
       "   state   number abbr          name\n",
       "73    TX  25806.0   TX         Texas\n",
       "72    NV  24677.0   NV        Nevada\n",
       "71    FL  16767.0   FL       Florida\n",
       "70    WA  15995.0   WA    Washington\n",
       "69    IL  11906.0   IL      Illinois\n",
       "68    OR  10859.0   OR        Oregon\n",
       "67    CO  10133.0   CO      Colorado\n",
       "66    NY   7782.0   NY      New York\n",
       "65    PA   6040.0   PA  Pennsylvania"
      ]
     },
     "execution_count": 33,
     "metadata": {},
     "output_type": "execute_result"
    }
   ],
   "source": [
    "tmp = state_comb[~(state_comb.abbr.isna() | state_comb.state.isna())].copy()\n",
    "tmp.loc[tmp.state == 'CA', 'number'] = 0 ## Remove California because majority from there\n",
    "tmp.sort_values(by = 'number')[::-1][1:10] ## Top 10 without CA"
   ]
  },
  {
   "cell_type": "code",
   "execution_count": 34,
   "metadata": {},
   "outputs": [
    {
     "data": {
      "text/html": [
       "<div>\n",
       "<style scoped>\n",
       "    .dataframe tbody tr th:only-of-type {\n",
       "        vertical-align: middle;\n",
       "    }\n",
       "\n",
       "    .dataframe tbody tr th {\n",
       "        vertical-align: top;\n",
       "    }\n",
       "\n",
       "    .dataframe thead th {\n",
       "        text-align: right;\n",
       "    }\n",
       "</style>\n",
       "<table border=\"1\" class=\"dataframe\">\n",
       "  <thead>\n",
       "    <tr style=\"text-align: right;\">\n",
       "      <th></th>\n",
       "      <th>state</th>\n",
       "      <th>number</th>\n",
       "      <th>abbr</th>\n",
       "      <th>name</th>\n",
       "    </tr>\n",
       "  </thead>\n",
       "  <tbody>\n",
       "    <tr>\n",
       "      <th>1</th>\n",
       "      <td>PR</td>\n",
       "      <td>5.0</td>\n",
       "      <td>PR</td>\n",
       "      <td>Puerto Rico</td>\n",
       "    </tr>\n",
       "    <tr>\n",
       "      <th>6</th>\n",
       "      <td>AS</td>\n",
       "      <td>11.0</td>\n",
       "      <td>AS</td>\n",
       "      <td>American Samoa</td>\n",
       "    </tr>\n",
       "    <tr>\n",
       "      <th>8</th>\n",
       "      <td>VI</td>\n",
       "      <td>16.0</td>\n",
       "      <td>VI</td>\n",
       "      <td>Virgin Islands</td>\n",
       "    </tr>\n",
       "    <tr>\n",
       "      <th>9</th>\n",
       "      <td>GU</td>\n",
       "      <td>20.0</td>\n",
       "      <td>GU</td>\n",
       "      <td>Guam</td>\n",
       "    </tr>\n",
       "  </tbody>\n",
       "</table>\n",
       "</div>"
      ],
      "text/plain": [
       "  state  number abbr            name\n",
       "1    PR     5.0   PR     Puerto Rico\n",
       "6    AS    11.0   AS  American Samoa\n",
       "8    VI    16.0   VI  Virgin Islands\n",
       "9    GU    20.0   GU            Guam"
      ]
     },
     "execution_count": 34,
     "metadata": {},
     "output_type": "execute_result"
    }
   ],
   "source": [
    "## The bottom 4 are far away US's territories\n",
    "state_comb[~(state_comb.abbr.isna() | state_comb.state.isna())].sort_values(by = 'number').head(4)"
   ]
  },
  {
   "cell_type": "code",
   "execution_count": 35,
   "metadata": {
    "hideCode": false,
    "hidePrompt": false,
    "scrolled": true
   },
   "outputs": [
    {
     "data": {
      "text/plain": [
       "'file://C:\\\\Users\\\\boki\\\\Desktop\\\\project\\\\2018_la_parking_citation\\\\image\\\\ticket_state.html'"
      ]
     },
     "execution_count": 35,
     "metadata": {},
     "output_type": "execute_result"
    }
   ],
   "source": [
    "scl = [[0.0, 'rgb(242,240,247)'],[0.2, 'rgb(218,218,235)'],[0.4, 'rgb(188,189,220)'],\\\n",
    "            [0.6, 'rgb(158,154,200)'],[0.8, 'rgb(117,107,177)'],[1.0, 'rgb(84,39,143)']]\n",
    "\n",
    "data = [dict(type = 'choropleth',\n",
    "             colorscale = scl,\n",
    "             autocolorscale = False,\n",
    "             locations = tmp.state,\n",
    "             z = tmp.number,\n",
    "             locationmode = 'USA-states',\n",
    "             marker = dict(line = dict(color = 'rgb(255,255,255)', width = 2)),colorbar = dict(title = 'Number of Cars'))]\n",
    "\n",
    "layout = dict(title = 'Number of Tickets By State (without CA)',\n",
    "             geo = dict(scope = 'usa',\n",
    "                       projection = dict(type = 'albers usa'),\n",
    "                       showlakes = True,\n",
    "                       lakecolor = 'rgb(255,255,255)'))\n",
    "\n",
    "fig = dict(data = data, layout = layout)\n",
    "offline.plot(fig, config={'displayModeBar': False, 'showLink': False}, filename=\"image/ticket_state.html\")"
   ]
  },
  {
   "cell_type": "markdown",
   "metadata": {
    "hideCode": false,
    "hidePrompt": false
   },
   "source": [
    "Judging from the map, it looks like each states are independent and do not look like they are impacted from the distance it is from California. So MX is most likely Mexico? "
   ]
  },
  {
   "cell_type": "code",
   "execution_count": 36,
   "metadata": {
    "hideCode": false,
    "hidePrompt": false
   },
   "outputs": [
    {
     "data": {
      "text/plain": [
       "8147.0"
      ]
     },
     "execution_count": 36,
     "metadata": {},
     "output_type": "execute_result"
    }
   ],
   "source": [
    "## Total tickets from unknow states\n",
    "state_unknown.number.sum()"
   ]
  },
  {
   "cell_type": "markdown",
   "metadata": {
    "hideCode": false,
    "hidePrompt": false
   },
   "source": [
    "Because the combined unkown states' tickets account for a small amount and it is hard to guess what the correct spelling was suppose to be, so I will rename them as **UNKNOWN**. In addition, the amount for the state can change dramastically like BC could've been misspelling of NC but that would increase the total amount by 30%+, some state are even more impacted. "
   ]
  },
  {
   "cell_type": "code",
   "execution_count": 37,
   "metadata": {
    "hideCode": false,
    "hidePrompt": false
   },
   "outputs": [],
   "source": [
    "df.loc[df['RP State Plate'].isin(state_unknown.state.values), 'RP State Plate'] = 'UNKNOWN'"
   ]
  },
  {
   "cell_type": "code",
   "execution_count": 154,
   "metadata": {},
   "outputs": [],
   "source": [
    "## Export summary of RP State PLate\n",
    "df['RP State Plate'].value_counts().to_csv('dataset/state_clean.csv')"
   ]
  },
  {
   "cell_type": "markdown",
   "metadata": {},
   "source": [
    "## Plate Expiry Date"
   ]
  },
  {
   "cell_type": "code",
   "execution_count": 38,
   "metadata": {},
   "outputs": [
    {
     "name": "stdout",
     "output_type": "stream",
     "text": [
      "count   3686011\n",
      "mean     184909\n",
      "std       55524\n",
      "min           1\n",
      "25%      201508\n",
      "50%      201603\n",
      "75%      201609\n",
      "max      624103\n",
      "Name: Plate Expiry Date, dtype: float64\n"
     ]
    }
   ],
   "source": [
    "## There are clearly mislabeled dates\n",
    "with pd.option_context('display.float_format', '{:.0f}'.format):\n",
    "    print(df['Plate Expiry Date'].describe())"
   ]
  },
  {
   "cell_type": "code",
   "execution_count": 39,
   "metadata": {},
   "outputs": [],
   "source": [
    "## A list of valid possible dates\n",
    "valid_dates = [str(year) + month for year in range(2000,2025) \n",
    "               for month in ['01','02','03','04','05','06','07','08','09','10','11','12']]\n",
    "valid_dates = pd.Series(valid_dates, dtype = 'int')"
   ]
  },
  {
   "cell_type": "code",
   "execution_count": 40,
   "metadata": {
    "scrolled": true
   },
   "outputs": [
    {
     "data": {
      "text/plain": [
       "309447"
      ]
     },
     "execution_count": 40,
     "metadata": {},
     "output_type": "execute_result"
    }
   ],
   "source": [
    "## Invalid Expiration isnt from 2010 to 2019 and not NaN\n",
    "not_valid = ~(df['Plate Expiry Date'].isin(valid_dates) | df['Plate Expiry Date'].isna())\n",
    "not_valid.sum()"
   ]
  },
  {
   "cell_type": "code",
   "execution_count": 41,
   "metadata": {},
   "outputs": [
    {
     "data": {
      "text/plain": [
       "9         33723\n",
       "1         28045\n",
       "11        27546\n",
       "2         25928\n",
       "6         25842\n",
       "4         25141\n",
       "8         24968\n",
       "7         24734\n",
       "3         23736\n",
       "5         23028\n",
       "10        22421\n",
       "12        19756\n",
       "201500      490\n",
       "201700      462\n",
       "201600      337\n",
       "201800      172\n",
       "201215      128\n",
       "200615      124\n",
       "200915      112\n",
       "200815      111\n",
       "200316      110\n",
       "201115      102\n",
       "Name: Plate Expiry Date, dtype: int64"
      ]
     },
     "execution_count": 41,
     "metadata": {},
     "output_type": "execute_result"
    }
   ],
   "source": [
    "not_valid_count = df.loc[not_valid, 'Plate Expiry Date'].astype('int').value_counts(dropna=False).sort_values()[::-1]\n",
    "not_valid_count[not_valid_count > 100]"
   ]
  },
  {
   "cell_type": "markdown",
   "metadata": {},
   "source": [
    "It looks like majority of the mistakes are because it is missing the year. Because we know that registration is usually renewed every year and it is less likely for someone to get a ticket the same month it was just renewed, we can just add the same year that the car got the ticket. \n",
    "\n",
    "It is harder to guess the other ones and they amount to a smaller population so I will just turn them into NaN. "
   ]
  },
  {
   "cell_type": "code",
   "execution_count": 42,
   "metadata": {},
   "outputs": [],
   "source": [
    "## Find the index of rows where the value is between 1 and 12\n",
    "month_index = df['Plate Expiry Date'].between(1,12)"
   ]
  },
  {
   "cell_type": "code",
   "execution_count": 43,
   "metadata": {},
   "outputs": [],
   "source": [
    "## Add year to month such that the format is YYYYMM\n",
    "df.loc[month_index, 'Plate Expiry Date'] = df.loc[month_index, 'Issue Date'].dt.year*100 \\\n",
    "                                                + df.loc[month_index, 'Plate Expiry Date']"
   ]
  },
  {
   "cell_type": "code",
   "execution_count": 44,
   "metadata": {},
   "outputs": [],
   "source": [
    "tmp2 = df.loc[month_index, 'Issue Date'].dt.year*100 \\\n",
    "                                                + df.loc[month_index, 'Plate Expiry Date']"
   ]
  },
  {
   "cell_type": "code",
   "execution_count": 45,
   "metadata": {},
   "outputs": [
    {
     "data": {
      "text/plain": [
       "356794"
      ]
     },
     "execution_count": 45,
     "metadata": {},
     "output_type": "execute_result"
    }
   ],
   "source": [
    "## Current number of invalid and nan date format\n",
    "sum(~(df['Plate Expiry Date'].isin(valid_dates)))"
   ]
  },
  {
   "cell_type": "code",
   "execution_count": 46,
   "metadata": {},
   "outputs": [],
   "source": [
    "## Convert all invalid dates and nan into zeros\n",
    "df.loc[~(df['Plate Expiry Date'].isin(valid_dates)), 'Plate Expiry Date'] = 0"
   ]
  },
  {
   "cell_type": "code",
   "execution_count": 47,
   "metadata": {},
   "outputs": [],
   "source": [
    "## Convert Plate Expiry Date into correct datetime type \n",
    "df['Plate Expiry Date'] = pd.to_datetime(df['Plate Expiry Date'].astype('int')\\\n",
    "                                         .astype('str'), errors='coerce', format = '%Y%m')"
   ]
  },
  {
   "cell_type": "code",
   "execution_count": 48,
   "metadata": {},
   "outputs": [
    {
     "data": {
      "text/plain": [
       "count                 3681432\n",
       "unique                    270\n",
       "top       2016-06-01 00:00:00\n",
       "freq                   166879\n",
       "first     2000-01-01 00:00:00\n",
       "last      2024-11-01 00:00:00\n",
       "Name: Plate Expiry Date, dtype: object"
      ]
     },
     "execution_count": 48,
     "metadata": {},
     "output_type": "execute_result"
    }
   ],
   "source": [
    "df['Plate Expiry Date'].describe()"
   ]
  },
  {
   "cell_type": "markdown",
   "metadata": {},
   "source": [
    "## Violation Code + Violation Description"
   ]
  },
  {
   "cell_type": "code",
   "execution_count": 49,
   "metadata": {},
   "outputs": [],
   "source": [
    "## Rename string to new value in Violation Description\n",
    "def rename_des(to_replace, value):\n",
    "    df['Violation Description'].replace(to_replace = to_replace, \n",
    "                                        value = value, inplace = True)"
   ]
  },
  {
   "cell_type": "code",
   "execution_count": 50,
   "metadata": {
    "scrolled": true
   },
   "outputs": [
    {
     "name": "stdout",
     "output_type": "stream",
     "text": [
      "Number of unique code: 263\n",
      "Number of unique description: 498\n"
     ]
    }
   ],
   "source": [
    "## The number of violation code and description\n",
    "print('Number of unique code: {}'.format(df['Violation code'].unique().size))\n",
    "print('Number of unique description: {}'.format(df['Violation Description'].unique().size))"
   ]
  },
  {
   "cell_type": "code",
   "execution_count": 51,
   "metadata": {},
   "outputs": [
    {
     "name": "stdout",
     "output_type": "stream",
     "text": [
      "Number of unique code reduce to: 195\n",
      "Number of unique description reduce to: 495\n"
     ]
    }
   ],
   "source": [
    "## Remove punctuations which causes a lot of different codes\n",
    "df['Violation code'] = df['Violation code'].str.replace('[.+#*-]', '')\n",
    "print('Number of unique code reduce to: {}'.format(df['Violation code'].unique().size))\n",
    "## Remove * and make text upper case for more consistent with each other\n",
    "df['Violation Description'] = df['Violation Description'].str.replace('*', '').str.upper()\n",
    "print('Number of unique description reduce to: {}'.format(df['Violation Description'].unique().size))"
   ]
  },
  {
   "cell_type": "code",
   "execution_count": 52,
   "metadata": {},
   "outputs": [],
   "source": [
    "## Match code and descriptions but sort by description\n",
    "df.groupby(['Violation code', 'Violation Description'])\\\n",
    "    .size().reset_index().sort_values(by = 'Violation Description')\\\n",
    "    .to_csv('dataset/v_code_desc_pre_clean.csv')"
   ]
  },
  {
   "cell_type": "code",
   "execution_count": 53,
   "metadata": {},
   "outputs": [],
   "source": [
    "## Are are a lot of violation code and violation description that just misspelling or \n",
    "## different code so it seems like a good idea to make code and description more consistent. \n",
    "## In addition some of the description are actually violation code. \n",
    "\n",
    "## Description Corrections:\n",
    "\n",
    "## PARKED OVER TIME LIM --> PARKED OVER TIME LIMIT\n",
    "rename_des('PARKED OVER TIME LIM', 'PARKED OVER TIME LIMIT')\n",
    "## BLK BIKE PATH OR LANE --> BLOCKING BIKE PATH/LANE ## For consistency \n",
    "## BLK BIKE PATH OR LAN --> BLOCKING BIKE PATH/LANE\n",
    "rename_des(['BLK BIKE PATH OR LAN', 'BLK BIKE PATH OR LANE'], 'BLOCKING BIKE PATH/LANE')\n",
    "## BLOCKING INTERSECTIO --> BLOCKING INTERSECTION\n",
    "rename_des('BLOCKING INTERSECTIO', 'BLOCKING INTERSECTION')\n",
    "## CATERING/W/I 200 FT --> CATERING VIOLATION  ## There are only 1\n",
    "rename_des('CATERING/W/I 200 FT', 'CATERING VIOLATION')\n",
    "## COMM VEH OVER TIME L --> COMM VEH OVER TIME LIMIT\n",
    "## COMVEH RES/OV TM B-2 --> COMM VEH OVER TIME LIMIT  ## Account for a small population\n",
    "## COMVEH RES/OV TM C-3 --> COMM VEH OVER TIME LIMIT  ## Account for a small population\n",
    "## COMVEH RES/OV TM LMT --> COMM VEH OVER TIME LIMIT  ## Account for a small population\n",
    "rename_des(['COMM VEH OVER TIME L', 'COMVEH RES/OV TM B-2', \n",
    "            'COMVEH RES/OV TM C-3', 'COMVEH RES/OV TM LMT'], \n",
    "           'COMM VEH OVER TIME LIMIT')\n",
    "## DISABLED PARKING/BOU --> DISABLED PARKING/BOUNDARIES\n",
    "## HANDICAP/ON LINE --> DISABLED PARKING/BOUNDARIES ## Same code\n",
    "## HANDICPD/ON LINE --> DISABLED PARKING/BOUNDARIES ## Same code\n",
    "rename_des(['DISABLED PARKING/BOU', 'HANDICAP/ON LINE', 'HANDICPD/ON LINE'], \n",
    "           'DISABLED PARKING/BOUNDARIES')\n",
    "## DISABLED PARKING/CRO --> DISABLED PARKING/CROSS HATCH\n",
    "## HANDICAP/CROSS HATCH --> DISABLED PARKING/CROSS HATCH  ## Same code\n",
    "rename_des(['DISABLED PARKING/CRO', 'HANDICAP/CROSS HATCH'], \n",
    "           'DISABLED PARKING/CROSS HATCH')\n",
    "## DISABLED PARKING/NO --> DISABLED PARKING/NO DP ID\n",
    "## HANDICAP/NO DP ID --> DISABLED PARKING/NO DP ID\n",
    "rename_des(['DISABLED PARKING/NO', 'HANDICAP/NO DP ID'], \n",
    "           'DISABLED PARKING/NO DP ID')\n",
    "## HANDICPD/BLOCKING --> DISABLED PARKING/OBS \n",
    "## DISABLED PARKING/OBS --> DISABLED PARKING/BLOCKING  ## More descriptive title\n",
    "rename_des(['HANDICPD/BLOCKING', 'DISABLED PARKING/OBS'], \n",
    "           'DISABLED PARKING/BLOCKING')\n",
    "## EXCEED 72HRS-ST --> EXCEED 72 HOURS\n",
    "rename_des('EXCEED 72HRS-ST', 'EXCEED 72 HOURS')\n",
    "## LOADING ZONES --> LOAD/UNLOAD ONLY  ## Only 1\n",
    "rename_des('LOADING ZONES', 'LOAD/UNLOAD ONLY')\n",
    "## METER EXP. --> METER EXPIRED  ## Same Code \n",
    "## METER OFFENSE --> METER EXPIRED  ## Only 1\n",
    "rename_des(['METER EXP.', 'METER OFFENSE'], \n",
    "           'METER EXPIRED')\n",
    "## NO PARK STRT CLEAN --> NO PARK/STREET CLEAN\n",
    "rename_des('NO PARK STRT CLEAN', 'NO PARK/STREET CLEAN')\n",
    "## NO PARKING BETWEEN P --> NO PARKING BETWEEN POSTED HOURS\n",
    "rename_des('NO PARKING BETWEEN P', 'NO PARKING BETWEEN POSTED HOURS')\n",
    "## NO STOPPING/ANTI-GRI --> NO STOPPING/ANTI-GRIDLOCK ZONE\n",
    "rename_des('NO STOPPING/ANTI-GRI', 'NO STOPPING/ANTI-GRIDLOCK ZONE')\n",
    "## OFF STREET/OVERTIME --> OFF STR/OVERTIME/MTR\n",
    "rename_des('OFF STREET/OVERTIME', 'OFF STR/OVERTIME/MTR')\n",
    "## PARK IN XWALK --> PARKED IN CROSSWALK \n",
    "rename_des('PARK IN XWALK', 'PARKED IN CROSSWALK')\n",
    "## PARKED OVER TIME LIM --> PARKED OVER TIME LIMIT\n",
    "## PK BYND TM LMTS --> PARKED OVER TIME LIMIT  ## Same code\n",
    "## PKD OVER TIME LIMIT --> PARKED OVER TIME LIMIT  ## Same code\n",
    "rename_des(['PARKED OVER TIME LIM', 'PK BYND TM LMTS', 'PKD OVER TIME LIMIT'], \n",
    "           'PARKED OVER TIME LIMIT')\n",
    "## Combined since they mean the same\n",
    "## OUTSIDE MARKER --> PARKED OUTSIDE SPACE ## Same meaning and only 5 cases\n",
    "## PK OVR PNTD LNS --> PARKED OUTSIDE SPACE ## Same meaning and has 75 cases\n",
    "rename_des(['OUTSIDE MARKER', 'PK OVR PNTD LNS'], \n",
    "           'PARKED OUTSIDE SPACE')\n",
    "## PARKING/FRONT YARD 1 --> PARKING/FRONT YARD  ## Same code\n",
    "## PARKING/FRONT YARD 2 --> PARKING/FRONT YARD  ## Same code\n",
    "## PARKING/FRONT YARD 3 --> PARKING/FRONT YARD  ## Same code\n",
    "rename_des(['PARKING/FRONT YARD 1', 'PARKING/FRONT YARD 2', 'PARKING/FRONT YARD 3'], \n",
    "           'PARKING/FRONT YARD')\n",
    "## PK OVERSIZED 1ST --> PK OVERSIZ  ## Same code\n",
    "## PK OVERSIZED 2ND --> PK OVERSIZ  ## Same code\n",
    "## PK OVERSIZED 3RD --> PK OVERSIZ  ## Same code\n",
    "## PK OVERSIZ --> PARK OVERSIZED  ## More descriptive title\n",
    "rename_des(['PK OVERSIZED 1ST', 'PK OVERSIZED 2ND', \n",
    "            'PK OVERSIZED 3RD', 'PK OVERSIZ'], \n",
    "           'PARK OVERSIZED')\n",
    "## PK TRAILER 2 --> PK TRAILER ## Same code\n",
    "rename_des('PK TRAILER 2', 'PK TRAILER')\n",
    "## PREF PARKING --> PREFERENTIAL PARKING\n",
    "rename_des('PREF PARKING', 'PREFERENTIAL PARKING')\n",
    "## PRKG PUBL GRNDS --> PARKING PUBLIC GROUNDS\n",
    "## PUBLIC GROUNDS --> PARKING PUBLIC GROUNDS\n",
    "rename_des(['PRKG PUBL GRNDS', 'PUBLIC GROUNDS'], \n",
    "           'PARKING PUBLIC GROUNDS')\n",
    "## RESTRICTED ZONE --> RESTRICTED TAXI ZONE ## Same code\n",
    "rename_des('RESTRICTED ZONE', 'RESTRICTED TAXI ZONE')\n",
    "## SIGN POSTED - NO PAR --> SIGN POSTED - NO PARK ## Same code\n",
    "## SIGN PSTD-NO PK --> SIGN POSTED - NO PARK ## Same code\n",
    "## SIGN POSTED - NO PARK --> PARKED IN POSTED AREA ## Same meaning\n",
    "rename_des(['SIGN POSTED - NO PAR', 'SIGN PSTD-NO PK'], 'PARKED IN POSTED AREA')\n",
    "## STANDNG IN ALLEY --> STANDING IN ALLEY \n",
    "## STNDNG IN ALLEY --> STANDING IN ALLEY\n",
    "rename_des(['STANDNG IN ALLEY', 'STNDNG IN ALLEY'], 'STANDING IN ALLEY')"
   ]
  },
  {
   "cell_type": "code",
   "execution_count": 54,
   "metadata": {},
   "outputs": [],
   "source": [
    "## Description most likely means the same thing:\n",
    "\n",
    "## RED CURB --> RED ZONE\n",
    "rename_des('RED CURB', 'RED ZONE')\n",
    "## WHITE CURB --> WHITE ZONE\n",
    "rename_des('WHITE CURB', 'WHITE ZONE')\n",
    "## YELLOW CURB --> YELLOW ZONE\n",
    "rename_des('YELLOW CURB', 'YELLOW ZONE')"
   ]
  },
  {
   "cell_type": "code",
   "execution_count": 55,
   "metadata": {},
   "outputs": [],
   "source": [
    "## Cluster violation code together \n",
    "tmp = df[['Violation code', 'Violation Description']].copy()\n",
    "## Find index for which violation code's length is smaller than 3\n",
    "tmp2 = df['Violation code'].str.len() <= 3 \n",
    "## Transfer code from description to code column\n",
    "tmp.loc[tmp2, 'Violation code'] = tmp.loc[tmp2, 'Violation Description']\n",
    "## Group code and description sorted by code to match code and description together\n",
    "tmp.groupby(['Violation code', 'Violation Description']).size()\\\n",
    "    .reset_index().sort_values('Violation code')\\\n",
    "    .to_csv('dataset/v_code_desc_clean1.csv')\n",
    "del tmp, tmp2"
   ]
  },
  {
   "cell_type": "code",
   "execution_count": 56,
   "metadata": {},
   "outputs": [],
   "source": [
    "## Fix Description where violation code instead of text or same code different Description\n",
    "## A few are educated guess  \n",
    "## A lot are ignored due to missing/additional letter/integer\n",
    "## because the code are not well structed\n",
    "## Some every have same description different code or the reverse\n",
    "## used v_code_des.csv\n",
    "\n",
    "## Description Correction: \n",
    "\n",
    "## 17104C --> R/PRIV PARKING AREA\n",
    "rename_des('17104C', 'R/PRIV PARKING AREA')\n",
    "## 17104H --> LOAD/UNLOAD ONLY\n",
    "rename_des('17104H', 'LOAD/UNLOAD ONLY')\n",
    "## 21113A --> PARKING PUBLIC GROUNDS\n",
    "rename_des('21113A', 'PARKING PUBLIC GROUNDS')\n",
    "## PARK FIRE LANE --> PARKED IN FIRE LANE\n",
    "rename_des('PARK FIRE LANE', 'PARKED IN FIRE LANE')\n",
    "## 22500A --> WITHIN INTERSECTION\n",
    "rename_des('22500A', 'WITHIN INTERSECTION')\n",
    "## 22500B --> PARKED IN CROSSWALK\n",
    "rename_des('22500B', 'PARKED IN CROSSWALK')\n",
    "## 22500C --> SAFETY ZONE/CURB\n",
    "rename_des('22500C', 'SAFETY ZONE/CURB')\n",
    "## 22500D --> PK-15FT FIRE ST\n",
    "rename_des('22500D', 'PK-15FT FIRE ST')\n",
    "## 22500E --> BLOCKING DRIVEWAY\n",
    "rename_des('22500E','BLOCKING DRIVEWAY')\n",
    "## 22500F --> PARKED ON SIDEWALK\n",
    "rename_des('22500F', 'PARKED ON SIDEWALK')\n",
    "## 22500G --> OBSTR EXCAVATN\n",
    "rename_des('22500G', 'OBSTR EXCAVATN')\n",
    "## 22500H --> DOUBLE PARKING\n",
    "## 22500H1 --> DOUBLE PARKING ## Only 1 case and usually means the same\n",
    "rename_des(['22500H', '22500H1'], 'DOUBLE PARKING')\n",
    "## 22500I --> PARKED IN BUS ZONE\n",
    "rename_des('22500I', 'PARKED IN BUS ZONE')\n",
    "## 22500J --> PARKNG IN TUNNEL\n",
    "rename_des('22500J', 'PARKNG IN TUNNEL')\n",
    "## 22500K --> PARKED ON BRIDGE\n",
    "rename_des('22500K', 'PARK ON BRIDGE')\n",
    "## DP-BLKNG ACCESS RAMP --> DISABLED PARKING/BLOCK ACCESS RAMP ## More Descriptive title\n",
    "## BLOCK HANDICAP ACCES --> DISABLED PARKING/BLOCK ACCESS RAMP\n",
    "rename_des(['DP-BLKNG ACCESS RAMP', 'BLOCK HANDICAP ACCES'], \n",
    "           'DISABLED PARKING/BLOCK ACCESS RAMP')\n",
    "## 22502A --> 18 IN/CURB/2 WAY\n",
    "## 18 IN. CURB/2 WAY --> 18 IN/CURB/2 WAY ## For consistency\n",
    "rename_des(['22502A', '18 IN. CURB/2 WAY'], '18 IN/CURB/2 WAY')\n",
    "## 22502E --> 18 IN. CURB/1 WAY \n",
    "## 18 IN. CURB/1 WAY --> 18 IN/CURB/1 WAY\n",
    "rename_des(['22502E', '18 IN. CURB/1 WAY'], '18 IN/CURB/1 WAY')\n",
    "## DISABLED PARKING/BOUNDARIES --> DISABLED PARKING/CROSS HATCH\n",
    "rename_des('DISABLED PARKING/BOUNDARIES', 'DISABLED PARKING/CROSS HATCH')\n",
    "## 225111A --> PARKED IN ELEC VEHIC  \n",
    "rename_des('225111A', 'PARKED IN ELEC VEHIC')\n",
    "## 2251156 --> DP-REFUSE ID \n",
    "## DP-REFUSE ID --> DISABLED PARKING/REFUSE ID ## Most likely description\n",
    "rename_des(['2251156', 'DP-REFUSE ID'], 'DISABLED PARKING/REFUSE ID')\n",
    "## DP-ALTERED --> DP- RO NOT PRESENT\n",
    "## DP-SUBPLATE --> DP- RO NOT PRESENT\n",
    "## 2251157B --> DP- RO NOT PRESENT\n",
    "## 2251157A --> DP- RO NOT PRESENT ## Most likely description\n",
    "## 2251157C --> DP- RO NOT PRESENT ## Most likely description\n",
    "## DP- RO NOT PRESENT --> DISABLED PARKING/RO NOT PRESENT ## More Descriptive Title\n",
    "rename_des(['DP-ALTERED', 'DP-SUBPLATE', '2251157B', \n",
    "            '2251157A', '2251157C', 'DP- RO NOT PRESENT'], \n",
    "           'DISABLED PARKING/RO NOT PRESENT')\n",
    "## 22514 --> FIRE HYDRANT\n",
    "rename_des('22514', 'FIRE HYDRANT')\n",
    "## 22515 --> UNATT/MOTOR ON\n",
    "rename_des('22515', 'UNATT/MOTOR ON')\n",
    "## 22522 --> 3 FT. SIDEWALK RAMP\n",
    "rename_des('22522', '3 FT. SIDEWALK RAMP')\n",
    "## 22523A --> ABAND VEH/HIGHWAY\n",
    "rename_des('22523A', 'ABAND VEH/HIGHWAY')\n",
    "## 22526 BLK INT PROHIB --> 22526A BLOCKING INTERSECTION ## Most likely the same\n",
    "rename_des('BLK INT PROHIB', 'BLOCKING INTERSECTION')\n",
    "## 4000A = 4000A1 ## Most likely the same\n",
    "## 40001A = 4000A1 ## Most likely the same and is only 10 cases\n",
    "## 4000A --> NO EVIDENCE OF REG\n",
    "## 40001A --> NO EVIDENCE OF REG\n",
    "rename_des(['4000A', '40001A'], 'NO EVIDENCE OF REG')\n",
    "## 5200 --> DISPLAY OF PLATES \n",
    "## 5200A1 --> DSPLYPLATE A ## Most likely the same\n",
    "## DSPLYPLATE A --> DISPLAY OF PLATES # Most likely the same\n",
    "## DSPLYPLATE B --> DISPLAY OF PLATES # Most likely the same\n",
    "rename_des(['5200', '5200A1', 'DSPLYPLATE A', 'DSPLYPLATE B'],\n",
    "          'DISPLAY OF PLATES')\n",
    "## NO PK BET 1-3AM --> NO PARK/BETWEEN POSTED HOURS\n",
    "## NO PARKING BETWEEN POSTED HOURS --> NO PARK/BETWEEN POSTED HOURS ## For consistency\n",
    "rename_des(['NO PK BET 1-3AM', 'NO PARKING BETWEEN POSTED HOURS'], \n",
    "           'NO PARK/BETWEEN POSTED HOURS')\n",
    "## Combine, No Idea what description means\n",
    "## PARKING OUTSIDE PARK --> PARKING OUTSIDE PARK STL\n",
    "## PK OUTSD PK STL --> PARKING OUTSIDE PARK STL\n",
    "rename_des(['PARKING OUTSIDE PARK', 'PK OUTSD PK STL'],\n",
    "          'PARKING OUTSIDE PARK STL')\n",
    "## PKD IN/ON PARKWAY --> PARKED IN PARKWAY\n",
    "rename_des('PKD IN/ON PARKWAY', 'PARKED IN PARKWAY')\n",
    "## 80581 --> CARSHARE PARKING\n",
    "## CARSHARE PARKING --> PARKING IN CARSHARE ## For consistency \n",
    "rename_des(['80581', 'CARSHARE PARKING'], 'PARKING IN CARSHARE')\n",
    "## 80691A --> COMM TRAILER/22 FT.\n",
    "## COMM TRAILER/22 FT. --> TRAILER COMM/22 FT ## For consistency \n",
    "rename_des(['80691A', 'COMM TRAILER/22 FT.'], 'TRAILER COMM/22 FT')\n",
    "## PARKING UNHITCHED TR --> TRAILER PARKING UNHITCHED ## For consistency\n",
    "## PK TRAILER --> TRAILER PARKING UNHITCHED \n",
    "rename_des(['PARKING UNHITCHED TR', 'PK TRAILER'], \n",
    "          'TRAILER PARKING UNHITCHED')\n",
    "## 8069AA NO STOP/STAND --> NO STOP/STAND AM\n",
    "df.loc[df['Violation code'] == '8069AA', \n",
    "       'Violation Description'] = 'NO STOP/STAND AM'\n",
    "## 8069AP NO STOP/STANDING --> NO STOP/STAND PM\n",
    "df.loc[df['Violation code'] == '8069AP', \n",
    "       'Violation Description'] = 'NO STOP/STAND PM'\n",
    "## 8069A NO STOPPING/STANDING --> NO STOP/STAND ## For consistency \n",
    "## 8069A STOP/STAND PROHIBIT --> NO STOP/STAND\n",
    "## 89391A STOP/STAND PROHB --> NO STOP/STAND\n",
    "df.loc[df['Violation code'].isin(['8069A', '89391A']), \n",
    "       'Violation Description'] = 'NO STOP/STAND'\n",
    "## TRAILER   6' HIGH --> VEH/LOAD OVR 6' HIGH \n",
    "## VEH/LOAD OVR 6' HIGH --> VEH/LOAD OVR 6FT ## For consistency\n",
    "rename_des([\"TRAILER   6' HIGH\", \"VEH/LOAD OVR 6' HIGH\"], \"VEH/LOAD OVR 6FT\")\n",
    "## PARK IN GRID LOCK ZN --> NO STOP/ANTI-GRIDLOCK ZONE\n",
    "## NO STOPPING/ANTI-GRIDLOCK ZONE --> NO STOP/ANTI-GRIDLOCK ZONE ## For consistency\n",
    "rename_des(['PARK IN GRID LOCK ZN', 'NO STOPPING/ANTI-GRIDLOCK ZONE'], \n",
    "           'NO STOP/ANTI-GRIDLOCK ZONE')\n",
    "## 8603 CITY PARK/PROHIB --> PARKED IN PROHIBITED AREA\n",
    "## PK IN PROH AREA --> PARKED IN PROHIBITED AREA  ## For consistency \n",
    "## PARK RESTRCD --> PARKED IN PROHIBITED AREA ## Most likely the same\n",
    "df.loc[df['Violation code'] == '8603', \n",
    "       'Violation Description'] = 'PARKED IN PROHIBITED AREA'\n",
    "rename_des('PARK RESTRCD', 'PARKED IN PROHIBITED AREA')\n",
    "## 8606 CITY PARK/PROHIB --> PARKED OUTSIDE POSTED AREA\n",
    "## PK OTSD PSTD AR --> PARKED OUTSIDE POSTED AREA ## For consistency \n",
    "df.loc[df['Violation code'] == '8606', \n",
    "       'Violation Description'] = 'PARKED OUTSIDE POSTED AREA'\n",
    "## PK NR FIRE HYDR --> FIRE HYDRANT ## Only 2 case, diff code, but most likely the same \n",
    "rename_des('PK NR FIRE HYDR', 'FIRE HYDRANT')\n",
    "## TM LMT EXCEEDED --> EXCEED TIME LMT ## Only 1 case, diff code, but most likely the same\n",
    "## EXCEED TIME LMT --> PARKED OVER TIME LIMIT ## Has the same meaning\n",
    "rename_des(['TM LMT EXCEEDED', 'EXCEED TIME LMT'], 'PARKED OVER TIME LIMIT')\n",
    "## 8709B --> PARK-PSTD AREAS\n",
    "## 6344K8 SIGN POSTED - NO PARK --> PARK-PSTD AREAS ## Similar meaning\n",
    "## PARK-PSTD AREAS --> PARKED IN POSTED AREA ## For consistency \n",
    "rename_des(['8709B', 'PARK-PSTD AREAS', 'SIGN POSTED'], 'PARKED IN POSTED AREA')\n",
    "## 8709H PK OVR 2 SPACES --> PARK OVERSIZED ## Only 9 cases, diff code, but most likely the same\n",
    "## 8940B PK OVR 2 SPACES --> PARK OVERSIZED ## Only 3 cases, diff code, but most likely the same\n",
    "## 22507A OVERSIZED VEHICLE PA --> PARK OVERSIZED ## Most likely the same\n",
    "rename_des(['PK OVR 2 SPACES', 'OVERSIZED VEHICLE PA'], 'PARK OVERSIZED')\n",
    "## 8753 --> MOB BILBD ADV DISP \n",
    "rename_des('8753', 'MOB BILBD ADV DISP')\n",
    "## 8755 --> FOR SALE SIGN \n",
    "rename_des('8755', 'FOR SALE SIGN')\n",
    "## 8803 PARKING OUTSIDE OF S --> 8803 METER/OUTSIDE LINES\n",
    "## 8803A PK OUTSD SPACE --> 8803A METER/OUTSIDE LINES\n",
    "## OUTSIDE LINES/METER --> METER/OUTSIDE LINES ## For consistency\n",
    "## 8853 PK OUTSD SPACE --> 8853 OFF STR MTR/OUT LINE\n",
    "## 8853 OFF STR MTR/OUT LINE --> METER/OUTSIDE LINES ## Same meaning\n",
    "df.loc[df['Violation code'].isin(['8803', '8803A', '8853']), \n",
    "       'Violation Description'] = 'METER/OUTSIDE LINES'\n",
    "## FAIL DEP COIN --> NO COIN DEP IN METER ## Most likely the same \n",
    "## NO COIN DEP IN METER --> METER/EXPIRED\n",
    "## 8863B 8864B OFF STR/OVERTIME/MTR --> METER EXPIRED \n",
    "## METER EXPIRED --> METER/EXPIRED ## For consistency \n",
    "rename_des(['FAIL DEP COIN', 'NO COIN DEP IN METER', \n",
    "            'OFF STR/OVERTIME/MTR', 'METER EXPIRED'],\n",
    "          'METER/EXPIRED')"
   ]
  },
  {
   "cell_type": "code",
   "execution_count": 57,
   "metadata": {},
   "outputs": [],
   "source": [
    "## Simple rename of description: \n",
    "\n",
    "## MORE 18-CURB --> 18 IN/CURB ## For consistency \n",
    "rename_des('MORE 18-CURB', '18 IN/CURB')\n",
    "## CLOSED MT FIRE RD --> MT FIRE RD CLOSED ## For consistency \n",
    "rename_des('CLOSED MT FIRE RD', 'MT FIRE RD CLOSED')\n",
    "## OBST FIRE RD --> MT FIRE RD OBST ## For consistency\n",
    "rename_des('OBST FIRE RD', 'MT FIRE RD OBST')\n",
    "## BLK RAIL PROHIB --> BLOCKING RAIL ## More Descriptive Title \n",
    "rename_des('BLK RAIL PROHIB', 'BLOCKING RAIL')\n",
    "## MISUSE/DP PRIVILEGE --> DISABLED PARKING/MISUSE PRIVILEGE  ## More Descriptive Title\n",
    "rename_des('MISUSE/DP PRIVILEGE', 'DISABLED PARKING/MISUSE PRIVILEGE')\n",
    "## NO PARKING --> NO PARK ## For consistency \n",
    "## PARKING PROHIB --> NO PARK ## For consistency \n",
    "## TEMPORARY NO PARKING --> NO PARK ## Only 1 case and same meaning\n",
    "rename_des(['NO PARKING', 'PARKING PROHIB', 'TEMPORARY NO PARKING'], 'NO PARK')\n",
    "## ILGL EXT OF TM --> ILLEGAL EXTENSION OF TIME \n",
    "rename_des('ILGL EXT OF TM', 'ILLEGAL EXTENSION OF TIME')\n",
    "## PARKNG IN TUNNEL --> PARKED IN TUNNEL\n",
    "rename_des('PARKNG IN TUNNEL', 'PARKED IN TUNNEL')\n",
    "## PK TRLR-PUBL AR --> TRAILER PARKED IN PUBLIC AREA\n",
    "rename_des('PK TRLR-PUBL AR', 'TRAILER PARKED IN PUBLIC AREA')\n",
    "## STATE HIGHWAY PARKNG --> PARKED ON STATE HIGHWAY ## For consistency\n",
    "rename_des('STATE HIGHWAY PARKNG', 'PARKED ON STATE HIGHWAY')\n",
    "## PK ON PRIV ST --> PARKED ON PRIVATE STREET ## Very few cases and are kind of the same\n",
    "## R/PRIV PARKING AREA --> PARKED ON PRIVATE PROPERTY # Has ~3% of cases and are kind of the same\n",
    "## PRIVATE PROPERTY --> PARKED ON PRIVATE PROPERTY ## This accounts for ~97% of cases\n",
    "rename_des(['PK ON PRIV ST', 'R/PRIV PARKING AREA', 'PRIVATE PROPERTY'], \n",
    "           'PARKED ON PRIVATE PROPERTY')\n",
    "## PK-15FT FIRE ST --> PARKED 15FT FIRE ST ## Not sure what this is\n",
    "rename_des('PK-15FT FIRE ST', 'PARKED 15FT FIRE ST')\n",
    "## PREFERENTIAL PARKING --> PARKED IN PREFERENTIAL PARKING\n",
    "rename_des('PREFERENTIAL PARKING', 'PAKRED IN PREFERENTIAL PARKING')\n",
    "## PRK FLOOD CNTL CHANL --> PARKED ON FLOOD CONTROL CHANNEL\n",
    "rename_des('PRK FLOOD CNTL CHANL', 'PARKED ON FLOOD CONTROL CHANNEL')\n",
    "## 3 FT. SIDEWALK RAMP --> PARKED WITHIN 3FT SIDEWALK RAMP\n",
    "rename_des('3 FT. SIDEWALK RAMP', 'PARKED WITHIN 3FT SIDEWALK RAMP')\n",
    "## PARKING/FRONT YARD --> PARKED ON FRONT YARD\n",
    "rename_des('PARKING/FRONT YARD', 'PARKED ON FRONT YARD')"
   ]
  },
  {
   "cell_type": "markdown",
   "metadata": {},
   "source": [
    "**Same violation code but mix meaning **\n",
    "\n",
    "Example:\n",
    "\n",
    "* 5204A = DISPLAY OF TABS = EXPIRED TAGS?\n",
    "* 8049 = 18 IN/CURB/COMM VEH = WRG SD/NOT PRL (Wrong standard distance/not parallel?)"
   ]
  },
  {
   "cell_type": "code",
   "execution_count": 58,
   "metadata": {},
   "outputs": [],
   "source": [
    "## Export csv for another inspection\n",
    "df.groupby('Violation Description').size().reset_index().to_csv('dataset/v_code_desc_clean2.csv')"
   ]
  },
  {
   "cell_type": "code",
   "execution_count": 59,
   "metadata": {},
   "outputs": [
    {
     "name": "stdout",
     "output_type": "stream",
     "text": [
      "Number of UNKNOWN: 3467\n"
     ]
    }
   ],
   "source": [
    "## Turn violation description that are still in code form into UNKNOWN \n",
    "## NON-code has more than 3 letters in them \n",
    "tmp = df['Violation Description'].astype('str').str.count('[A-Z]') <= 3\n",
    "## Replace code from description to code column\n",
    "df.loc[tmp, 'Violation code'] = df.loc[tmp, 'Violation Description']\n",
    "## Convert description's code rows into UNKNOWN\n",
    "df.loc[tmp, 'Violation Description'] = 'UNKNOWN'\n",
    "print('Number of UNKNOWN: {}'.format(tmp.sum()))\n",
    "del tmp"
   ]
  },
  {
   "cell_type": "code",
   "execution_count": 60,
   "metadata": {},
   "outputs": [],
   "source": [
    "## Groupby Violation code and Violation Description and count cases\n",
    "df.groupby(['Violation code','Violation Description']).size()\\\n",
    "    .to_csv('dataset/v_code_des_final.csv')"
   ]
  },
  {
   "cell_type": "code",
   "execution_count": 61,
   "metadata": {},
   "outputs": [],
   "source": [
    "## Groupby Violation Description and count cases\n",
    "df.groupby('Violation Description').size().to_csv('dataset/v_des_final.csv')"
   ]
  },
  {
   "cell_type": "markdown",
   "metadata": {},
   "source": [
    "Violation Description was reduce to 120 unique values and have 3467 UNKNOWN values. \n",
    "\n",
    "**Violation code is left as is except when the code was in the description column so there are still rows where the value do have meaning like 0, 11, 13, 9.**"
   ]
  },
  {
   "cell_type": "markdown",
   "metadata": {},
   "source": [
    "## Make"
   ]
  },
  {
   "cell_type": "code",
   "execution_count": 62,
   "metadata": {},
   "outputs": [
    {
     "name": "stdout",
     "output_type": "stream",
     "text": [
      "Number of unique Make: 1086\n"
     ]
    }
   ],
   "source": [
    "print('Number of unique Make: {}'.format(df.Make.unique().shape[0]))"
   ]
  },
  {
   "cell_type": "markdown",
   "metadata": {},
   "source": [
    "It would be very difficult to fix this feature because of the nature of how the information is inputed. \n",
    "\n",
    "Car make seems to be shorten based on personal perference, car commonly accepted abbreviation, or by guessing. For instance:\n",
    "\n",
    "* ACURA could be ACUR, ACC, ACCU, ACUA\n",
    "* AUDI could be AUD, AUDI\n",
    "* TOYOTA could be TOYO, TOYT\n",
    "\n",
    "Single letter difference can be totally different car: For instance: \n",
    "\n",
    "* BENZ (Mercedes Benz) != BENT (Bentley) \n",
    "* VOLV (Volvo) != VOLK (Volkswagen) \n",
    "\n",
    "Also hard to guess car brand since there is no set list and brands come and go and my limited knowledge."
   ]
  },
  {
   "cell_type": "code",
   "execution_count": 63,
   "metadata": {},
   "outputs": [],
   "source": [
    "## Educated Guess \n",
    "\n",
    "## Brand Name == ABBR (total count)\n",
    "## TOYOTA == TOYO (39180) == TOYT(668496)\n",
    "## Because most common brand \n",
    "df.Make.replace('TOYO', 'TOYT', inplace=True)\n",
    "## LEXUS == LEXS (115760) == LEXU (6425) == LEX (33)\n",
    "df.Make.replace(['LEXU', 'LEX'], 'LEXS', inplace=True)\n",
    "## MINI == MNNI (28749) == MINI (1205) == MIN (10)\n",
    "## Most likely typo\n",
    "df.Make.replace(['MNNI', 'MIN'], 'MINI', inplace=True)\n",
    "## ISUZU == ISUZ (426) == ISU (8716)\n",
    "df.Make.replace('ISU', 'ISUZ', inplace=True)\n",
    "## Volkswagon == VOLK (145314) == VW (159)\n",
    "df.Make.replace('VW', 'VOLK', inplace=True)\n",
    "## KAWASAKI == KW (2423) == KAWK (1471) == KAWA (87)\n",
    "df.Make.replace(['KAWA', 'KAWK'], 'KW', inplace=True)\n",
    "## MERCEDES-BENZ == BENZ (163219) == MBNZ (3463) == MBZ (20)\n",
    "df.Make.replace(['MBNZ', 'MBZ'], 'BENZ', inplace=True)\n",
    "## SUZUKI == SUZI (6413) == SUZU (426)\n",
    "df.Make.replace('SUZU', 'SUZI', inplace=True)\n",
    "## MITSUBISHI == MITZ (58) == MITS (38021)\n",
    "df.Make.replace('MITZ', 'MITS', inplace=True)\n",
    "## TESLA == TSLA (21) == TESL (148)\n",
    "df.Make.replace('TSLA', 'TESL', inplace=True)\n",
    "## DODGE RAM == RAM (10) == DODG (116641)\n",
    "df.Make.replace('RAM', 'DODG', inplace=True)\n",
    "## HYUNDAI == HYUN(116542),HD(2076),HYND(8),HYD(8),HYDA(2),HYDI(2)\n",
    "df.Make.replace(['HD', 'HYND', 'HYD', 'HYDA', 'HYDI'], \n",
    "                'HYUN', inplace=True)\n",
    "## FIAT == FIAT (14603) == FIA (2)\n",
    "df.Make.replace('FIA', 'FIAT', inplace=True)\n",
    "## Probaby means Other == OTHE(22) == OTHR(72581)\n",
    "df.Make.replace('OTHE', 'OTHR', inplace = True)"
   ]
  },
  {
   "cell_type": "code",
   "execution_count": 64,
   "metadata": {},
   "outputs": [],
   "source": [
    "## Count each car make after cleaning \n",
    "df.groupby('Make').size().sort_values()[::-1].to_csv('dataset/make_final.csv')"
   ]
  },
  {
   "cell_type": "markdown",
   "metadata": {},
   "source": [
    "## Body Style"
   ]
  },
  {
   "cell_type": "code",
   "execution_count": 65,
   "metadata": {},
   "outputs": [
    {
     "data": {
      "text/plain": [
       "array(['PA', 'TR', 'TL', nan, 'VN', 'PU', 'CM', 'TK', 'SU', 'UT', 'MC',\n",
       "       'MH', 'MS', 'OT', 'BU', 'RV', '4D', 'TT', 'LM', 'VV', 'CH', 'TC',\n",
       "       'TW', 'LI', 'SW', 'JE', 'CC', 'CO', 'TX', 'ZV', 'PY', 'TA', 'PP',\n",
       "       '2D', 'CA', 'SH', 'SC', '2', 'MN', 'BO', 'JU', 'VA', '20', 'SV',\n",
       "       'U', 'BX', 'W', 'TZ', 'QV', 'SE', 'GY', 'Z', '4', 'HS', '4W', 'RD',\n",
       "       'UH', 'TO', 'MO', 'Q', 'R', 'RU', 'VC', 'TN', 'AM', 'BI', 'BN',\n",
       "       'TE', 'S', 'MV', 'DE', 'G', 'HC', 'PT', 'WG', 'CP', 'HB', 'BK',\n",
       "       'PM', 'UK', 'VW', '4H', 'FB', 'CV', 'UN', 'FE', 'H', 'LE', 'WA',\n",
       "       'HM', 'MT', 'MU', 'ZX', '1', 'XT', 'PO', 'GC', 'AC', '16', '11',\n",
       "       'J', 'ET', 'MD', 'HO', 'C0', 'CN', 'SD', 'CR', 'JP', 'Y', 'CW',\n",
       "       'UP', 'CE', 'N', '38'], dtype=object)"
      ]
     },
     "execution_count": 65,
     "metadata": {},
     "output_type": "execute_result"
    }
   ],
   "source": [
    "df['Body Style'].unique()"
   ]
  },
  {
   "cell_type": "markdown",
   "metadata": {},
   "source": [
    "There isn't enough information in the features themselves for me to infer there meaning. Therefore, I can only leave as is. "
   ]
  },
  {
   "cell_type": "markdown",
   "metadata": {},
   "source": [
    "## Color"
   ]
  },
  {
   "cell_type": "code",
   "execution_count": 66,
   "metadata": {},
   "outputs": [
    {
     "data": {
      "text/plain": [
       "array(['GN', 'WT', 'SL', 'BK', 'GY', 'BL', 'SI', 'GO', 'CR', 'WH', 'RE',\n",
       "       'BN', 'RD', 'TN', 'MR', 'PR', 'OT', 'TA', 'GR', 'MA', 'OR', 'RU',\n",
       "       'BR', nan, 'BU', 'YE', 'PU', 'BG', 'UN', 'TU', 'CO', 'PK', 'PL',\n",
       "       'BE', 'SN', 'PE', 'BZ', 'PI', 'ME', 'CH', 'TE', 'LI', 'MU', 'KH',\n",
       "       'GA', 'AQ', 'WI', 'OL', 'SA', 'KA', 'RS', 'CL', 'TP', 'PW', 'SU',\n",
       "       'CP', 'UT', 'SH', 'OG', 'UK', 'VI', 'BW', 'RV', 'YL', 'TW', 'GD'], dtype=object)"
      ]
     },
     "execution_count": 66,
     "metadata": {},
     "output_type": "execute_result"
    }
   ],
   "source": [
    "df.Color.unique()"
   ]
  },
  {
   "cell_type": "markdown",
   "metadata": {},
   "source": [
    "Not enough information to confidently infer actual color type. "
   ]
  },
  {
   "cell_type": "markdown",
   "metadata": {},
   "source": [
    "## Agency"
   ]
  },
  {
   "cell_type": "code",
   "execution_count": 67,
   "metadata": {},
   "outputs": [
    {
     "name": "stdout",
     "output_type": "stream",
     "text": [
      "[  1.   2.   3.   4.   5.   6.   7.   9.  11.  12.  13.  16.  24.  34.  35.\n",
      "  36.  38.  40.  41.  42.  43.  45.  50.  51.  52.  53.  54.  55.  56.  57.\n",
      "  58.  59.  60.  68.  77.  97.  nan]\n",
      "Number of NaN: 428\n"
     ]
    }
   ],
   "source": [
    "print(np.sort(df.Agency.unique()))\n",
    "print('Number of NaN: {}'.format(df.Agency.isna().sum()))"
   ]
  },
  {
   "cell_type": "code",
   "execution_count": 68,
   "metadata": {},
   "outputs": [
    {
     "name": "stdout",
     "output_type": "stream",
     "text": [
      "Number of NaN: 0\n"
     ]
    }
   ],
   "source": [
    "## Fill NaN as 0 before integer conversion\n",
    "df.Agency.fillna(value = 0, inplace = True)\n",
    "## Convert column into integer\n",
    "df['Agency'] = pd.to_numeric(df['Agency'], downcast='unsigned').astype('str')\n",
    "print('Number of NaN: {}'.format(df.Agency.isna().sum()))"
   ]
  },
  {
   "cell_type": "markdown",
   "metadata": {},
   "source": [
    "Using LADOT-Xerox_Crib_Sheet_Agency_Codes_12-31-2015__1_.pdf to determine integer code. \n",
    "\n",
    "However 24, 36, 38, 42, 43, 45, 68, and 77 do not have corresponding label. It is good that most have less than 4 cases while 36 has 4686 cases. "
   ]
  },
  {
   "cell_type": "code",
   "execution_count": 69,
   "metadata": {},
   "outputs": [],
   "source": [
    "## Look at agency_label.csv\n",
    "agency_label = {'0': 'N/A',\n",
    "                '1': 'WESTERN',\n",
    "                '2': 'LAX CUR',\n",
    "                '3': 'VALLEY',\n",
    "                '4': 'HOLLYWOOD',\n",
    "                '5': 'SOUTHERN',\n",
    "                '6': 'CENTRAL',\n",
    "                '7': 'HPV',\n",
    "                '9': 'BANDIT CAB',\n",
    "                '11': 'VN AIRPORT',\n",
    "                '12': 'RANGERS',\n",
    "                '13': 'MARSH OFF.',\n",
    "                '16': 'ANIMAL REG',\n",
    "                '24': '24',\n",
    "                '34': 'G.S.D.',\n",
    "                '35': 'AMTRAK',\n",
    "                '36': '36',\n",
    "                '38': '38',\n",
    "                '40': 'BLDG & SAF',\n",
    "                '41': 'STREET USE',\n",
    "                '42': '42',\n",
    "                '43': '43',\n",
    "                '45': '45',\n",
    "                '50': 'DOT-HARB',\n",
    "                '51': 'DOT-WEST',\n",
    "                '52': 'DOT-WLSH',\n",
    "                '53': 'DOT-VALY',\n",
    "                '54': 'DOT-HLYW',\n",
    "                '55': 'DOT-STHN',\n",
    "                '56': 'DOT-CNTL',\n",
    "                '57': 'HAB VIOLS',\n",
    "                '58': 'SPEC EVENT',\n",
    "                '59': 'DOT-PLACRD',\n",
    "                '60': 'DOT-RESIDT',\n",
    "                '68': '68',\n",
    "                '77': '77',\n",
    "                '97': 'HOUSING DP'}"
   ]
  },
  {
   "cell_type": "code",
   "execution_count": 70,
   "metadata": {},
   "outputs": [],
   "source": [
    "## Replace Agency code with Shorten Name\n",
    "df.Agency.replace(agency_label, inplace=True)\n",
    "## Convert dtype to category\n",
    "df['Agency'] = df['Agency'].astype('category')"
   ]
  },
  {
   "cell_type": "code",
   "execution_count": 71,
   "metadata": {},
   "outputs": [],
   "source": [
    "## Summary of agency\n",
    "df.Agency.value_counts().to_csv('dataset/agency_final.csv')"
   ]
  },
  {
   "cell_type": "markdown",
   "metadata": {},
   "source": [
    "## Fine amount"
   ]
  },
  {
   "cell_type": "code",
   "execution_count": 73,
   "metadata": {},
   "outputs": [
    {
     "name": "stdout",
     "output_type": "stream",
     "text": [
      "count   4033923\n",
      "mean         70\n",
      "std          32\n",
      "min          10\n",
      "25%          63\n",
      "50%          68\n",
      "75%          73\n",
      "max         505\n",
      "Name: Fine amount, dtype: float64\n",
      "Total amount of nan: 4303\n"
     ]
    }
   ],
   "source": [
    "with pd.option_context('display.float_format', '{:.0f}'.format):\n",
    "    print(df['Fine amount'].describe())\n",
    "print('Total amount of nan: {}'.format(df['Fine amount'].isna().sum()))"
   ]
  },
  {
   "cell_type": "code",
   "execution_count": 74,
   "metadata": {},
   "outputs": [
    {
     "data": {
      "image/png": "[encoded data removed]",
      "text/plain": [
       "<matplotlib.figure.Figure at 0xa9b9e3b278>"
      ]
     },
     "metadata": {},
     "output_type": "display_data"
    }
   ],
   "source": [
    "df['Fine amount'].plot.hist(bins = 20)\n",
    "plt.title('Distribution of Fine Amount')\n",
    "plt.xlabel('Fine Amount')\n",
    "plt.show()"
   ]
  },
  {
   "cell_type": "code",
   "execution_count": 75,
   "metadata": {},
   "outputs": [
    {
     "data": {
      "image/png": "[encoded data removed]",
      "text/plain": [
       "<matplotlib.figure.Figure at 0xa9c1a655c0>"
      ]
     },
     "metadata": {},
     "output_type": "display_data"
    }
   ],
   "source": [
    "df[['Fine amount']].boxplot()\n",
    "plt.ylabel('Fine Amount ($)')\n",
    "plt.title('Fine Amount')\n",
    "plt.show()"
   ]
  },
  {
   "cell_type": "code",
   "execution_count": 76,
   "metadata": {},
   "outputs": [
    {
     "name": "stdout",
     "output_type": "stream",
     "text": [
      "There are a total of 6 outliers\n"
     ]
    },
    {
     "data": {
      "text/html": [
       "<div>\n",
       "<style scoped>\n",
       "    .dataframe tbody tr th:only-of-type {\n",
       "        vertical-align: middle;\n",
       "    }\n",
       "\n",
       "    .dataframe tbody tr th {\n",
       "        vertical-align: top;\n",
       "    }\n",
       "\n",
       "    .dataframe thead th {\n",
       "        text-align: right;\n",
       "    }\n",
       "</style>\n",
       "<table border=\"1\" class=\"dataframe\">\n",
       "  <thead>\n",
       "    <tr style=\"text-align: right;\">\n",
       "      <th></th>\n",
       "      <th>Agency</th>\n",
       "      <th>Violation code</th>\n",
       "      <th>Violation Description</th>\n",
       "      <th>Fine amount</th>\n",
       "    </tr>\n",
       "  </thead>\n",
       "  <tbody>\n",
       "    <tr>\n",
       "      <th>374673</th>\n",
       "      <td>WESTERN</td>\n",
       "      <td>558</td>\n",
       "      <td>FOR SALE SIGN</td>\n",
       "      <td>505.0</td>\n",
       "    </tr>\n",
       "    <tr>\n",
       "      <th>1240359</th>\n",
       "      <td>WESTERN</td>\n",
       "      <td>558</td>\n",
       "      <td>FOR SALE SIGN</td>\n",
       "      <td>505.0</td>\n",
       "    </tr>\n",
       "    <tr>\n",
       "      <th>1240361</th>\n",
       "      <td>WESTERN</td>\n",
       "      <td>558</td>\n",
       "      <td>FOR SALE SIGN</td>\n",
       "      <td>505.0</td>\n",
       "    </tr>\n",
       "    <tr>\n",
       "      <th>1664813</th>\n",
       "      <td>WESTERN</td>\n",
       "      <td>558</td>\n",
       "      <td>FOR SALE SIGN</td>\n",
       "      <td>505.0</td>\n",
       "    </tr>\n",
       "    <tr>\n",
       "      <th>1664820</th>\n",
       "      <td>WESTERN</td>\n",
       "      <td>558</td>\n",
       "      <td>FOR SALE SIGN</td>\n",
       "      <td>505.0</td>\n",
       "    </tr>\n",
       "    <tr>\n",
       "      <th>1674123</th>\n",
       "      <td>WESTERN</td>\n",
       "      <td>558</td>\n",
       "      <td>FOR SALE SIGN</td>\n",
       "      <td>505.0</td>\n",
       "    </tr>\n",
       "  </tbody>\n",
       "</table>\n",
       "</div>"
      ],
      "text/plain": [
       "          Agency Violation code Violation Description  Fine amount\n",
       "374673   WESTERN            558         FOR SALE SIGN        505.0\n",
       "1240359  WESTERN            558         FOR SALE SIGN        505.0\n",
       "1240361  WESTERN            558         FOR SALE SIGN        505.0\n",
       "1664813  WESTERN            558         FOR SALE SIGN        505.0\n",
       "1664820  WESTERN            558         FOR SALE SIGN        505.0\n",
       "1674123  WESTERN            558         FOR SALE SIGN        505.0"
      ]
     },
     "execution_count": 76,
     "metadata": {},
     "output_type": "execute_result"
    }
   ],
   "source": [
    "## Look at outlier\n",
    "print('There are a total of {} outliers'.format((df['Fine amount'] >400).sum()))\n",
    "df.loc[(df['Fine amount'] > 400), \n",
    "       ['Agency', 'Violation code', 'Violation Description', 'Fine amount']]"
   ]
  },
  {
   "cell_type": "code",
   "execution_count": 77,
   "metadata": {
    "scrolled": false
   },
   "outputs": [
    {
     "data": {
      "text/html": [
       "<div>\n",
       "<style scoped>\n",
       "    .dataframe tbody tr th:only-of-type {\n",
       "        vertical-align: middle;\n",
       "    }\n",
       "\n",
       "    .dataframe tbody tr th {\n",
       "        vertical-align: top;\n",
       "    }\n",
       "\n",
       "    .dataframe thead th {\n",
       "        text-align: right;\n",
       "    }\n",
       "</style>\n",
       "<table border=\"1\" class=\"dataframe\">\n",
       "  <thead>\n",
       "    <tr style=\"text-align: right;\">\n",
       "      <th></th>\n",
       "      <th>min</th>\n",
       "      <th>mean</th>\n",
       "      <th>max</th>\n",
       "      <th>count</th>\n",
       "    </tr>\n",
       "    <tr>\n",
       "      <th>Violation code</th>\n",
       "      <th></th>\n",
       "      <th></th>\n",
       "      <th></th>\n",
       "      <th></th>\n",
       "    </tr>\n",
       "  </thead>\n",
       "  <tbody>\n",
       "    <tr>\n",
       "      <th>556</th>\n",
       "      <td>105.0</td>\n",
       "      <td>105.0</td>\n",
       "      <td>105.0</td>\n",
       "      <td>239</td>\n",
       "    </tr>\n",
       "    <tr>\n",
       "      <th>557</th>\n",
       "      <td>255.0</td>\n",
       "      <td>255.0</td>\n",
       "      <td>255.0</td>\n",
       "      <td>11</td>\n",
       "    </tr>\n",
       "    <tr>\n",
       "      <th>558</th>\n",
       "      <td>505.0</td>\n",
       "      <td>505.0</td>\n",
       "      <td>505.0</td>\n",
       "      <td>6</td>\n",
       "    </tr>\n",
       "    <tr>\n",
       "      <th>8755</th>\n",
       "      <td>105.0</td>\n",
       "      <td>108.0</td>\n",
       "      <td>255.0</td>\n",
       "      <td>50</td>\n",
       "    </tr>\n",
       "  </tbody>\n",
       "</table>\n",
       "</div>"
      ],
      "text/plain": [
       "                  min   mean    max  count\n",
       "Violation code                            \n",
       "556             105.0  105.0  105.0    239\n",
       "557             255.0  255.0  255.0     11\n",
       "558             505.0  505.0  505.0      6\n",
       "8755            105.0  108.0  255.0     50"
      ]
     },
     "execution_count": 77,
     "metadata": {},
     "output_type": "execute_result"
    }
   ],
   "source": [
    "## Things look fine. Violatin code 558 is the most expensive FOR SALE SIGN ticket\n",
    "df[df['Violation Description'] == 'FOR SALE SIGN']\\\n",
    "    .groupby('Violation code')['Fine amount']\\\n",
    "    .agg(['min','mean', 'max', 'count'])"
   ]
  },
  {
   "cell_type": "code",
   "execution_count": 80,
   "metadata": {},
   "outputs": [
    {
     "data": {
      "text/html": [
       "<div>\n",
       "<style scoped>\n",
       "    .dataframe tbody tr th:only-of-type {\n",
       "        vertical-align: middle;\n",
       "    }\n",
       "\n",
       "    .dataframe tbody tr th {\n",
       "        vertical-align: top;\n",
       "    }\n",
       "\n",
       "    .dataframe thead th {\n",
       "        text-align: right;\n",
       "    }\n",
       "</style>\n",
       "<table border=\"1\" class=\"dataframe\">\n",
       "  <thead>\n",
       "    <tr style=\"text-align: right;\">\n",
       "      <th></th>\n",
       "      <th>Violation code</th>\n",
       "      <th>Violation Description</th>\n",
       "      <th>0</th>\n",
       "    </tr>\n",
       "  </thead>\n",
       "  <tbody>\n",
       "    <tr>\n",
       "      <th>0</th>\n",
       "      <td>000</td>\n",
       "      <td>LOAD/UNLOAD ONLY</td>\n",
       "      <td>832</td>\n",
       "    </tr>\n",
       "    <tr>\n",
       "      <th>1</th>\n",
       "      <td>80692</td>\n",
       "      <td>COMM VEH OVER TIME LIMIT</td>\n",
       "      <td>714</td>\n",
       "    </tr>\n",
       "    <tr>\n",
       "      <th>2</th>\n",
       "      <td>000</td>\n",
       "      <td>TRAILER COMM/22 FT</td>\n",
       "      <td>545</td>\n",
       "    </tr>\n",
       "    <tr>\n",
       "      <th>3</th>\n",
       "      <td>000</td>\n",
       "      <td>PARKED IN POSTED AREA</td>\n",
       "      <td>265</td>\n",
       "    </tr>\n",
       "    <tr>\n",
       "      <th>4</th>\n",
       "      <td>000</td>\n",
       "      <td>PARKED ON PRIVATE PROPERTY</td>\n",
       "      <td>214</td>\n",
       "    </tr>\n",
       "    <tr>\n",
       "      <th>7</th>\n",
       "      <td>80713</td>\n",
       "      <td>PARKED ON FRONT YARD</td>\n",
       "      <td>83</td>\n",
       "    </tr>\n",
       "    <tr>\n",
       "      <th>12</th>\n",
       "      <td>000</td>\n",
       "      <td>DISPLAY OF PLATES</td>\n",
       "      <td>40</td>\n",
       "    </tr>\n",
       "    <tr>\n",
       "      <th>23</th>\n",
       "      <td>000</td>\n",
       "      <td>NO EVIDENCE OF REG</td>\n",
       "      <td>14</td>\n",
       "    </tr>\n",
       "    <tr>\n",
       "      <th>59</th>\n",
       "      <td>000</td>\n",
       "      <td>PARKED IN ELEC VEHIC</td>\n",
       "      <td>4</td>\n",
       "    </tr>\n",
       "    <tr>\n",
       "      <th>73</th>\n",
       "      <td>8056E4</td>\n",
       "      <td>RED ZONE</td>\n",
       "      <td>3</td>\n",
       "    </tr>\n",
       "  </tbody>\n",
       "</table>\n",
       "</div>"
      ],
      "text/plain": [
       "   Violation code       Violation Description    0\n",
       "0             000            LOAD/UNLOAD ONLY  832\n",
       "1           80692    COMM VEH OVER TIME LIMIT  714\n",
       "2             000          TRAILER COMM/22 FT  545\n",
       "3             000       PARKED IN POSTED AREA  265\n",
       "4             000  PARKED ON PRIVATE PROPERTY  214\n",
       "7           80713        PARKED ON FRONT YARD   83\n",
       "12            000           DISPLAY OF PLATES   40\n",
       "23            000          NO EVIDENCE OF REG   14\n",
       "59            000        PARKED IN ELEC VEHIC    4\n",
       "73         8056E4                    RED ZONE    3"
      ]
     },
     "execution_count": 80,
     "metadata": {},
     "output_type": "execute_result"
    }
   ],
   "source": [
    "## Check some missing values \n",
    "tmp = df[df['Fine amount'].isna()]\\\n",
    "    .groupby(['Violation code', 'Violation Description'])\\\n",
    "    .size().sort_values()[::-1]\\\n",
    "    .reset_index()\n",
    "tmp[tmp['Violation Description'] != 'UNKNOWN'].head(10)"
   ]
  },
  {
   "cell_type": "code",
   "execution_count": 81,
   "metadata": {},
   "outputs": [
    {
     "data": {
      "text/plain": [
       "array(['18 IN/CURB/2 WAY', 'ADVERTISING ON VEH', 'BLOCKING INTERSECTION',\n",
       "       'CATERING VIOLATION', 'COMM VEH OVER TIME LIMIT',\n",
       "       'DISABLED PARKING/REFUSE ID', 'DISPLAY OF PLATES', 'DOUBLE PARKING',\n",
       "       'EXCEED 72 HOURS', 'FOR SALE SIGN', 'LOAD/UNLOAD ONLY',\n",
       "       'NO EVIDENCE OF REG', 'NO PARK', 'NO PARK/STREET CLEAN',\n",
       "       'PARK OVERSIZED', 'PARKED IN ELEC VEHIC', 'PARKED IN POSTED AREA',\n",
       "       'PARKED ON FRONT YARD', 'PARKED ON PRIVATE PROPERTY',\n",
       "       'PARKED ON SIDEWALK', 'RED ZONE', 'TRAILER COMM/22 FT',\n",
       "       'TRAILER PARKING UNHITCHED', 'WRG SD/NOT PRL'], dtype=object)"
      ]
     },
     "execution_count": 81,
     "metadata": {},
     "output_type": "execute_result"
    }
   ],
   "source": [
    "## Get the list of violation description that has NA except for UNKNOWN\n",
    "fine_miss = np.setdiff1d(tmp['Violation Description'].unique(), np.array(['UNKNOWN']))\n",
    "fine_miss"
   ]
  },
  {
   "cell_type": "code",
   "execution_count": 82,
   "metadata": {},
   "outputs": [],
   "source": [
    "## Summary Function\n",
    "def sum_fun(x):\n",
    "    d = {}\n",
    "    d['median'] = x['Fine amount'].median()\n",
    "    d['mean'] = x['Fine amount'].mean()\n",
    "    d['count'] = x.size ## Use for weighting when filling nan\n",
    "    return pd.Series(d, index = ['median', 'mean', 'count'])\n",
    "## Create a lookup table of fine amount by violation code and violation decription\n",
    "## Select violation that contain fine amount missing\n",
    "lookup_v_fine = df[df['Violation Description'].isin(fine_miss)]\\\n",
    "                    .groupby(['Violation code', 'Violation Description'])\\\n",
    "                    .apply(sum_fun).reset_index()"
   ]
  },
  {
   "cell_type": "code",
   "execution_count": 83,
   "metadata": {
    "scrolled": true
   },
   "outputs": [
    {
     "data": {
      "text/html": [
       "<div>\n",
       "<style scoped>\n",
       "    .dataframe tbody tr th:only-of-type {\n",
       "        vertical-align: middle;\n",
       "    }\n",
       "\n",
       "    .dataframe tbody tr th {\n",
       "        vertical-align: top;\n",
       "    }\n",
       "\n",
       "    .dataframe thead th {\n",
       "        text-align: right;\n",
       "    }\n",
       "</style>\n",
       "<table border=\"1\" class=\"dataframe\">\n",
       "  <thead>\n",
       "    <tr style=\"text-align: right;\">\n",
       "      <th></th>\n",
       "      <th>Violation code</th>\n",
       "      <th>Violation Description</th>\n",
       "      <th>median</th>\n",
       "      <th>mean</th>\n",
       "      <th>count</th>\n",
       "    </tr>\n",
       "  </thead>\n",
       "  <tbody>\n",
       "    <tr>\n",
       "      <th>0</th>\n",
       "      <td>000</td>\n",
       "      <td>18 IN/CURB/2 WAY</td>\n",
       "      <td>NaN</td>\n",
       "      <td>NaN</td>\n",
       "      <td>38.0</td>\n",
       "    </tr>\n",
       "    <tr>\n",
       "      <th>1</th>\n",
       "      <td>000</td>\n",
       "      <td>DISABLED PARKING/REFUSE ID</td>\n",
       "      <td>NaN</td>\n",
       "      <td>NaN</td>\n",
       "      <td>19.0</td>\n",
       "    </tr>\n",
       "    <tr>\n",
       "      <th>2</th>\n",
       "      <td>000</td>\n",
       "      <td>DISPLAY OF PLATES</td>\n",
       "      <td>NaN</td>\n",
       "      <td>NaN</td>\n",
       "      <td>760.0</td>\n",
       "    </tr>\n",
       "  </tbody>\n",
       "</table>\n",
       "</div>"
      ],
      "text/plain": [
       "  Violation code       Violation Description  median  mean  count\n",
       "0            000            18 IN/CURB/2 WAY     NaN   NaN   38.0\n",
       "1            000  DISABLED PARKING/REFUSE ID     NaN   NaN   19.0\n",
       "2            000           DISPLAY OF PLATES     NaN   NaN  760.0"
      ]
     },
     "execution_count": 83,
     "metadata": {},
     "output_type": "execute_result"
    }
   ],
   "source": [
    "lookup_v_fine.head(3)"
   ]
  },
  {
   "cell_type": "code",
   "execution_count": 84,
   "metadata": {},
   "outputs": [],
   "source": [
    "## fill lookup table's NaN \n",
    "lookup_miss = lookup_v_fine['median'].isna()\n",
    "result_fill = [] ## store lookup\n",
    "for index, row in lookup_v_fine[lookup_miss].iterrows():\n",
    "    des = row['Violation Description'] \n",
    "    ## Get value base on size \n",
    "    d = lookup_v_fine[lookup_v_fine['Violation Description'] == des] ## dataframe\n",
    "    if d.shape[0] == 1: ## only 1 match when all values were nan\n",
    "        result_fill.append(d['median'])\n",
    "        continue\n",
    "    idx_max = (d['median'] * d['count']).idxmax ## find most common value\n",
    "    result_fill.append(d.loc[idx_max, 'median'])\n",
    "## fill nan\n",
    "lookup_v_fine.loc[lookup_miss, 'median'] = result_fill\n",
    "## If cannot find matches then fillna with -1\n",
    "lookup_v_fine.fillna(value = -1, inplace=True)\n",
    "\n",
    "## wrap up \n",
    "del lookup_miss, result_fill, des, d, idx_max"
   ]
  },
  {
   "cell_type": "code",
   "execution_count": 85,
   "metadata": {},
   "outputs": [
    {
     "data": {
      "text/html": [
       "<div>\n",
       "<style scoped>\n",
       "    .dataframe tbody tr th:only-of-type {\n",
       "        vertical-align: middle;\n",
       "    }\n",
       "\n",
       "    .dataframe tbody tr th {\n",
       "        vertical-align: top;\n",
       "    }\n",
       "\n",
       "    .dataframe thead th {\n",
       "        text-align: right;\n",
       "    }\n",
       "</style>\n",
       "<table border=\"1\" class=\"dataframe\">\n",
       "  <thead>\n",
       "    <tr style=\"text-align: right;\">\n",
       "      <th></th>\n",
       "      <th>Violation code</th>\n",
       "      <th>Violation Description</th>\n",
       "      <th>median</th>\n",
       "      <th>mean</th>\n",
       "      <th>count</th>\n",
       "    </tr>\n",
       "  </thead>\n",
       "  <tbody>\n",
       "    <tr>\n",
       "      <th>0</th>\n",
       "      <td>000</td>\n",
       "      <td>18 IN/CURB/2 WAY</td>\n",
       "      <td>63.0</td>\n",
       "      <td>-1.0</td>\n",
       "      <td>38.0</td>\n",
       "    </tr>\n",
       "    <tr>\n",
       "      <th>1</th>\n",
       "      <td>000</td>\n",
       "      <td>DISABLED PARKING/REFUSE ID</td>\n",
       "      <td>363.0</td>\n",
       "      <td>-1.0</td>\n",
       "      <td>19.0</td>\n",
       "    </tr>\n",
       "    <tr>\n",
       "      <th>2</th>\n",
       "      <td>000</td>\n",
       "      <td>DISPLAY OF PLATES</td>\n",
       "      <td>25.0</td>\n",
       "      <td>-1.0</td>\n",
       "      <td>760.0</td>\n",
       "    </tr>\n",
       "  </tbody>\n",
       "</table>\n",
       "</div>"
      ],
      "text/plain": [
       "  Violation code       Violation Description  median  mean  count\n",
       "0            000            18 IN/CURB/2 WAY    63.0  -1.0   38.0\n",
       "1            000  DISABLED PARKING/REFUSE ID   363.0  -1.0   19.0\n",
       "2            000           DISPLAY OF PLATES    25.0  -1.0  760.0"
      ]
     },
     "execution_count": 85,
     "metadata": {},
     "output_type": "execute_result"
    }
   ],
   "source": [
    "lookup_v_fine.head(3)"
   ]
  },
  {
   "cell_type": "code",
   "execution_count": 86,
   "metadata": {},
   "outputs": [],
   "source": [
    "## Export lookup table\n",
    "lookup_v_fine.to_csv('dataset/lookup_v_fine.csv')\n",
    "## Median and mean looks consistent and using median to keep fine amount \n",
    "## as nice round numbers and consistent amount gradient"
   ]
  },
  {
   "cell_type": "code",
   "execution_count": 87,
   "metadata": {},
   "outputs": [],
   "source": [
    "## Set multi-index for efficient search\n",
    "lookup_v_fine.set_index(['Violation code', 'Violation Description'], inplace = True)"
   ]
  },
  {
   "cell_type": "code",
   "execution_count": 88,
   "metadata": {
    "scrolled": true
   },
   "outputs": [
    {
     "name": "stdout",
     "output_type": "stream",
     "text": [
      "Current fine amount missing: 1568\n",
      "End result nan: float64\n"
     ]
    }
   ],
   "source": [
    "## Find missing index that are not UNKNOWN\n",
    "ind_miss = df['Fine amount'].isna() & df['Violation Description'].isin(fine_miss)\n",
    "result_impute = [] ## store lookup result\n",
    "## Use lookup table to get a list back where I can replace na with the list\n",
    "for index, row in df.loc[ind_miss, ['Violation code', 'Violation Description']].iterrows():\n",
    "    ## Need to find if there is a violation code match first and then rely on description\n",
    "    code = row['Violation code']\n",
    "    des = row['Violation Description']\n",
    "    result_impute.append(lookup_v_fine.loc[(code, des), 'median'])\n",
    "\n",
    "## Impute missing values\n",
    "df.loc[ind_miss, 'Fine amount'] = result_impute\n",
    "print('Current fine amount missing: {}'.format(df['Fine amount'].isna().sum()))\n",
    "## Replace all na with -1 for unkown\n",
    "df['Fine amount'].fillna(value = -1, inplace = True)\n",
    "print('End result nan: {}'.format(df['Fine amount'].isna().sum()))\n",
    "## Downgrade value \n",
    "df['Fine amount'] = pd.to_numeric(df['Fine amount'], downcast = 'integer')\n",
    "\n",
    "## wrap up\n",
    "del ind_miss, result_impute, code, des, fine_miss"
   ]
  },
  {
   "cell_type": "markdown",
   "metadata": {},
   "source": [
    "## Route"
   ]
  },
  {
   "cell_type": "code",
   "execution_count": 229,
   "metadata": {},
   "outputs": [
    {
     "name": "stdout",
     "output_type": "stream",
     "text": [
      "Number of unique Routes: 5669\n",
      "Number of nan: 26737\n"
     ]
    }
   ],
   "source": [
    "print('Number of unique Routes: {}'.format(df['Route'].unique().size))\n",
    "print('Number of nan: {}'.format(df['Route'].isna().sum()))"
   ]
  },
  {
   "cell_type": "code",
   "execution_count": 227,
   "metadata": {},
   "outputs": [],
   "source": [
    "## Overview of the different routes\n",
    "df['Route'].value_counts().to_csv('dataset/route.csv')"
   ]
  },
  {
   "cell_type": "markdown",
   "metadata": {},
   "source": [
    "I was not able to find information on route labels so I am not able to infer if there were any mistakes made. "
   ]
  },
  {
   "cell_type": "markdown",
   "metadata": {},
   "source": [
    "## Location"
   ]
  },
  {
   "cell_type": "code",
   "execution_count": 231,
   "metadata": {},
   "outputs": [
    {
     "name": "stdout",
     "output_type": "stream",
     "text": [
      "Number of unique locations: 935216\n",
      "Number of nan: 554\n"
     ]
    }
   ],
   "source": [
    "print('Number of unique locations: {}'.format(df['Location'].unique().size))\n",
    "print('Number of nan: {}'.format(df['Location'].isna().sum()))"
   ]
  },
  {
   "cell_type": "code",
   "execution_count": 235,
   "metadata": {},
   "outputs": [
    {
     "data": {
      "text/plain": [
       "count                  4037672\n",
       "unique                  935215\n",
       "top       11600 SAN VICENTE BL\n",
       "freq                      4559\n",
       "Name: Location, dtype: object"
      ]
     },
     "execution_count": 235,
     "metadata": {},
     "output_type": "execute_result"
    }
   ],
   "source": [
    "df['Location'].describe()"
   ]
  },
  {
   "cell_type": "code",
   "execution_count": 240,
   "metadata": {
    "scrolled": true
   },
   "outputs": [
    {
     "data": {
      "image/png": "[encoded data removed]",
      "text/plain": [
       "<matplotlib.figure.Figure at 0xa9c8b0d128>"
      ]
     },
     "metadata": {},
     "output_type": "display_data"
    }
   ],
   "source": [
    "df['Location'].str.len().plot.hist(bins = 20)\n",
    "plt.title('Address Length Distribution')\n",
    "plt.xlabel('String Length')\n",
    "plt.show()"
   ]
  },
  {
   "cell_type": "code",
   "execution_count": 286,
   "metadata": {},
   "outputs": [],
   "source": [
    "## Get the length of each location string\n",
    "tmp_loc_len = df['Location'].str.len()"
   ]
  },
  {
   "cell_type": "code",
   "execution_count": 287,
   "metadata": {},
   "outputs": [
    {
     "name": "stdout",
     "output_type": "stream",
     "text": [
      "Number of address: 100\n",
      "['101 V' '7601' 'C/QUAY' '755' 'D' '1 B ST' '101 1F' '701 3H' '1 O ST'\n",
      " '701 3K' '11770' '714 S' '18203' '1 I ST' '8 01' '101 2A' '101 3G'\n",
      " '101 4C' '500' '10710' '701 3N' '51ST' '5 ROSE' 'AVION' '4900 W' '14509'\n",
      " '14516' 'LAGOON' '6 CC' '8732' 'ALLEY' 'B77' '3 O ST' '7515 W' '6621'\n",
      " '19118' '8322' '1608 E' 'B-92' '1 1' '82' 'E/GULF' 'FEDEX' '1200 E' '0 0'\n",
      " '621 GA' '1000 0' '516' 'XXX 00' 'TAPIA' '12646' '2800 W' '2116' '5000'\n",
      " '601' '16 JIB' '400 WW' '111 V' '2121' 'HILL' '12849' '98 ST' '6679'\n",
      " '1 A ST' '5355 =' 'TERM 6' '701 3M' '701 3G' '701 3E' '101 4E' '101 3B'\n",
      " '101 4J' '101 3F' 'W OBS' '109 V' '52 1ST' 'I MOTO' '701 1H' '741']\n"
     ]
    }
   ],
   "source": [
    "## String shorter than __ letters\n",
    "print('Number of address: {}'.format((tmp_loc_len < 7).sum()))\n",
    "print(df.loc[tmp_loc_len < 7, 'Location'].unique())\n",
    "del tmp_loc_len ## wrap up"
   ]
  },
  {
   "cell_type": "markdown",
   "metadata": {},
   "source": [
    "There are 935215 unique values and so it would be hard to try and fix them all. As you can see above, some location are clearly wronge (i.e FEDEX, 1000 0); however, some looks real (1 O ST, 101 3B) but do not exist when searched on google map. \n",
    "\n",
    "So I will focus on address with a certain amount of tickets. "
   ]
  },
  {
   "cell_type": "code",
   "execution_count": 288,
   "metadata": {},
   "outputs": [],
   "source": [
    "## Group and count all the locations\n",
    "tmp_loc_count = df['Location'].value_counts()"
   ]
  },
  {
   "cell_type": "code",
   "execution_count": 301,
   "metadata": {
    "scrolled": true
   },
   "outputs": [
    {
     "name": "stdout",
     "output_type": "stream",
     "text": [
      "count   935215\n",
      "mean         4\n",
      "std         25\n",
      "min          1\n",
      "25%          1\n",
      "50%          1\n",
      "75%          3\n",
      "max       4559\n",
      "Name: Location, dtype: float64\n"
     ]
    }
   ],
   "source": [
    "with pd.option_context('display.float_format', '{:.0f}'.format):\n",
    "    print(tmp_loc_count.describe())"
   ]
  },
  {
   "cell_type": "markdown",
   "metadata": {},
   "source": [
    "More than 75% of the locations have less than equal than 3 tickets. "
   ]
  },
  {
   "cell_type": "code",
   "execution_count": 316,
   "metadata": {
    "scrolled": true
   },
   "outputs": [
    {
     "name": "stdout",
     "output_type": "stream",
     "text": [
      "Number of address with 10 minium tickets: 52263\n"
     ]
    },
    {
     "data": {
      "image/png": "[encoded data removed]",
      "text/plain": [
       "<matplotlib.figure.Figure at 0xa9b59f8710>"
      ]
     },
     "metadata": {},
     "output_type": "display_data"
    }
   ],
   "source": [
    "min_ticket = 10\n",
    "print('Number of address with {} minium tickets: {}'\\\n",
    "      .format(min_ticket, sum(tmp_loc_count > min_ticket)))\n",
    "## Plot Distribution with minium tickets\n",
    "tmp_loc_count[tmp_loc_count > min_ticket].plot.box()\n",
    "plt.show()"
   ]
  },
  {
   "cell_type": "code",
   "execution_count": 317,
   "metadata": {},
   "outputs": [
    {
     "data": {
      "text/plain": [
       "array(['11600 SAN VICENTE BL', '1235 FIGUEROA PL', '101 LARCHMONT BL N',\n",
       "       '2377 MIDVALE AVE', '11601 SAN VICENTE BL', '12100 VENTURA BL',\n",
       "       '11700 SAN VICENTE BL', '1301 ELECTRIC AVE', '5901 98TH ST W',\n",
       "       '100 LARCHMONT BL N'], dtype=object)"
      ]
     },
     "execution_count": 317,
     "metadata": {},
     "output_type": "execute_result"
    }
   ],
   "source": [
    "## List of location that meets the minium requirement\n",
    "loc_list = tmp_loc_count.index.values[tmp_loc_count > min_ticket]\n",
    "loc_list[:10]"
   ]
  },
  {
   "cell_type": "code",
   "execution_count": 318,
   "metadata": {},
   "outputs": [
    {
     "data": {
      "text/plain": [
       "2195706"
      ]
     },
     "execution_count": 318,
     "metadata": {},
     "output_type": "execute_result"
    }
   ],
   "source": [
    "## Rows that has location in loc_list\n",
    "loc_idx = df['Location'].isin(loc_list)\n",
    "## Determine the coverage\n",
    "loc_idx.sum()"
   ]
  },
  {
   "cell_type": "code",
   "execution_count": 331,
   "metadata": {},
   "outputs": [
    {
     "name": "stdout",
     "output_type": "stream",
     "text": [
      "[   99999.   6421673.5]\n",
      "[   99999.   1842258.5]\n"
     ]
    }
   ],
   "source": [
    "## Determine if a single Location has multiple lat or long value\n",
    "print(df.loc[df['Location'] == '11600 SAN VICENTE BL', 'Latitude'].unique())\n",
    "print(df.loc[df['Location'] == '11600 SAN VICENTE BL', 'Longitude'].unique())"
   ]
  },
  {
   "cell_type": "code",
   "execution_count": 332,
   "metadata": {},
   "outputs": [
    {
     "name": "stdout",
     "output_type": "stream",
     "text": [
      "[ 6476265.1  6476324.6    99999.   6480630.2]\n",
      "[ 1743317.3  1744851.5    99999.   1837489.8]\n"
     ]
    }
   ],
   "source": [
    "## Determine if Location has multiple lat or long value\n",
    "print(df.loc[df['Location'] == '1235 FIGUEROA PL', 'Latitude'].unique())\n",
    "print(df.loc[df['Location'] == '1235 FIGUEROA PL', 'Longitude'].unique())"
   ]
  },
  {
   "cell_type": "markdown",
   "metadata": {},
   "source": [
    "It does look like a single location might have multiple latitude and longitude. So it would be better to use the most common value to impute. "
   ]
  },
  {
   "cell_type": "code",
   "execution_count": 349,
   "metadata": {
    "scrolled": true
   },
   "outputs": [],
   "source": [
    "## Summarize Location\n",
    "## Total number of cases for each Location\n",
    "## The amount of nan for Lat and Long\n",
    "## Determine the most common Lat and Long\n",
    "def sum_loc(x):\n",
    "    nan_value = 99999\n",
    "    d = {}\n",
    "    ## Total sample with this address\n",
    "    d['total'] = x.shape[0]\n",
    "    ## Number of missing for latitude\n",
    "    d['n_lat_nan'] = (x['Latitude'] == nan_value).sum()\n",
    "    d['n_long_nan'] = (x['Longitude'] == nan_value).sum()\n",
    "    \n",
    "    lat = nan_value ## nan value\n",
    "    long = nan_value\n",
    "    ## Does lat have non-nan values?\n",
    "    if d['total'] > d['n_lat_nan']:\n",
    "        ## Use mode if there are more than one value\n",
    "        lat = x.loc[x['Latitude'] != nan_value, 'Latitude'].mode()[0]\n",
    "    ## Does Long have non-nan values?\n",
    "    if d['total'] > d['n_long_nan']:\n",
    "        ## Use mode if there are more than one value\n",
    "        long = x.loc[x['Longitude'] != nan_value, 'Longitude'].mode()[0]\n",
    "    d['lat'] = lat\n",
    "    d['long'] = long\n",
    "    return pd.Series(d, index = ['lat', 'long', 'total', 'n_lat_nan', 'n_long_nan'])\n",
    "\n",
    "## Try to find the location for each location\n",
    "lat_long = df[loc_idx].groupby('Location').apply(sum_loc)"
   ]
  },
  {
   "cell_type": "code",
   "execution_count": 350,
   "metadata": {},
   "outputs": [],
   "source": [
    "## Sort from most ticket to least\n",
    "lat_long.sort_values(by = 'total', ascending=False, inplace=True)"
   ]
  },
  {
   "cell_type": "code",
   "execution_count": 351,
   "metadata": {},
   "outputs": [],
   "source": [
    "lat_long.to_csv('dataset/lookup_loc.csv')"
   ]
  },
  {
   "cell_type": "code",
   "execution_count": 323,
   "metadata": {},
   "outputs": [
    {
     "data": {
      "text/plain": [
       "array([ 99999.])"
      ]
     },
     "execution_count": 323,
     "metadata": {},
     "output_type": "execute_result"
    }
   ],
   "source": [
    "df.loc[df['Location'] == '0000 0000', 'Latitude'].unique()"
   ]
  },
  {
   "cell_type": "code",
   "execution_count": 359,
   "metadata": {},
   "outputs": [],
   "source": [
    "del tmp, tmp2, tmp_1"
   ]
  },
  {
   "cell_type": "markdown",
   "metadata": {},
   "source": [
    "## Convert coordinate system from ESRI:102645 to EPSG:4326"
   ]
  },
  {
   "cell_type": "code",
   "execution_count": 12,
   "metadata": {},
   "outputs": [],
   "source": [
    "lat = df['Latitude'].copy()\n",
    "long = df['Longitude'].copy()"
   ]
  },
  {
   "cell_type": "code",
   "execution_count": 13,
   "metadata": {},
   "outputs": [],
   "source": [
    "## Most data points are between this range\n",
    "## There are a lot of them that are off. Refer to between sections on Lat and Long\n",
    "tmp_btw = df['Longitude'].between(1600000, 2100000)"
   ]
  },
  {
   "cell_type": "code",
   "execution_count": 17,
   "metadata": {},
   "outputs": [
    {
     "data": {
      "text/plain": [
       "3062686"
      ]
     },
     "execution_count": 17,
     "metadata": {},
     "output_type": "execute_result"
    }
   ],
   "source": [
    "## The coverage\n",
    "tmp_btw.sum()"
   ]
  },
  {
   "cell_type": "code",
   "execution_count": 133,
   "metadata": {},
   "outputs": [],
   "source": [
    "## Only look at a few points\n",
    "point = [0,1,2,3]"
   ]
  },
  {
   "cell_type": "code",
   "execution_count": 135,
   "metadata": {},
   "outputs": [],
   "source": [
    "## NAD 1983 StatePlane California V FIPS 0405 Feet\n",
    "nad83 = pyproj.Proj('+init=ESRI:102645')\n",
    "\n",
    "## WGS 84 -- WGS84 - World Geodetic System 1984, used in GPS\n",
    "## https://gis.stackexchange.com/questions/48949/epsg-3857-or-4326-for-googlemaps-openstreetmap-and-leaflet/48952\n",
    "wgs84 = pyproj.Proj('+init=EPSG:4326')"
   ]
  },
  {
   "cell_type": "code",
   "execution_count": 136,
   "metadata": {},
   "outputs": [],
   "source": [
    "long2, lat2 = pyproj.transform(p1 = nad83, p2 = wgs84, x = long[point].values, y = lat[point].values)"
   ]
  },
  {
   "cell_type": "code",
   "execution_count": 137,
   "metadata": {
    "scrolled": false
   },
   "outputs": [
    {
     "data": {
      "text/html": [
       "<div>\n",
       "<style scoped>\n",
       "    .dataframe tbody tr th:only-of-type {\n",
       "        vertical-align: middle;\n",
       "    }\n",
       "\n",
       "    .dataframe tbody tr th {\n",
       "        vertical-align: top;\n",
       "    }\n",
       "\n",
       "    .dataframe thead th {\n",
       "        text-align: right;\n",
       "    }\n",
       "</style>\n",
       "<table border=\"1\" class=\"dataframe\">\n",
       "  <thead>\n",
       "    <tr style=\"text-align: right;\">\n",
       "      <th></th>\n",
       "      <th>address</th>\n",
       "      <th>lat</th>\n",
       "      <th>long</th>\n",
       "      <th>new_lat</th>\n",
       "      <th>new_long</th>\n",
       "      <th>orig_lat</th>\n",
       "      <th>orig_long</th>\n",
       "      <th>lat_diff</th>\n",
       "      <th>long_diff</th>\n",
       "    </tr>\n",
       "  </thead>\n",
       "  <tbody>\n",
       "    <tr>\n",
       "      <th>0</th>\n",
       "      <td>3069 SAN MARINO ST</td>\n",
       "      <td>34.054549</td>\n",
       "      <td>-118.296581</td>\n",
       "      <td>79.744606</td>\n",
       "      <td>-122.698919</td>\n",
       "      <td>6471840.7</td>\n",
       "      <td>1842349.7</td>\n",
       "      <td>-45.690057</td>\n",
       "      <td>4.402338</td>\n",
       "    </tr>\n",
       "    <tr>\n",
       "      <th>1</th>\n",
       "      <td>2936 8TH ST W</td>\n",
       "      <td>34.057658</td>\n",
       "      <td>-118.290213</td>\n",
       "      <td>79.755398</td>\n",
       "      <td>-122.667067</td>\n",
       "      <td>6473823.2</td>\n",
       "      <td>1843512.0</td>\n",
       "      <td>-45.697740</td>\n",
       "      <td>4.376854</td>\n",
       "    </tr>\n",
       "    <tr>\n",
       "      <th>2</th>\n",
       "      <td>301 LAUREL AV N</td>\n",
       "      <td>34.076399</td>\n",
       "      <td>-118.364971</td>\n",
       "      <td>79.636919</td>\n",
       "      <td>-122.435946</td>\n",
       "      <td>6451207.5</td>\n",
       "      <td>1850273.2</td>\n",
       "      <td>-45.560520</td>\n",
       "      <td>4.070975</td>\n",
       "    </tr>\n",
       "    <tr>\n",
       "      <th>3</th>\n",
       "      <td>8321 3RD ST W</td>\n",
       "      <td>34.072978</td>\n",
       "      <td>-118.370759</td>\n",
       "      <td>79.626941</td>\n",
       "      <td>-122.469342</td>\n",
       "      <td>6449387.2</td>\n",
       "      <td>1849063.5</td>\n",
       "      <td>-45.553963</td>\n",
       "      <td>4.098583</td>\n",
       "    </tr>\n",
       "  </tbody>\n",
       "</table>\n",
       "</div>"
      ],
      "text/plain": [
       "              address        lat        long    new_lat    new_long  \\\n",
       "0  3069 SAN MARINO ST  34.054549 -118.296581  79.744606 -122.698919   \n",
       "1       2936 8TH ST W  34.057658 -118.290213  79.755398 -122.667067   \n",
       "2     301 LAUREL AV N  34.076399 -118.364971  79.636919 -122.435946   \n",
       "3       8321 3RD ST W  34.072978 -118.370759  79.626941 -122.469342   \n",
       "\n",
       "    orig_lat  orig_long   lat_diff  long_diff  \n",
       "0  6471840.7  1842349.7 -45.690057   4.402338  \n",
       "1  6473823.2  1843512.0 -45.697740   4.376854  \n",
       "2  6451207.5  1850273.2 -45.560520   4.070975  \n",
       "3  6449387.2  1849063.5 -45.553963   4.098583  "
      ]
     },
     "execution_count": 137,
     "metadata": {},
     "output_type": "execute_result"
    }
   ],
   "source": [
    "## Lat and Long was obtain by searching google map by address\n",
    "## 0, 1 are close to each other at Korean Town\n",
    "## 2,3 are close to each other but further from the top 2. At Beverly Groove\n",
    "tmp = pd.DataFrame({'lat': [34.054549, 34.057658, 34.076399, 34.072978],\n",
    "              'long': [-118.296581, -118.290213, -118.364971, -118.370759],\n",
    "              'address': df['Location'][point],\n",
    "              'orig_lat': lat[point].values,\n",
    "              'orig_long': long[point].values,\n",
    "              'new_lat': lat2,\n",
    "              'new_long': long2\n",
    "             }, columns = ['address', 'lat', 'long', 'new_lat', 'new_long', 'orig_lat', 'orig_long'])\n",
    "tmp['lat_diff'] = tmp.lat - tmp.new_lat\n",
    "tmp['long_diff'] = tmp.long - tmp.new_long\n",
    "tmp"
   ]
  },
  {
   "cell_type": "markdown",
   "metadata": {},
   "source": [
    "This shows that the reprojection is off. It is most likely the case that the original projection is not what they say (NAD_1983_StatePlane_California_V_FIPS_0405_Feet projection). The lat and long differences shows that it is not off by a constant amount. Each point has slightly different value. It is likely that something changed because blog that I have link showed that he was able to transform the coordinate just fine. "
   ]
  },
  {
   "cell_type": "code",
   "execution_count": 138,
   "metadata": {
    "scrolled": true
   },
   "outputs": [
    {
     "data": {
      "image/png": "[encoded data removed]",
      "text/plain": [
       "<matplotlib.figure.Figure at 0x9195c936a0>"
      ]
     },
     "metadata": {},
     "output_type": "display_data"
    }
   ],
   "source": [
    "df.loc[tmp_btw, ['Latitude', 'Longitude']].plot.scatter('Longitude', 'Latitude')\n",
    "## 3069 SAN MARINO ST is in the relatively correct location\n",
    "plt.scatter(1842349.7, 6471840.7, marker = '*', s = 500, c = 'r')\n",
    "plt.show()"
   ]
  },
  {
   "cell_type": "markdown",
   "metadata": {},
   "source": [
    "The data points together do look like LA, so we can say that the GPS isn't producing random location."
   ]
  },
  {
   "cell_type": "code",
   "execution_count": 139,
   "metadata": {
    "scrolled": true
   },
   "outputs": [
    {
     "data": {
      "image/png": "[encoded data removed]",
      "text/plain": [
       "<matplotlib.figure.Figure at 0x9195d09128>"
      ]
     },
     "metadata": {},
     "output_type": "display_data"
    }
   ],
   "source": [
    "## Transforming from p1 to p2.\n",
    "## To see if the transformation is retaining the general shape\n",
    "long3, lat3 = pyproj.transform(p1 = nad83, p2 = wgs84, x = long[tmp_btw].values, y = lat[tmp_btw].values)\n",
    "plt.scatter(long3, lat3)\n",
    "plt.show()"
   ]
  },
  {
   "cell_type": "markdown",
   "metadata": {},
   "source": [
    "After trying many different projection in NAD83 and NAD27, the reprojections just didn't work. "
   ]
  },
  {
   "cell_type": "markdown",
   "metadata": {},
   "source": [
    "## Latitude"
   ]
  },
  {
   "cell_type": "code",
   "execution_count": 248,
   "metadata": {},
   "outputs": [
    {
     "data": {
      "text/plain": [
       "975533"
      ]
     },
     "execution_count": 248,
     "metadata": {},
     "output_type": "execute_result"
    }
   ],
   "source": [
    "sum(df['Latitude'] == 99999)"
   ]
  },
  {
   "cell_type": "code",
   "execution_count": 261,
   "metadata": {},
   "outputs": [
    {
     "data": {
      "text/plain": [
       "0"
      ]
     },
     "execution_count": 261,
     "metadata": {},
     "output_type": "execute_result"
    }
   ],
   "source": [
    "df['Latitude'].isna().sum()"
   ]
  },
  {
   "cell_type": "code",
   "execution_count": 280,
   "metadata": {
    "scrolled": true
   },
   "outputs": [
    {
     "data": {
      "image/png": "[encoded data removed]",
      "text/plain": [
       "<matplotlib.figure.Figure at 0xa9f99d2278>"
      ]
     },
     "metadata": {},
     "output_type": "display_data"
    }
   ],
   "source": [
    "df.loc[df['Latitude'] != 99999, 'Latitude'].plot.box()\n",
    "plt.show()"
   ]
  },
  {
   "cell_type": "markdown",
   "metadata": {},
   "source": [
    "The values at are greater than 1e9 are clearly wrong because majority of the values are around 6e6. "
   ]
  },
  {
   "cell_type": "code",
   "execution_count": 144,
   "metadata": {
    "scrolled": true
   },
   "outputs": [
    {
     "data": {
      "text/html": [
       "<div>\n",
       "<style scoped>\n",
       "    .dataframe tbody tr th:only-of-type {\n",
       "        vertical-align: middle;\n",
       "    }\n",
       "\n",
       "    .dataframe tbody tr th {\n",
       "        vertical-align: top;\n",
       "    }\n",
       "\n",
       "    .dataframe thead th {\n",
       "        text-align: right;\n",
       "    }\n",
       "</style>\n",
       "<table border=\"1\" class=\"dataframe\">\n",
       "  <thead>\n",
       "    <tr style=\"text-align: right;\">\n",
       "      <th></th>\n",
       "      <th>Ticket number</th>\n",
       "      <th>Issue Date</th>\n",
       "      <th>Issue time</th>\n",
       "      <th>Meter Id</th>\n",
       "      <th>Marked Time</th>\n",
       "      <th>RP State Plate</th>\n",
       "      <th>Plate Expiry Date</th>\n",
       "      <th>VIN</th>\n",
       "      <th>Make</th>\n",
       "      <th>Body Style</th>\n",
       "      <th>Color</th>\n",
       "      <th>Location</th>\n",
       "      <th>Route</th>\n",
       "      <th>Agency</th>\n",
       "      <th>Violation code</th>\n",
       "      <th>Violation Description</th>\n",
       "      <th>Fine amount</th>\n",
       "      <th>Latitude</th>\n",
       "      <th>Longitude</th>\n",
       "    </tr>\n",
       "  </thead>\n",
       "  <tbody>\n",
       "    <tr>\n",
       "      <th>1554034</th>\n",
       "      <td>4253906285</td>\n",
       "      <td>2015-02-23</td>\n",
       "      <td>644.0</td>\n",
       "      <td>NaN</td>\n",
       "      <td>NaN</td>\n",
       "      <td>CA</td>\n",
       "      <td>201506.0</td>\n",
       "      <td>NaN</td>\n",
       "      <td>NISS</td>\n",
       "      <td>PA</td>\n",
       "      <td>BK</td>\n",
       "      <td>225 COMMONWEALTH AVE</td>\n",
       "      <td>00401</td>\n",
       "      <td>54.0</td>\n",
       "      <td>80.56E1</td>\n",
       "      <td>WHITE ZONE</td>\n",
       "      <td>58.0</td>\n",
       "      <td>1.077953e+09</td>\n",
       "      <td>1.077953e+09</td>\n",
       "    </tr>\n",
       "    <tr>\n",
       "      <th>1841125</th>\n",
       "      <td>1109393213</td>\n",
       "      <td>2015-04-09</td>\n",
       "      <td>1034.0</td>\n",
       "      <td>NaN</td>\n",
       "      <td>NaN</td>\n",
       "      <td>CA</td>\n",
       "      <td>201505.0</td>\n",
       "      <td>NaN</td>\n",
       "      <td>CHEV</td>\n",
       "      <td>TR</td>\n",
       "      <td>BL</td>\n",
       "      <td>3000 JAMES M WOOD</td>\n",
       "      <td>00456</td>\n",
       "      <td>54.0</td>\n",
       "      <td>8069BS</td>\n",
       "      <td>NO PARK/STREET CLEAN</td>\n",
       "      <td>73.0</td>\n",
       "      <td>4.042322e+09</td>\n",
       "      <td>4.042322e+09</td>\n",
       "    </tr>\n",
       "    <tr>\n",
       "      <th>1882699</th>\n",
       "      <td>1109411516</td>\n",
       "      <td>2015-04-16</td>\n",
       "      <td>1040.0</td>\n",
       "      <td>NaN</td>\n",
       "      <td>NaN</td>\n",
       "      <td>TN</td>\n",
       "      <td>201501.0</td>\n",
       "      <td>NaN</td>\n",
       "      <td>HOND</td>\n",
       "      <td>PA</td>\n",
       "      <td>BK</td>\n",
       "      <td>3000 JAMES M WOOD</td>\n",
       "      <td>00462</td>\n",
       "      <td>54.0</td>\n",
       "      <td>8069BS</td>\n",
       "      <td>NO PARK/STREET CLEAN</td>\n",
       "      <td>73.0</td>\n",
       "      <td>4.042322e+09</td>\n",
       "      <td>4.042322e+09</td>\n",
       "    </tr>\n",
       "  </tbody>\n",
       "</table>\n",
       "</div>"
      ],
      "text/plain": [
       "        Ticket number Issue Date  Issue time Meter Id  Marked Time  \\\n",
       "1554034    4253906285 2015-02-23       644.0      NaN          NaN   \n",
       "1841125    1109393213 2015-04-09      1034.0      NaN          NaN   \n",
       "1882699    1109411516 2015-04-16      1040.0      NaN          NaN   \n",
       "\n",
       "        RP State Plate  Plate Expiry Date  VIN  Make Body Style Color  \\\n",
       "1554034             CA           201506.0  NaN  NISS         PA    BK   \n",
       "1841125             CA           201505.0  NaN  CHEV         TR    BL   \n",
       "1882699             TN           201501.0  NaN  HOND         PA    BK   \n",
       "\n",
       "                     Location  Route  Agency Violation code  \\\n",
       "1554034  225 COMMONWEALTH AVE  00401    54.0        80.56E1   \n",
       "1841125     3000 JAMES M WOOD  00456    54.0         8069BS   \n",
       "1882699     3000 JAMES M WOOD  00462    54.0         8069BS   \n",
       "\n",
       "        Violation Description  Fine amount      Latitude     Longitude  \n",
       "1554034            WHITE ZONE         58.0  1.077953e+09  1.077953e+09  \n",
       "1841125  NO PARK/STREET CLEAN         73.0  4.042322e+09  4.042322e+09  \n",
       "1882699  NO PARK/STREET CLEAN         73.0  4.042322e+09  4.042322e+09  "
      ]
     },
     "execution_count": 144,
     "metadata": {},
     "output_type": "execute_result"
    }
   ],
   "source": [
    "## There are only three rows\n",
    "df[df['Latitude'] > 5e7]"
   ]
  },
  {
   "cell_type": "markdown",
   "metadata": {},
   "source": [
    "These three rows are change to 99999, done above."
   ]
  },
  {
   "cell_type": "markdown",
   "metadata": {},
   "source": [
    "## Longitude "
   ]
  },
  {
   "cell_type": "code",
   "execution_count": 274,
   "metadata": {},
   "outputs": [
    {
     "data": {
      "text/plain": [
       "0"
      ]
     },
     "execution_count": 274,
     "metadata": {},
     "output_type": "execute_result"
    }
   ],
   "source": [
    "df['Longitude'].isna().sum()"
   ]
  },
  {
   "cell_type": "code",
   "execution_count": 275,
   "metadata": {},
   "outputs": [
    {
     "data": {
      "text/plain": [
       "count    4.038226e+06\n",
       "mean     1.428196e+06\n",
       "std      2.989106e+06\n",
       "min      9.999900e+04\n",
       "25%      1.740685e+06\n",
       "50%      1.839882e+06\n",
       "75%      1.855471e+06\n",
       "max      4.042322e+09\n",
       "Name: Longitude, dtype: float64"
      ]
     },
     "execution_count": 275,
     "metadata": {},
     "output_type": "execute_result"
    }
   ],
   "source": [
    "df['Longitude'].describe()"
   ]
  },
  {
   "cell_type": "code",
   "execution_count": 281,
   "metadata": {
    "scrolled": false
   },
   "outputs": [
    {
     "data": {
      "image/png": "[encoded data removed]",
      "text/plain": [
       "<matplotlib.figure.Figure at 0xa9f9ae15f8>"
      ]
     },
     "metadata": {},
     "output_type": "display_data"
    }
   ],
   "source": [
    "df.loc[df['Longitude'] != 99999, 'Longitude'].plot.box()\n",
    "plt.show()"
   ]
  },
  {
   "cell_type": "code",
   "execution_count": 145,
   "metadata": {},
   "outputs": [
    {
     "data": {
      "text/plain": [
       "3"
      ]
     },
     "execution_count": 145,
     "metadata": {},
     "output_type": "execute_result"
    }
   ],
   "source": [
    "(df['Longitude'] > 5e7).sum()"
   ]
  },
  {
   "cell_type": "markdown",
   "metadata": {
    "hideCode": false,
    "hidePrompt": false
   },
   "source": [
    "## Data Compression"
   ]
  },
  {
   "cell_type": "code",
   "execution_count": 222,
   "metadata": {
    "hideCode": false,
    "hidePrompt": false
   },
   "outputs": [],
   "source": [
    "## Convert column into integer\n",
    "df['Issue time'] = pd.to_numeric(df['Issue time'], downcast = 'integer')"
   ]
  },
  {
   "cell_type": "code",
   "execution_count": 223,
   "metadata": {
    "hideCode": false,
    "hidePrompt": false
   },
   "outputs": [],
   "source": [
    "## Convert column into integer\n",
    "df['Marked Time'] = pd.to_numeric(df['Marked Time'], downcast = 'integer')"
   ]
  },
  {
   "cell_type": "code",
   "execution_count": 224,
   "metadata": {
    "hideCode": false,
    "hidePrompt": false
   },
   "outputs": [
    {
     "name": "stdout",
     "output_type": "stream",
     "text": [
      "<class 'pandas.core.frame.DataFrame'>\n",
      "RangeIndex: 4038226 entries, 0 to 4038225\n",
      "Data columns (total 19 columns):\n",
      "Ticket number            uint64\n",
      "Issue Date               datetime64[ns]\n",
      "Issue time               int16\n",
      "Meter Id                 object\n",
      "Marked Time              int16\n",
      "RP State Plate           object\n",
      "Plate Expiry Date        datetime64[ns]\n",
      "VIN                      object\n",
      "Make                     object\n",
      "Body Style               object\n",
      "Color                    object\n",
      "Location                 object\n",
      "Route                    object\n",
      "Agency                   category\n",
      "Violation code           object\n",
      "Violation Description    object\n",
      "Fine amount              int16\n",
      "Latitude                 float64\n",
      "Longitude                float64\n",
      "dtypes: category(1), datetime64[ns](2), float64(2), int16(3), object(10), uint64(1)\n",
      "memory usage: 2.4 GB\n"
     ]
    }
   ],
   "source": [
    "df.info(memory_usage='deep')"
   ]
  },
  {
   "cell_type": "code",
   "execution_count": null,
   "metadata": {
    "hideCode": false,
    "hidePrompt": false
   },
   "outputs": [],
   "source": []
  },
  {
   "cell_type": "code",
   "execution_count": null,
   "metadata": {
    "hideCode": false,
    "hidePrompt": false
   },
   "outputs": [],
   "source": []
  },
  {
   "cell_type": "code",
   "execution_count": null,
   "metadata": {
    "hideCode": false,
    "hidePrompt": false
   },
   "outputs": [],
   "source": []
  },
  {
   "cell_type": "code",
   "execution_count": null,
   "metadata": {
    "hideCode": false,
    "hidePrompt": false
   },
   "outputs": [],
   "source": []
  },
  {
   "cell_type": "markdown",
   "metadata": {
    "hideCode": false,
    "hidePrompt": false
   },
   "source": [
    "## Import/Export"
   ]
  },
  {
   "cell_type": "code",
   "execution_count": 91,
   "metadata": {
    "hideCode": false,
    "hidePrompt": false
   },
   "outputs": [],
   "source": [
    "## This is slightly more compact\n",
    "df.to_pickle('dataset/dataframe.pickle')\n",
    "## Export current dataframe\n",
    "# with open('dataset/dataframe.pickle', 'wb') as f:\n",
    "#     pickle.dump(df, f)"
   ]
  },
  {
   "cell_type": "code",
   "execution_count": 219,
   "metadata": {},
   "outputs": [],
   "source": [
    "## To be consistent\n",
    "df = pd.read_pickle('dataset/dataframe.pickle')\n",
    "## Import pickle in \n",
    "# with open('dataset/dataframe.pickle', 'rb') as f:\n",
    "#     df = pickle.load(f)"
   ]
  },
  {
   "cell_type": "code",
   "execution_count": 93,
   "metadata": {},
   "outputs": [],
   "source": []
  },
  {
   "cell_type": "markdown",
   "metadata": {
    "hideCode": false,
    "hidePrompt": false
   },
   "source": [
    "TODO: \n",
    "* change the names of the columns for easier usage\n",
    "* export pandas data for later processsing\n",
    "* compress the data as much as possible\n",
    "* convert string into category\n",
    "* COnvert issue time into time dtype\n",
    "* combine issue date and time?\n",
    "* wrap up by delete unused variable. "
   ]
  },
  {
   "cell_type": "markdown",
   "metadata": {
    "hideCode": false,
    "hidePrompt": false
   },
   "source": [
    "random testing"
   ]
  },
  {
   "cell_type": "code",
   "execution_count": null,
   "metadata": {
    "hideCode": false,
    "hidePrompt": false
   },
   "outputs": [],
   "source": [
    "np.iinfo('int8')"
   ]
  },
  {
   "cell_type": "code",
   "execution_count": null,
   "metadata": {
    "hideCode": false,
    "hidePrompt": false
   },
   "outputs": [],
   "source": [
    "np.iinfo('uint32')"
   ]
  },
  {
   "cell_type": "code",
   "execution_count": null,
   "metadata": {
    "hideCode": false,
    "hidePrompt": false
   },
   "outputs": [],
   "source": [
    "np.iinfo(1107434506)"
   ]
  },
  {
   "cell_type": "code",
   "execution_count": null,
   "metadata": {
    "hideCode": false,
    "hidePrompt": false
   },
   "outputs": [],
   "source": [
    "np.iinfo('uint8')"
   ]
  },
  {
   "cell_type": "code",
   "execution_count": null,
   "metadata": {
    "hideCode": false,
    "hidePrompt": false
   },
   "outputs": [],
   "source": [
    "# plotly.offline.iplot({\"data\": [{\"x\": [1, 2, 3],\"y\": [4, 10, 5]}],\"layout\": {\"title\": \"hello world\"}},\n",
    "#                     config={'displayModeBar': False, 'showLink': False}, \n",
    "#                     image_width=50, image_height=50)\n",
    "\n",
    "## Tried using an external app to figure out the dataset map projection\n",
    "# import fiona.collection\n",
    "# from shapely.geometry import Point, mapping\n",
    "# schema = {'geometry': 'Point', 'properties': {'loc': 'str'}}\n",
    "\n",
    "# with fiona.collection('dataset/test.shp', 'w', 'ESRI Shapefile', schema) as output:\n",
    "#     for index, row in df[tmp_btw][:10000].iterrows():\n",
    "#         point = Point(row['Longitude'], row['Latitude'])\n",
    "#         output.write({\n",
    "#             'properties': {'loc': row['Location']},\n",
    "#             'geometry': mapping(point)})\n",
    "\n",
    "## Tried to point locations after transforming projection\n",
    "# proj = ccrs.LambertConformal(false_easting=6561666.666666666, \n",
    "#                             false_northing=1640416.666666667,\n",
    "#                             standard_parallels=(34.03333333333333, 35.46666666666667),\n",
    "#                             central_latitude= 33.5,\n",
    "#                             central_longitude= -118)\n",
    "# proj2 = ccrs.epsg(102645)\n",
    "# fig = plt.figure(figsize = (8,6))\n",
    "# # ax = fig.add_subplot(1,1,1, projection = ccrs.LambertConformal())\n",
    "# ax = fig.add_subplot(1,1,1, projection = ccrs.LambertConformal())\n",
    "\n",
    "# ax.add_feature(cfeat.LAND)\n",
    "# ax.add_feature(cfeat.OCEAN)\n",
    "# ax.add_feature(cfeat.COASTLINE)\n",
    "# ax.add_feature(cfeat.BORDERS, linestyle = ':')\n",
    "# ax.add_feature(cfeat.LAKES, alpha = 0.5)\n",
    "# ax.set_extent((-120, -70, 20, 50))\n",
    "\n",
    "# state_borders = cfeat.NaturalEarthFeature(category='cultural', name = 'admin_1_states_provinces_lakes',\n",
    "#                                          scale = '50m', facecolor = 'none')\n",
    "# ax.add_feature(state_borders, linestyle = 'dotted', edgecolor = 'black')\n",
    "# ax.gridlines()\n",
    "# # ax.scatter(-122.698919, 79.744606, marker = '*', s = 500, c= 'r')\n",
    "# # ax.set_extent((-100, -90, 50, 90))"
   ]
  }
 ],
 "metadata": {
  "hide_code_all_hidden": false,
  "kernelspec": {
   "display_name": "Python 3",
   "language": "python",
   "name": "python3"
  },
  "language_info": {
   "codemirror_mode": {
    "name": "ipython",
    "version": 3
   },
   "file_extension": ".py",
   "mimetype": "text/x-python",
   "name": "python",
   "nbconvert_exporter": "python",
   "pygments_lexer": "ipython3",
   "version": "3.6.3"
  }
 },
 "nbformat": 4,
 "nbformat_minor": 2
}

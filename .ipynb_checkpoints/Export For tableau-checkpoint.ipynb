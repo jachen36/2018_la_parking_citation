{
 "cells": [
  {
   "cell_type": "code",
   "execution_count": 1,
   "metadata": {},
   "outputs": [],
   "source": [
    "import numpy as np\n",
    "import pandas as pd\n",
    "\n",
    "import pickle\n",
    "\n",
    "import matplotlib.pyplot as plt\n",
    "%matplotlib inline"
   ]
  },
  {
   "cell_type": "code",
   "execution_count": 2,
   "metadata": {},
   "outputs": [],
   "source": [
    "## Import dataframe from pickle\n",
    "df = pd.read_pickle('dataset/dataframe.pickle', compression='gzip')"
   ]
  },
  {
   "cell_type": "markdown",
   "metadata": {},
   "source": [
    "## Issue Date Time"
   ]
  },
  {
   "cell_type": "code",
   "execution_count": 3,
   "metadata": {},
   "outputs": [
    {
     "data": {
      "text/plain": [
       "2015.0    2181331\n",
       "2016.0    1783038\n",
       "2014.0      39406\n",
       "2017.0      33936\n",
       "2013.0         38\n",
       "2012.0         30\n",
       "2010.0         12\n",
       "2011.0         10\n",
       "Name: issue_date, dtype: int64"
      ]
     },
     "execution_count": 3,
     "metadata": {},
     "output_type": "execute_result"
    }
   ],
   "source": [
    "## Count tickets per year\n",
    "df.issue_date.dt.year.value_counts()"
   ]
  },
  {
   "cell_type": "code",
   "execution_count": 4,
   "metadata": {},
   "outputs": [],
   "source": [
    "## Only 2015 and 2016 has complete dataset so filter those out\n",
    "df = df[df.issue_date.between('2015', '2017')]"
   ]
  },
  {
   "cell_type": "code",
   "execution_count": 5,
   "metadata": {},
   "outputs": [
    {
     "name": "stdout",
     "output_type": "stream",
     "text": [
      "Number of nan Issue time: 844\n"
     ]
    }
   ],
   "source": [
    "## There are only a few nan values for issue_time\n",
    "print('Number of nan Issue time: {}'.format((df.issue_time == -1).sum()))\n",
    "## Replace -1 with median time because the issue time is pretty normal\n",
    "df.loc[df.issue_time == -1, 'issue_time'] = df.issue_time.median()"
   ]
  },
  {
   "cell_type": "code",
   "execution_count": 6,
   "metadata": {},
   "outputs": [
    {
     "name": "stdout",
     "output_type": "stream",
     "text": [
      "count   3964369\n",
      "mean       1230\n",
      "std         469\n",
      "min           0\n",
      "25%         927\n",
      "50%        1208\n",
      "75%        1546\n",
      "max        2359\n",
      "Name: issue_time, dtype: float64\n"
     ]
    }
   ],
   "source": [
    "with pd.option_context('display.float_format', '{:.0f}'.format):\n",
    "    print(df.issue_time.describe())"
   ]
  },
  {
   "cell_type": "code",
   "execution_count": 7,
   "metadata": {},
   "outputs": [],
   "source": [
    "## Combine Issue Date and Issue Time \n",
    "## Convert time to int to remove decimal then to str to pad the front with zero \n",
    "## Final format HHMM\n",
    "time = df.issue_time.astype('int').astype('str').str.pad(width = 4, side = 'left', fillchar = '0')\n",
    "## Combine date and time\n",
    "date_time = df.issue_date.astype('str') + ' ' + time\n",
    "## Add to dataframe\n",
    "df['issue_datetime'] = pd.to_datetime(date_time, format = '%Y-%m-%d %H%M')"
   ]
  },
  {
   "cell_type": "code",
   "execution_count": 8,
   "metadata": {
    "scrolled": true
   },
   "outputs": [
    {
     "data": {
      "text/html": [
       "<div>\n",
       "<style scoped>\n",
       "    .dataframe tbody tr th:only-of-type {\n",
       "        vertical-align: middle;\n",
       "    }\n",
       "\n",
       "    .dataframe tbody tr th {\n",
       "        vertical-align: top;\n",
       "    }\n",
       "\n",
       "    .dataframe thead th {\n",
       "        text-align: right;\n",
       "    }\n",
       "</style>\n",
       "<table border=\"1\" class=\"dataframe\">\n",
       "  <thead>\n",
       "    <tr style=\"text-align: right;\">\n",
       "      <th></th>\n",
       "      <th>issue_datetime</th>\n",
       "      <th>issue_date</th>\n",
       "      <th>issue_time</th>\n",
       "    </tr>\n",
       "  </thead>\n",
       "  <tbody>\n",
       "    <tr>\n",
       "      <th>0</th>\n",
       "      <td>2015-12-30 22:01:00</td>\n",
       "      <td>2015-12-30</td>\n",
       "      <td>2201.0</td>\n",
       "    </tr>\n",
       "    <tr>\n",
       "      <th>1</th>\n",
       "      <td>2015-12-30 22:05:00</td>\n",
       "      <td>2015-12-30</td>\n",
       "      <td>2205.0</td>\n",
       "    </tr>\n",
       "    <tr>\n",
       "      <th>2</th>\n",
       "      <td>2015-12-30 17:25:00</td>\n",
       "      <td>2015-12-30</td>\n",
       "      <td>1725.0</td>\n",
       "    </tr>\n",
       "    <tr>\n",
       "      <th>3</th>\n",
       "      <td>2015-12-30 17:38:00</td>\n",
       "      <td>2015-12-30</td>\n",
       "      <td>1738.0</td>\n",
       "    </tr>\n",
       "    <tr>\n",
       "      <th>4</th>\n",
       "      <td>2015-12-30 18:07:00</td>\n",
       "      <td>2015-12-30</td>\n",
       "      <td>1807.0</td>\n",
       "    </tr>\n",
       "  </tbody>\n",
       "</table>\n",
       "</div>"
      ],
      "text/plain": [
       "       issue_datetime issue_date  issue_time\n",
       "0 2015-12-30 22:01:00 2015-12-30      2201.0\n",
       "1 2015-12-30 22:05:00 2015-12-30      2205.0\n",
       "2 2015-12-30 17:25:00 2015-12-30      1725.0\n",
       "3 2015-12-30 17:38:00 2015-12-30      1738.0\n",
       "4 2015-12-30 18:07:00 2015-12-30      1807.0"
      ]
     },
     "execution_count": 8,
     "metadata": {},
     "output_type": "execute_result"
    }
   ],
   "source": [
    "## Verify conversion was correct\n",
    "df[['issue_datetime', 'issue_date', 'issue_time']].head()"
   ]
  },
  {
   "cell_type": "markdown",
   "metadata": {},
   "source": [
    "## Fine Amount"
   ]
  },
  {
   "cell_type": "code",
   "execution_count": 9,
   "metadata": {},
   "outputs": [
    {
     "name": "stdout",
     "output_type": "stream",
     "text": [
      "count   3964369\n",
      "mean         70\n",
      "std          32\n",
      "min          -1\n",
      "25%          63\n",
      "50%          68\n",
      "75%          73\n",
      "max         505\n",
      "Name: fine_amount, dtype: float64\n",
      "Number of nan: 1532\n"
     ]
    }
   ],
   "source": [
    "## Impute fine_amount \n",
    "with pd.option_context('display.float_format', '{:.0f}'.format):\n",
    "    print(df.fine_amount.describe())\n",
    "print('Number of nan: {}'.format((df.fine_amount == -1).sum()))"
   ]
  },
  {
   "cell_type": "code",
   "execution_count": 10,
   "metadata": {},
   "outputs": [
    {
     "name": "stdout",
     "output_type": "stream",
     "text": [
      "Verify that there are no more nan: 0\n"
     ]
    }
   ],
   "source": [
    "## Fine looks a little skewed so use median\n",
    "df.loc[df.fine_amount == -1, 'fine_amount'] = df.fine_amount.median()\n",
    "print('Verify that there are no more nan: {}'.format((df.fine_amount == -1).sum()))"
   ]
  },
  {
   "cell_type": "code",
   "execution_count": 11,
   "metadata": {},
   "outputs": [
    {
     "name": "stdout",
     "output_type": "stream",
     "text": [
      "Fine amount less than $25: 25\n",
      "Number of violations for Display of tabs: 25\n",
      "Fine amount less than $25 after correction: 0\n"
     ]
    }
   ],
   "source": [
    "## After imputation, I found that a few of them are $10\n",
    "## This is incorrect because the minimum fine is 25\n",
    "## for Display of tabs\n",
    "print('Fine amount less than $25: {}'.format((df.fine_amount < 25).sum()))\n",
    "## All of the violations are Display of tabs\n",
    "print('Number of violations for Display of tabs: {}'.\\\n",
    "      format((df.loc[df.fine_amount < 25, 'violation_description'] == 'DISPLAY OF TABS').sum()))\n",
    "## From lookup_v_fine.csv, that fine amount is $25\n",
    "df.loc[df.fine_amount < 25, 'fine_amount'] = 25\n",
    "## Verify fine correction\n",
    "print('Fine amount less than $25 after correction: {}'.format((df.fine_amount < 25).sum()))"
   ]
  },
  {
   "cell_type": "code",
   "execution_count": 12,
   "metadata": {},
   "outputs": [],
   "source": [
    "## Downcast fine_amount \n",
    "df['fine_amount'] = pd.to_numeric(df.fine_amount, downcast = 'unsigned')"
   ]
  },
  {
   "cell_type": "markdown",
   "metadata": {},
   "source": [
    "## Drop columns"
   ]
  },
  {
   "cell_type": "code",
   "execution_count": 13,
   "metadata": {},
   "outputs": [],
   "source": [
    "## Remove columns that aren't useful\n",
    "df.drop(columns= ['meter_id', 'marked_time', \n",
    "                  'plate_expiry_date', 'vin', \n",
    "                  'body_style', 'color', \n",
    "                  'route', 'violation_code', \n",
    "                  'latitude', 'longitude', \n",
    "                  'issue_date', 'issue_time'], errors = 'ignore', inplace = True)"
   ]
  },
  {
   "cell_type": "code",
   "execution_count": 15,
   "metadata": {},
   "outputs": [
    {
     "name": "stdout",
     "output_type": "stream",
     "text": [
      "<class 'pandas.core.frame.DataFrame'>\n",
      "Int64Index: 3964369 entries, 0 to 4004294\n",
      "Data columns (total 8 columns):\n",
      "ticket_number            uint64\n",
      "rp_state_plate           object\n",
      "make                     object\n",
      "location                 object\n",
      "agency                   category\n",
      "violation_description    object\n",
      "fine_amount              uint16\n",
      "issue_datetime           datetime64[ns]\n",
      "dtypes: category(1), datetime64[ns](1), object(4), uint16(1), uint64(1)\n",
      "memory usage: 223.1+ MB\n"
     ]
    }
   ],
   "source": [
    "df.info()"
   ]
  },
  {
   "cell_type": "markdown",
   "metadata": {},
   "source": [
    "## Export dataframe to csv"
   ]
  },
  {
   "cell_type": "code",
   "execution_count": 142,
   "metadata": {},
   "outputs": [],
   "source": [
    "df.to_csv('dataset/la_citation_tableau.csv', index = False)"
   ]
  },
  {
   "cell_type": "markdown",
   "metadata": {},
   "source": [
    "## Count Citations By Block"
   ]
  },
  {
   "cell_type": "markdown",
   "metadata": {},
   "source": [
    "https://egis3.lacounty.gov/eGIS/wp-content/uploads/2013/10/House-Numbering-and-Street-Naming-Material-2013.pdf\n",
    "\n",
    "This article says that generally blocks are every 100 "
   ]
  },
  {
   "cell_type": "code",
   "execution_count": 16,
   "metadata": {},
   "outputs": [],
   "source": [
    "## Get only the year\n",
    "df['year'] = df.issue_datetime.dt.year"
   ]
  },
  {
   "cell_type": "code",
   "execution_count": 31,
   "metadata": {},
   "outputs": [],
   "source": [
    "## Count citations per address\n",
    "street_citations = df.groupby(['year', 'location'])"
   ]
  },
  {
   "cell_type": "code",
   "execution_count": 32,
   "metadata": {},
   "outputs": [],
   "source": [
    "street_citations = street_citations.agg({'ticket_number' : 'count', 'fine_amount': 'sum'})"
   ]
  },
  {
   "cell_type": "code",
   "execution_count": 40,
   "metadata": {},
   "outputs": [],
   "source": [
    "street_citations.reset_index(inplace = True)"
   ]
  },
  {
   "cell_type": "code",
   "execution_count": 64,
   "metadata": {
    "scrolled": true
   },
   "outputs": [
    {
     "name": "stdout",
     "output_type": "stream",
     "text": [
      "(1161941, 4)\n"
     ]
    },
    {
     "data": {
      "text/html": [
       "<div>\n",
       "<style scoped>\n",
       "    .dataframe tbody tr th:only-of-type {\n",
       "        vertical-align: middle;\n",
       "    }\n",
       "\n",
       "    .dataframe tbody tr th {\n",
       "        vertical-align: top;\n",
       "    }\n",
       "\n",
       "    .dataframe thead th {\n",
       "        text-align: right;\n",
       "    }\n",
       "</style>\n",
       "<table border=\"1\" class=\"dataframe\">\n",
       "  <thead>\n",
       "    <tr style=\"text-align: right;\">\n",
       "      <th></th>\n",
       "      <th>year</th>\n",
       "      <th>location</th>\n",
       "      <th>ticket_number</th>\n",
       "      <th>fine_amount</th>\n",
       "    </tr>\n",
       "  </thead>\n",
       "  <tbody>\n",
       "    <tr>\n",
       "      <th>60870</th>\n",
       "      <td>2015</td>\n",
       "      <td>11600 SAN VICENTE BL</td>\n",
       "      <td>2579</td>\n",
       "      <td>154224.0</td>\n",
       "    </tr>\n",
       "    <tr>\n",
       "      <th>84864</th>\n",
       "      <td>2015</td>\n",
       "      <td>1235 FIGUEROA PL</td>\n",
       "      <td>2468</td>\n",
       "      <td>140734.0</td>\n",
       "    </tr>\n",
       "    <tr>\n",
       "      <th>708260</th>\n",
       "      <td>2016</td>\n",
       "      <td>1301 ELECTRIC AVE</td>\n",
       "      <td>2062</td>\n",
       "      <td>124784.0</td>\n",
       "    </tr>\n",
       "    <tr>\n",
       "      <th>5907</th>\n",
       "      <td>2015</td>\n",
       "      <td>101 LARCHMONT BL N</td>\n",
       "      <td>1966</td>\n",
       "      <td>120476.0</td>\n",
       "    </tr>\n",
       "    <tr>\n",
       "      <th>672023</th>\n",
       "      <td>2016</td>\n",
       "      <td>11600 SAN VICENTE BL</td>\n",
       "      <td>1936</td>\n",
       "      <td>116816.0</td>\n",
       "    </tr>\n",
       "    <tr>\n",
       "      <th>76839</th>\n",
       "      <td>2015</td>\n",
       "      <td>12100 VENTURA BL</td>\n",
       "      <td>1494</td>\n",
       "      <td>93902.0</td>\n",
       "    </tr>\n",
       "    <tr>\n",
       "      <th>854193</th>\n",
       "      <td>2016</td>\n",
       "      <td>2377 MIDVALE AVE</td>\n",
       "      <td>1458</td>\n",
       "      <td>90146.0</td>\n",
       "    </tr>\n",
       "    <tr>\n",
       "      <th>64066</th>\n",
       "      <td>2015</td>\n",
       "      <td>11700 SAN VICENTE BL</td>\n",
       "      <td>1422</td>\n",
       "      <td>85762.0</td>\n",
       "    </tr>\n",
       "    <tr>\n",
       "      <th>60981</th>\n",
       "      <td>2015</td>\n",
       "      <td>11601 SAN VICENTE BL</td>\n",
       "      <td>1397</td>\n",
       "      <td>83161.0</td>\n",
       "    </tr>\n",
       "    <tr>\n",
       "      <th>170060</th>\n",
       "      <td>2015</td>\n",
       "      <td>1608 PACIFIC AVE S</td>\n",
       "      <td>1370</td>\n",
       "      <td>83887.0</td>\n",
       "    </tr>\n",
       "  </tbody>\n",
       "</table>\n",
       "</div>"
      ],
      "text/plain": [
       "        year              location  ticket_number  fine_amount\n",
       "60870   2015  11600 SAN VICENTE BL           2579     154224.0\n",
       "84864   2015      1235 FIGUEROA PL           2468     140734.0\n",
       "708260  2016     1301 ELECTRIC AVE           2062     124784.0\n",
       "5907    2015    101 LARCHMONT BL N           1966     120476.0\n",
       "672023  2016  11600 SAN VICENTE BL           1936     116816.0\n",
       "76839   2015      12100 VENTURA BL           1494      93902.0\n",
       "854193  2016      2377 MIDVALE AVE           1458      90146.0\n",
       "64066   2015  11700 SAN VICENTE BL           1422      85762.0\n",
       "60981   2015  11601 SAN VICENTE BL           1397      83161.0\n",
       "170060  2015    1608 PACIFIC AVE S           1370      83887.0"
      ]
     },
     "execution_count": 64,
     "metadata": {},
     "output_type": "execute_result"
    }
   ],
   "source": [
    "print(street_citations.shape)\n",
    "street_citations.sort_values(by= 'ticket_number', ascending=False, inplace=True)\n",
    "street_citations.head(10)"
   ]
  },
  {
   "cell_type": "markdown",
   "metadata": {},
   "source": [
    "Can see that 11600 San Vicente Bl and 11601 San Vicente Bl should be together since they are on the same block. "
   ]
  },
  {
   "cell_type": "code",
   "execution_count": 98,
   "metadata": {
    "scrolled": true
   },
   "outputs": [],
   "source": [
    "## Split location by first space character which is usually the street number\n",
    "tmp = street_citations.location.str.partition(' ')\n",
    "## Get index where location has correct street numbering\n",
    "with_streetnumber = tmp[0].str.isdigit()\n",
    "tmp = tmp[with_streetnumber] ## Remove incorrect addressing\n",
    "## Convert to integer and floor integer to its nearest hundred place\n",
    "tmp[0] = (pd.to_numeric(tmp[0])//100 * 100).astype('str')"
   ]
  },
  {
   "cell_type": "code",
   "execution_count": 100,
   "metadata": {},
   "outputs": [],
   "source": [
    "## Remove incorrect addressing\n",
    "street_citations = street_citations[with_streetnumber]"
   ]
  },
  {
   "cell_type": "code",
   "execution_count": 101,
   "metadata": {},
   "outputs": [],
   "source": [
    "street_citations['block'] = tmp[0] + ' ' + tmp[2]"
   ]
  },
  {
   "cell_type": "code",
   "execution_count": 102,
   "metadata": {},
   "outputs": [
    {
     "data": {
      "text/html": [
       "<div>\n",
       "<style scoped>\n",
       "    .dataframe tbody tr th:only-of-type {\n",
       "        vertical-align: middle;\n",
       "    }\n",
       "\n",
       "    .dataframe tbody tr th {\n",
       "        vertical-align: top;\n",
       "    }\n",
       "\n",
       "    .dataframe thead th {\n",
       "        text-align: right;\n",
       "    }\n",
       "</style>\n",
       "<table border=\"1\" class=\"dataframe\">\n",
       "  <thead>\n",
       "    <tr style=\"text-align: right;\">\n",
       "      <th></th>\n",
       "      <th>year</th>\n",
       "      <th>location</th>\n",
       "      <th>ticket_number</th>\n",
       "      <th>fine_amount</th>\n",
       "      <th>block</th>\n",
       "    </tr>\n",
       "  </thead>\n",
       "  <tbody>\n",
       "    <tr>\n",
       "      <th>60870</th>\n",
       "      <td>2015</td>\n",
       "      <td>11600 SAN VICENTE BL</td>\n",
       "      <td>2579</td>\n",
       "      <td>154224.0</td>\n",
       "      <td>11600 SAN VICENTE BL</td>\n",
       "    </tr>\n",
       "    <tr>\n",
       "      <th>84864</th>\n",
       "      <td>2015</td>\n",
       "      <td>1235 FIGUEROA PL</td>\n",
       "      <td>2468</td>\n",
       "      <td>140734.0</td>\n",
       "      <td>1200 FIGUEROA PL</td>\n",
       "    </tr>\n",
       "    <tr>\n",
       "      <th>708260</th>\n",
       "      <td>2016</td>\n",
       "      <td>1301 ELECTRIC AVE</td>\n",
       "      <td>2062</td>\n",
       "      <td>124784.0</td>\n",
       "      <td>1300 ELECTRIC AVE</td>\n",
       "    </tr>\n",
       "    <tr>\n",
       "      <th>5907</th>\n",
       "      <td>2015</td>\n",
       "      <td>101 LARCHMONT BL N</td>\n",
       "      <td>1966</td>\n",
       "      <td>120476.0</td>\n",
       "      <td>100 LARCHMONT BL N</td>\n",
       "    </tr>\n",
       "    <tr>\n",
       "      <th>672023</th>\n",
       "      <td>2016</td>\n",
       "      <td>11600 SAN VICENTE BL</td>\n",
       "      <td>1936</td>\n",
       "      <td>116816.0</td>\n",
       "      <td>11600 SAN VICENTE BL</td>\n",
       "    </tr>\n",
       "    <tr>\n",
       "      <th>76839</th>\n",
       "      <td>2015</td>\n",
       "      <td>12100 VENTURA BL</td>\n",
       "      <td>1494</td>\n",
       "      <td>93902.0</td>\n",
       "      <td>12100 VENTURA BL</td>\n",
       "    </tr>\n",
       "    <tr>\n",
       "      <th>854193</th>\n",
       "      <td>2016</td>\n",
       "      <td>2377 MIDVALE AVE</td>\n",
       "      <td>1458</td>\n",
       "      <td>90146.0</td>\n",
       "      <td>2300 MIDVALE AVE</td>\n",
       "    </tr>\n",
       "    <tr>\n",
       "      <th>64066</th>\n",
       "      <td>2015</td>\n",
       "      <td>11700 SAN VICENTE BL</td>\n",
       "      <td>1422</td>\n",
       "      <td>85762.0</td>\n",
       "      <td>11700 SAN VICENTE BL</td>\n",
       "    </tr>\n",
       "    <tr>\n",
       "      <th>60981</th>\n",
       "      <td>2015</td>\n",
       "      <td>11601 SAN VICENTE BL</td>\n",
       "      <td>1397</td>\n",
       "      <td>83161.0</td>\n",
       "      <td>11600 SAN VICENTE BL</td>\n",
       "    </tr>\n",
       "    <tr>\n",
       "      <th>170060</th>\n",
       "      <td>2015</td>\n",
       "      <td>1608 PACIFIC AVE S</td>\n",
       "      <td>1370</td>\n",
       "      <td>83887.0</td>\n",
       "      <td>1600 PACIFIC AVE S</td>\n",
       "    </tr>\n",
       "  </tbody>\n",
       "</table>\n",
       "</div>"
      ],
      "text/plain": [
       "        year              location  ticket_number  fine_amount  \\\n",
       "60870   2015  11600 SAN VICENTE BL           2579     154224.0   \n",
       "84864   2015      1235 FIGUEROA PL           2468     140734.0   \n",
       "708260  2016     1301 ELECTRIC AVE           2062     124784.0   \n",
       "5907    2015    101 LARCHMONT BL N           1966     120476.0   \n",
       "672023  2016  11600 SAN VICENTE BL           1936     116816.0   \n",
       "76839   2015      12100 VENTURA BL           1494      93902.0   \n",
       "854193  2016      2377 MIDVALE AVE           1458      90146.0   \n",
       "64066   2015  11700 SAN VICENTE BL           1422      85762.0   \n",
       "60981   2015  11601 SAN VICENTE BL           1397      83161.0   \n",
       "170060  2015    1608 PACIFIC AVE S           1370      83887.0   \n",
       "\n",
       "                       block  \n",
       "60870   11600 SAN VICENTE BL  \n",
       "84864       1200 FIGUEROA PL  \n",
       "708260     1300 ELECTRIC AVE  \n",
       "5907      100 LARCHMONT BL N  \n",
       "672023  11600 SAN VICENTE BL  \n",
       "76839       12100 VENTURA BL  \n",
       "854193      2300 MIDVALE AVE  \n",
       "64066   11700 SAN VICENTE BL  \n",
       "60981   11600 SAN VICENTE BL  \n",
       "170060    1600 PACIFIC AVE S  "
      ]
     },
     "execution_count": 102,
     "metadata": {},
     "output_type": "execute_result"
    }
   ],
   "source": [
    "street_citations.head(10)"
   ]
  },
  {
   "cell_type": "code",
   "execution_count": 105,
   "metadata": {},
   "outputs": [
    {
     "data": {
      "text/html": [
       "<div>\n",
       "<style scoped>\n",
       "    .dataframe tbody tr th:only-of-type {\n",
       "        vertical-align: middle;\n",
       "    }\n",
       "\n",
       "    .dataframe tbody tr th {\n",
       "        vertical-align: top;\n",
       "    }\n",
       "\n",
       "    .dataframe thead th {\n",
       "        text-align: right;\n",
       "    }\n",
       "</style>\n",
       "<table border=\"1\" class=\"dataframe\">\n",
       "  <thead>\n",
       "    <tr style=\"text-align: right;\">\n",
       "      <th></th>\n",
       "      <th>year</th>\n",
       "      <th>block</th>\n",
       "      <th>ticket_number</th>\n",
       "      <th>fine_amount</th>\n",
       "    </tr>\n",
       "  </thead>\n",
       "  <tbody>\n",
       "    <tr>\n",
       "      <th>0</th>\n",
       "      <td>2015</td>\n",
       "      <td>0 WASHINGTON BLVD E</td>\n",
       "      <td>5491</td>\n",
       "      <td>334621.0</td>\n",
       "    </tr>\n",
       "    <tr>\n",
       "      <th>1</th>\n",
       "      <td>2015</td>\n",
       "      <td>11600 SAN VICENTE BL</td>\n",
       "      <td>5094</td>\n",
       "      <td>304131.0</td>\n",
       "    </tr>\n",
       "    <tr>\n",
       "      <th>2</th>\n",
       "      <td>2015</td>\n",
       "      <td>100 LARCHMONT BL N</td>\n",
       "      <td>5094</td>\n",
       "      <td>308442.0</td>\n",
       "    </tr>\n",
       "    <tr>\n",
       "      <th>3</th>\n",
       "      <td>2016</td>\n",
       "      <td>11600 SAN VICENTE BL</td>\n",
       "      <td>3792</td>\n",
       "      <td>228214.0</td>\n",
       "    </tr>\n",
       "    <tr>\n",
       "      <th>4</th>\n",
       "      <td>2015</td>\n",
       "      <td>700 WALL ST S</td>\n",
       "      <td>3729</td>\n",
       "      <td>223087.0</td>\n",
       "    </tr>\n",
       "  </tbody>\n",
       "</table>\n",
       "</div>"
      ],
      "text/plain": [
       "   year                 block  ticket_number  fine_amount\n",
       "0  2015   0 WASHINGTON BLVD E           5491     334621.0\n",
       "1  2015  11600 SAN VICENTE BL           5094     304131.0\n",
       "2  2015    100 LARCHMONT BL N           5094     308442.0\n",
       "3  2016  11600 SAN VICENTE BL           3792     228214.0\n",
       "4  2015         700 WALL ST S           3729     223087.0"
      ]
     },
     "execution_count": 105,
     "metadata": {},
     "output_type": "execute_result"
    }
   ],
   "source": [
    "## Group by block\n",
    "block_citation = street_citations\\\n",
    "    .groupby(['year', 'block'])\\\n",
    "    .agg({'ticket_number': 'sum', 'fine_amount': 'sum'})\\\n",
    "    .sort_values(by = 'ticket_number', ascending = False).reset_index()\n",
    "block_citation.head()"
   ]
  },
  {
   "cell_type": "code",
   "execution_count": 106,
   "metadata": {},
   "outputs": [],
   "source": [
    "block_citation['fine_amount'] = pd.to_numeric(block_citation.fine_amount, downcast='unsigned')"
   ]
  },
  {
   "cell_type": "code",
   "execution_count": 109,
   "metadata": {},
   "outputs": [],
   "source": [
    "block_citation.columns = ['year', 'block', 'number_of_citations', 'revenue']"
   ]
  },
  {
   "cell_type": "code",
   "execution_count": 111,
   "metadata": {},
   "outputs": [
    {
     "data": {
      "text/html": [
       "<div>\n",
       "<style scoped>\n",
       "    .dataframe tbody tr th:only-of-type {\n",
       "        vertical-align: middle;\n",
       "    }\n",
       "\n",
       "    .dataframe tbody tr th {\n",
       "        vertical-align: top;\n",
       "    }\n",
       "\n",
       "    .dataframe thead th {\n",
       "        text-align: right;\n",
       "    }\n",
       "</style>\n",
       "<table border=\"1\" class=\"dataframe\">\n",
       "  <thead>\n",
       "    <tr style=\"text-align: right;\">\n",
       "      <th></th>\n",
       "      <th>year</th>\n",
       "      <th>block</th>\n",
       "      <th>number_of_citations</th>\n",
       "      <th>revenue</th>\n",
       "    </tr>\n",
       "  </thead>\n",
       "  <tbody>\n",
       "    <tr>\n",
       "      <th>0</th>\n",
       "      <td>2015</td>\n",
       "      <td>0 WASHINGTON BLVD E</td>\n",
       "      <td>5491</td>\n",
       "      <td>334621</td>\n",
       "    </tr>\n",
       "    <tr>\n",
       "      <th>1</th>\n",
       "      <td>2015</td>\n",
       "      <td>11600 SAN VICENTE BL</td>\n",
       "      <td>5094</td>\n",
       "      <td>304131</td>\n",
       "    </tr>\n",
       "    <tr>\n",
       "      <th>2</th>\n",
       "      <td>2015</td>\n",
       "      <td>100 LARCHMONT BL N</td>\n",
       "      <td>5094</td>\n",
       "      <td>308442</td>\n",
       "    </tr>\n",
       "    <tr>\n",
       "      <th>3</th>\n",
       "      <td>2016</td>\n",
       "      <td>11600 SAN VICENTE BL</td>\n",
       "      <td>3792</td>\n",
       "      <td>228214</td>\n",
       "    </tr>\n",
       "    <tr>\n",
       "      <th>4</th>\n",
       "      <td>2015</td>\n",
       "      <td>700 WALL ST S</td>\n",
       "      <td>3729</td>\n",
       "      <td>223087</td>\n",
       "    </tr>\n",
       "  </tbody>\n",
       "</table>\n",
       "</div>"
      ],
      "text/plain": [
       "   year                 block  number_of_citations  revenue\n",
       "0  2015   0 WASHINGTON BLVD E                 5491   334621\n",
       "1  2015  11600 SAN VICENTE BL                 5094   304131\n",
       "2  2015    100 LARCHMONT BL N                 5094   308442\n",
       "3  2016  11600 SAN VICENTE BL                 3792   228214\n",
       "4  2015         700 WALL ST S                 3729   223087"
      ]
     },
     "execution_count": 111,
     "metadata": {},
     "output_type": "execute_result"
    }
   ],
   "source": [
    "block_citation.head()"
   ]
  },
  {
   "cell_type": "code",
   "execution_count": 112,
   "metadata": {},
   "outputs": [
    {
     "name": "stdout",
     "output_type": "stream",
     "text": [
      "<class 'pandas.core.frame.DataFrame'>\n",
      "RangeIndex: 248838 entries, 0 to 248837\n",
      "Data columns (total 4 columns):\n",
      "year                   248838 non-null int64\n",
      "block                  248838 non-null object\n",
      "number_of_citations    248838 non-null int64\n",
      "revenue                248838 non-null uint32\n",
      "dtypes: int64(2), object(1), uint32(1)\n",
      "memory usage: 6.6+ MB\n"
     ]
    }
   ],
   "source": [
    "block_citation.info()"
   ]
  },
  {
   "cell_type": "code",
   "execution_count": 129,
   "metadata": {},
   "outputs": [],
   "source": [
    "block_citation.to_csv('dataset/block_citation.csv', index = False)"
   ]
  },
  {
   "cell_type": "markdown",
   "metadata": {},
   "source": [
    "## Top Block Citation Plus there GPS coordinates"
   ]
  },
  {
   "cell_type": "code",
   "execution_count": 116,
   "metadata": {},
   "outputs": [],
   "source": [
    "## Dataframe is pre-sorted\n",
    "## Get top 10 for each year\n",
    "top_block = pd.concat([block_citation.query('year == 2015').head(10),\n",
    "                       block_citation.query('year == 2016').head(10)], ignore_index=True)"
   ]
  },
  {
   "cell_type": "code",
   "execution_count": 136,
   "metadata": {},
   "outputs": [],
   "source": [
    "## Manually search on google map\n",
    "## Reason because address can be ambigous \n",
    "## like 11700 Barrington CT S has multiple options:\n",
    "## South Barrington or Barrington Court\n",
    "gps = [['0 WASHINGTON BLVD E', 34.031056, -118.264450],\n",
    "       ['11600 SAN VICENTE BL', 34.053524, -118.461610],\n",
    "       ['100 LARCHMONT BL N', 34.073213, -118.323628],\n",
    "       ['700 WALL ST S', 34.041417, -118.249039],\n",
    "       ['0 WINDWARD AVE E', 33.987279, -118.472977],\n",
    "       ['7000 HAWTHORN AVE', 34.100360, -118.342598],\n",
    "       ['11700 SAN VICENTE BL', 34.053356, -118.466455],\n",
    "       ['12100 VENTURA BL', 34.143420, -118.396918],\n",
    "       ['300 2ND ST E', 34.048428, -118.240440],\n",
    "       ['11700 BARRINGTON CT S', 34.064209, -118.469739],\n",
    "       ['11600 SAN VICENTE BL', 34.053524, -118.461610],\n",
    "       ['7000 HAWTHORN AVE', 34.100360, -118.342598],\n",
    "       ['100 LARCHMONT BL N', 34.073213, -118.323628],\n",
    "       ['700 WALL ST S', 34.041417, -118.249039],\n",
    "       ['0 WASHINGTON BLVD E', 34.031056, -118.264450],\n",
    "       ['1600 ORANGE DR N', 34.100784, -118.341414],\n",
    "       ['11700 SAN VICENTE BL', 34.053356, -118.466455],\n",
    "       ['1300 ELECTRIC AVE', 33.991233, -118.466241],\n",
    "       ['12100 VENTURA BL', 34.143420, -118.396918],\n",
    "       ['2300 MIDVALE AVE', 34.040915, -118.430583]]\n",
    "gps_df = pd.DataFrame(gps, columns = ['loc', 'lat', 'long'])"
   ]
  },
  {
   "cell_type": "code",
   "execution_count": 137,
   "metadata": {},
   "outputs": [],
   "source": [
    "top_block['latitude'] = gps_df.lat\n",
    "top_block['longitude'] = gps_df.long"
   ]
  },
  {
   "cell_type": "code",
   "execution_count": 138,
   "metadata": {
    "scrolled": false
   },
   "outputs": [
    {
     "data": {
      "text/html": [
       "<div>\n",
       "<style scoped>\n",
       "    .dataframe tbody tr th:only-of-type {\n",
       "        vertical-align: middle;\n",
       "    }\n",
       "\n",
       "    .dataframe tbody tr th {\n",
       "        vertical-align: top;\n",
       "    }\n",
       "\n",
       "    .dataframe thead th {\n",
       "        text-align: right;\n",
       "    }\n",
       "</style>\n",
       "<table border=\"1\" class=\"dataframe\">\n",
       "  <thead>\n",
       "    <tr style=\"text-align: right;\">\n",
       "      <th></th>\n",
       "      <th>year</th>\n",
       "      <th>block</th>\n",
       "      <th>number_of_citations</th>\n",
       "      <th>revenue</th>\n",
       "      <th>latitude</th>\n",
       "      <th>longitude</th>\n",
       "    </tr>\n",
       "  </thead>\n",
       "  <tbody>\n",
       "    <tr>\n",
       "      <th>0</th>\n",
       "      <td>2015</td>\n",
       "      <td>0 WASHINGTON BLVD E</td>\n",
       "      <td>5491</td>\n",
       "      <td>334621</td>\n",
       "      <td>34.031056</td>\n",
       "      <td>-118.264450</td>\n",
       "    </tr>\n",
       "    <tr>\n",
       "      <th>1</th>\n",
       "      <td>2015</td>\n",
       "      <td>11600 SAN VICENTE BL</td>\n",
       "      <td>5094</td>\n",
       "      <td>304131</td>\n",
       "      <td>34.053524</td>\n",
       "      <td>-118.461610</td>\n",
       "    </tr>\n",
       "    <tr>\n",
       "      <th>2</th>\n",
       "      <td>2015</td>\n",
       "      <td>100 LARCHMONT BL N</td>\n",
       "      <td>5094</td>\n",
       "      <td>308442</td>\n",
       "      <td>34.073213</td>\n",
       "      <td>-118.323628</td>\n",
       "    </tr>\n",
       "    <tr>\n",
       "      <th>3</th>\n",
       "      <td>2015</td>\n",
       "      <td>700 WALL ST S</td>\n",
       "      <td>3729</td>\n",
       "      <td>223087</td>\n",
       "      <td>34.041417</td>\n",
       "      <td>-118.249039</td>\n",
       "    </tr>\n",
       "    <tr>\n",
       "      <th>4</th>\n",
       "      <td>2015</td>\n",
       "      <td>0 WINDWARD AVE E</td>\n",
       "      <td>3577</td>\n",
       "      <td>223083</td>\n",
       "      <td>33.987279</td>\n",
       "      <td>-118.472977</td>\n",
       "    </tr>\n",
       "    <tr>\n",
       "      <th>5</th>\n",
       "      <td>2015</td>\n",
       "      <td>7000 HAWTHORN AVE</td>\n",
       "      <td>3523</td>\n",
       "      <td>240308</td>\n",
       "      <td>34.100360</td>\n",
       "      <td>-118.342598</td>\n",
       "    </tr>\n",
       "    <tr>\n",
       "      <th>6</th>\n",
       "      <td>2015</td>\n",
       "      <td>11700 SAN VICENTE BL</td>\n",
       "      <td>3162</td>\n",
       "      <td>191433</td>\n",
       "      <td>34.053356</td>\n",
       "      <td>-118.466455</td>\n",
       "    </tr>\n",
       "    <tr>\n",
       "      <th>7</th>\n",
       "      <td>2015</td>\n",
       "      <td>12100 VENTURA BL</td>\n",
       "      <td>3010</td>\n",
       "      <td>190039</td>\n",
       "      <td>34.143420</td>\n",
       "      <td>-118.396918</td>\n",
       "    </tr>\n",
       "    <tr>\n",
       "      <th>8</th>\n",
       "      <td>2015</td>\n",
       "      <td>300 2ND ST E</td>\n",
       "      <td>2802</td>\n",
       "      <td>184124</td>\n",
       "      <td>34.048428</td>\n",
       "      <td>-118.240440</td>\n",
       "    </tr>\n",
       "    <tr>\n",
       "      <th>9</th>\n",
       "      <td>2015</td>\n",
       "      <td>11700 BARRINGTON CT S</td>\n",
       "      <td>2632</td>\n",
       "      <td>158913</td>\n",
       "      <td>34.064209</td>\n",
       "      <td>-118.469739</td>\n",
       "    </tr>\n",
       "    <tr>\n",
       "      <th>10</th>\n",
       "      <td>2016</td>\n",
       "      <td>11600 SAN VICENTE BL</td>\n",
       "      <td>3792</td>\n",
       "      <td>228214</td>\n",
       "      <td>34.053524</td>\n",
       "      <td>-118.461610</td>\n",
       "    </tr>\n",
       "    <tr>\n",
       "      <th>11</th>\n",
       "      <td>2016</td>\n",
       "      <td>7000 HAWTHORN AVE</td>\n",
       "      <td>3597</td>\n",
       "      <td>249782</td>\n",
       "      <td>34.100360</td>\n",
       "      <td>-118.342598</td>\n",
       "    </tr>\n",
       "    <tr>\n",
       "      <th>12</th>\n",
       "      <td>2016</td>\n",
       "      <td>100 LARCHMONT BL N</td>\n",
       "      <td>3394</td>\n",
       "      <td>204961</td>\n",
       "      <td>34.073213</td>\n",
       "      <td>-118.323628</td>\n",
       "    </tr>\n",
       "    <tr>\n",
       "      <th>13</th>\n",
       "      <td>2016</td>\n",
       "      <td>700 WALL ST S</td>\n",
       "      <td>3261</td>\n",
       "      <td>195517</td>\n",
       "      <td>34.041417</td>\n",
       "      <td>-118.249039</td>\n",
       "    </tr>\n",
       "    <tr>\n",
       "      <th>14</th>\n",
       "      <td>2016</td>\n",
       "      <td>0 WASHINGTON BLVD E</td>\n",
       "      <td>3185</td>\n",
       "      <td>194665</td>\n",
       "      <td>34.031056</td>\n",
       "      <td>-118.264450</td>\n",
       "    </tr>\n",
       "    <tr>\n",
       "      <th>15</th>\n",
       "      <td>2016</td>\n",
       "      <td>1600 ORANGE DR N</td>\n",
       "      <td>2568</td>\n",
       "      <td>174305</td>\n",
       "      <td>34.100784</td>\n",
       "      <td>-118.341414</td>\n",
       "    </tr>\n",
       "    <tr>\n",
       "      <th>16</th>\n",
       "      <td>2016</td>\n",
       "      <td>11700 SAN VICENTE BL</td>\n",
       "      <td>2500</td>\n",
       "      <td>150864</td>\n",
       "      <td>34.053356</td>\n",
       "      <td>-118.466455</td>\n",
       "    </tr>\n",
       "    <tr>\n",
       "      <th>17</th>\n",
       "      <td>2016</td>\n",
       "      <td>1300 ELECTRIC AVE</td>\n",
       "      <td>2205</td>\n",
       "      <td>134368</td>\n",
       "      <td>33.991233</td>\n",
       "      <td>-118.466241</td>\n",
       "    </tr>\n",
       "    <tr>\n",
       "      <th>18</th>\n",
       "      <td>2016</td>\n",
       "      <td>12100 VENTURA BL</td>\n",
       "      <td>2141</td>\n",
       "      <td>131435</td>\n",
       "      <td>34.143420</td>\n",
       "      <td>-118.396918</td>\n",
       "    </tr>\n",
       "    <tr>\n",
       "      <th>19</th>\n",
       "      <td>2016</td>\n",
       "      <td>2300 MIDVALE AVE</td>\n",
       "      <td>2020</td>\n",
       "      <td>126482</td>\n",
       "      <td>34.040915</td>\n",
       "      <td>-118.430583</td>\n",
       "    </tr>\n",
       "  </tbody>\n",
       "</table>\n",
       "</div>"
      ],
      "text/plain": [
       "    year                  block  number_of_citations  revenue   latitude  \\\n",
       "0   2015    0 WASHINGTON BLVD E                 5491   334621  34.031056   \n",
       "1   2015   11600 SAN VICENTE BL                 5094   304131  34.053524   \n",
       "2   2015     100 LARCHMONT BL N                 5094   308442  34.073213   \n",
       "3   2015          700 WALL ST S                 3729   223087  34.041417   \n",
       "4   2015       0 WINDWARD AVE E                 3577   223083  33.987279   \n",
       "5   2015      7000 HAWTHORN AVE                 3523   240308  34.100360   \n",
       "6   2015   11700 SAN VICENTE BL                 3162   191433  34.053356   \n",
       "7   2015       12100 VENTURA BL                 3010   190039  34.143420   \n",
       "8   2015           300 2ND ST E                 2802   184124  34.048428   \n",
       "9   2015  11700 BARRINGTON CT S                 2632   158913  34.064209   \n",
       "10  2016   11600 SAN VICENTE BL                 3792   228214  34.053524   \n",
       "11  2016      7000 HAWTHORN AVE                 3597   249782  34.100360   \n",
       "12  2016     100 LARCHMONT BL N                 3394   204961  34.073213   \n",
       "13  2016          700 WALL ST S                 3261   195517  34.041417   \n",
       "14  2016    0 WASHINGTON BLVD E                 3185   194665  34.031056   \n",
       "15  2016       1600 ORANGE DR N                 2568   174305  34.100784   \n",
       "16  2016   11700 SAN VICENTE BL                 2500   150864  34.053356   \n",
       "17  2016      1300 ELECTRIC AVE                 2205   134368  33.991233   \n",
       "18  2016       12100 VENTURA BL                 2141   131435  34.143420   \n",
       "19  2016       2300 MIDVALE AVE                 2020   126482  34.040915   \n",
       "\n",
       "     longitude  \n",
       "0  -118.264450  \n",
       "1  -118.461610  \n",
       "2  -118.323628  \n",
       "3  -118.249039  \n",
       "4  -118.472977  \n",
       "5  -118.342598  \n",
       "6  -118.466455  \n",
       "7  -118.396918  \n",
       "8  -118.240440  \n",
       "9  -118.469739  \n",
       "10 -118.461610  \n",
       "11 -118.342598  \n",
       "12 -118.323628  \n",
       "13 -118.249039  \n",
       "14 -118.264450  \n",
       "15 -118.341414  \n",
       "16 -118.466455  \n",
       "17 -118.466241  \n",
       "18 -118.396918  \n",
       "19 -118.430583  "
      ]
     },
     "execution_count": 138,
     "metadata": {},
     "output_type": "execute_result"
    }
   ],
   "source": [
    "top_block"
   ]
  },
  {
   "cell_type": "code",
   "execution_count": 139,
   "metadata": {},
   "outputs": [],
   "source": [
    "top_block.to_csv('dataset/top_block_gps.csv', index=False)"
   ]
  }
 ],
 "metadata": {
  "kernelspec": {
   "display_name": "Python 3",
   "language": "python",
   "name": "python3"
  },
  "language_info": {
   "codemirror_mode": {
    "name": "ipython",
    "version": 3
   },
   "file_extension": ".py",
   "mimetype": "text/x-python",
   "name": "python",
   "nbconvert_exporter": "python",
   "pygments_lexer": "ipython3",
   "version": "3.6.3"
  }
 },
 "nbformat": 4,
 "nbformat_minor": 2
}
